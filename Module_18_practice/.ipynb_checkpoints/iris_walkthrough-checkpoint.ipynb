{
 "cells": [
  {
   "cell_type": "code",
   "execution_count": 3,
   "metadata": {
    "scrolled": true
   },
   "outputs": [
    {
     "name": "stdout",
     "output_type": "stream",
     "text": [
      "Requirement already satisfied: plotly_express==0.4.0 in /Users/a56k/opt/anaconda3/lib/python3.8/site-packages (0.4.0)\n",
      "Requirement already satisfied: scipy>=0.18 in /Users/a56k/opt/anaconda3/lib/python3.8/site-packages (from plotly_express==0.4.0) (1.5.0)\n",
      "Requirement already satisfied: plotly>=4.0.0 in /Users/a56k/opt/anaconda3/lib/python3.8/site-packages (from plotly_express==0.4.0) (4.14.3)\n",
      "Requirement already satisfied: pandas>=0.20.0 in /Users/a56k/opt/anaconda3/lib/python3.8/site-packages (from plotly_express==0.4.0) (1.0.5)\n",
      "Requirement already satisfied: statsmodels>=0.9.0 in /Users/a56k/opt/anaconda3/lib/python3.8/site-packages (from plotly_express==0.4.0) (0.11.1)\n",
      "Requirement already satisfied: patsy>=0.5 in /Users/a56k/opt/anaconda3/lib/python3.8/site-packages (from plotly_express==0.4.0) (0.5.1)\n",
      "Requirement already satisfied: numpy>=1.11 in /Users/a56k/opt/anaconda3/lib/python3.8/site-packages (from plotly_express==0.4.0) (1.18.5)\n",
      "Requirement already satisfied: retrying>=1.3.3 in /Users/a56k/opt/anaconda3/lib/python3.8/site-packages (from plotly>=4.0.0->plotly_express==0.4.0) (1.3.3)\n",
      "Requirement already satisfied: six in /Users/a56k/opt/anaconda3/lib/python3.8/site-packages (from plotly>=4.0.0->plotly_express==0.4.0) (1.15.0)\n",
      "Requirement already satisfied: python-dateutil>=2.6.1 in /Users/a56k/opt/anaconda3/lib/python3.8/site-packages (from pandas>=0.20.0->plotly_express==0.4.0) (2.8.1)\n",
      "Requirement already satisfied: pytz>=2017.2 in /Users/a56k/opt/anaconda3/lib/python3.8/site-packages (from pandas>=0.20.0->plotly_express==0.4.0) (2020.1)\n"
     ]
    }
   ],
   "source": [
    "!pip install plotly_express==0.4.0"
   ]
  },
  {
   "cell_type": "code",
   "execution_count": 4,
   "metadata": {
    "scrolled": true
   },
   "outputs": [
    {
     "name": "stdout",
     "output_type": "stream",
     "text": [
      "Requirement already satisfied: hvplot in /Users/a56k/opt/anaconda3/lib/python3.8/site-packages (0.7.1.post2+g7f619b0)\n",
      "Requirement already satisfied: numpy>=1.15 in /Users/a56k/opt/anaconda3/lib/python3.8/site-packages (from hvplot) (1.18.5)\n",
      "Requirement already satisfied: bokeh>=1.0.0 in /Users/a56k/opt/anaconda3/lib/python3.8/site-packages (from hvplot) (2.3.0)\n",
      "Requirement already satisfied: colorcet>=2 in /Users/a56k/opt/anaconda3/lib/python3.8/site-packages (from hvplot) (2.0.6)\n",
      "Requirement already satisfied: holoviews>=1.11.0 in /Users/a56k/opt/anaconda3/lib/python3.8/site-packages (from hvplot) (1.14.3a1.post3+gb8be99c1b)\n",
      "Requirement already satisfied: pandas in /Users/a56k/opt/anaconda3/lib/python3.8/site-packages (from hvplot) (1.0.5)\n",
      "Requirement already satisfied: pillow>=7.1.0 in /Users/a56k/opt/anaconda3/lib/python3.8/site-packages (from bokeh>=1.0.0->hvplot) (7.2.0)\n",
      "Requirement already satisfied: typing-extensions>=3.7.4 in /Users/a56k/opt/anaconda3/lib/python3.8/site-packages (from bokeh>=1.0.0->hvplot) (3.7.4.2)\n",
      "Requirement already satisfied: packaging>=16.8 in /Users/a56k/opt/anaconda3/lib/python3.8/site-packages (from bokeh>=1.0.0->hvplot) (20.4)\n",
      "Requirement already satisfied: PyYAML>=3.10 in /Users/a56k/opt/anaconda3/lib/python3.8/site-packages (from bokeh>=1.0.0->hvplot) (5.3.1)\n",
      "Requirement already satisfied: Jinja2>=2.7 in /Users/a56k/opt/anaconda3/lib/python3.8/site-packages (from bokeh>=1.0.0->hvplot) (2.11.2)\n",
      "Requirement already satisfied: tornado>=5.1 in /Users/a56k/opt/anaconda3/lib/python3.8/site-packages (from bokeh>=1.0.0->hvplot) (6.0.4)\n",
      "Requirement already satisfied: python-dateutil>=2.1 in /Users/a56k/opt/anaconda3/lib/python3.8/site-packages (from bokeh>=1.0.0->hvplot) (2.8.1)\n",
      "Requirement already satisfied: param>=1.7.0 in /Users/a56k/opt/anaconda3/lib/python3.8/site-packages (from colorcet>=2->hvplot) (1.10.1)\n",
      "Requirement already satisfied: pyct>=0.4.4 in /Users/a56k/opt/anaconda3/lib/python3.8/site-packages (from colorcet>=2->hvplot) (0.4.8)\n",
      "Requirement already satisfied: pyviz-comms>=0.7.4 in /Users/a56k/opt/anaconda3/lib/python3.8/site-packages (from holoviews>=1.11.0->hvplot) (2.0.1)\n",
      "Requirement already satisfied: panel>=0.8.0 in /Users/a56k/opt/anaconda3/lib/python3.8/site-packages (from holoviews>=1.11.0->hvplot) (0.11.1)\n",
      "Requirement already satisfied: pytz>=2017.2 in /Users/a56k/opt/anaconda3/lib/python3.8/site-packages (from pandas->hvplot) (2020.1)\n",
      "Requirement already satisfied: pyparsing>=2.0.2 in /Users/a56k/opt/anaconda3/lib/python3.8/site-packages (from packaging>=16.8->bokeh>=1.0.0->hvplot) (2.4.7)\n",
      "Requirement already satisfied: six in /Users/a56k/opt/anaconda3/lib/python3.8/site-packages (from packaging>=16.8->bokeh>=1.0.0->hvplot) (1.15.0)\n",
      "Requirement already satisfied: MarkupSafe>=0.23 in /Users/a56k/opt/anaconda3/lib/python3.8/site-packages (from Jinja2>=2.7->bokeh>=1.0.0->hvplot) (1.1.1)\n",
      "Requirement already satisfied: markdown in /Users/a56k/opt/anaconda3/lib/python3.8/site-packages (from panel>=0.8.0->holoviews>=1.11.0->hvplot) (3.3.4)\n",
      "Requirement already satisfied: requests in /Users/a56k/opt/anaconda3/lib/python3.8/site-packages (from panel>=0.8.0->holoviews>=1.11.0->hvplot) (2.24.0)\n",
      "Requirement already satisfied: tqdm in /Users/a56k/opt/anaconda3/lib/python3.8/site-packages (from panel>=0.8.0->holoviews>=1.11.0->hvplot) (4.47.0)\n",
      "Requirement already satisfied: chardet<4,>=3.0.2 in /Users/a56k/opt/anaconda3/lib/python3.8/site-packages (from requests->panel>=0.8.0->holoviews>=1.11.0->hvplot) (3.0.4)\n",
      "Requirement already satisfied: idna<3,>=2.5 in /Users/a56k/opt/anaconda3/lib/python3.8/site-packages (from requests->panel>=0.8.0->holoviews>=1.11.0->hvplot) (2.10)\n",
      "Requirement already satisfied: certifi>=2017.4.17 in /Users/a56k/opt/anaconda3/lib/python3.8/site-packages (from requests->panel>=0.8.0->holoviews>=1.11.0->hvplot) (2020.6.20)\n",
      "Requirement already satisfied: urllib3!=1.25.0,!=1.25.1,<1.26,>=1.21.1 in /Users/a56k/opt/anaconda3/lib/python3.8/site-packages (from requests->panel>=0.8.0->holoviews>=1.11.0->hvplot) (1.25.9)\n"
     ]
    }
   ],
   "source": [
    "!pip install hvplot"
   ]
  },
  {
   "cell_type": "code",
   "execution_count": 5,
   "metadata": {
    "scrolled": true
   },
   "outputs": [
    {
     "ename": "ImportError",
     "evalue": "attempted relative import with no known parent package",
     "output_type": "error",
     "traceback": [
      "\u001b[0;31m---------------------------------------------------------------------------\u001b[0m",
      "\u001b[0;31mImportError\u001b[0m                               Traceback (most recent call last)",
      "\u001b[0;32m<ipython-input-5-1a1e09f78042>\u001b[0m in \u001b[0;36m<module>\u001b[0;34m\u001b[0m\n\u001b[1;32m      4\u001b[0m \u001b[0;34m\u001b[0m\u001b[0m\n\u001b[1;32m      5\u001b[0m \u001b[0;31m# Bokeh imports\u001b[0m\u001b[0;34m\u001b[0m\u001b[0;34m\u001b[0m\u001b[0;34m\u001b[0m\u001b[0m\n\u001b[0;32m----> 6\u001b[0;31m \u001b[0;32mfrom\u001b[0m \u001b[0;34m.\u001b[0m\u001b[0msingletons\u001b[0m \u001b[0;32mimport\u001b[0m \u001b[0mUndefined\u001b[0m\u001b[0;34m\u001b[0m\u001b[0;34m\u001b[0m\u001b[0m\n\u001b[0m\u001b[1;32m      7\u001b[0m \u001b[0;32mfrom\u001b[0m \u001b[0;34m.\u001b[0m\u001b[0mwrappers\u001b[0m \u001b[0;32mimport\u001b[0m \u001b[0mPropertyValueColumnData\u001b[0m\u001b[0;34m,\u001b[0m \u001b[0mPropertyValueContainer\u001b[0m\u001b[0;34m\u001b[0m\u001b[0;34m\u001b[0m\u001b[0m\n",
      "\u001b[0;31mImportError\u001b[0m: attempted relative import with no known parent package"
     ]
    }
   ],
   "source": [
    "# Standard library imports\n",
    "from copy import copy\n",
    "from typing import Any\n",
    "\n",
    "# Bokeh imports\n",
    "from .singletons import Undefined\n",
    "from .wrappers import PropertyValueColumnData, PropertyValueContainer"
   ]
  },
  {
   "cell_type": "code",
   "execution_count": null,
   "metadata": {},
   "outputs": [],
   "source": [
    "!pip install git+https://github.com/holoviz/holoviews.git"
   ]
  },
  {
   "cell_type": "code",
   "execution_count": 24,
   "metadata": {
    "scrolled": true
   },
   "outputs": [],
   "source": [
    "import pandas as pd\n",
    "import pandas as pd\n",
    "import plotly.express as px\n",
    "import hvplot.pandas\n",
    "from sklearn.cluster import KMeans"
   ]
  },
  {
   "cell_type": "code",
   "execution_count": 25,
   "metadata": {
    "scrolled": true
   },
   "outputs": [
    {
     "name": "stdout",
     "output_type": "stream",
     "text": [
      "Collecting git+https://github.com/holoviz/hvplot.git\n",
      "  Cloning https://github.com/holoviz/hvplot.git to /private/var/folders/l_/27h89sy54d570_yrvcws3yzc0000gn/T/pip-req-build-o1wkyj58\n",
      "  Running command git clone -q https://github.com/holoviz/hvplot.git /private/var/folders/l_/27h89sy54d570_yrvcws3yzc0000gn/T/pip-req-build-o1wkyj58\n",
      "  Installing build dependencies ... \u001b[?25ldone\n",
      "\u001b[33m  WARNING: Missing build requirements in pyproject.toml for git+https://github.com/holoviz/hvplot.git.\u001b[0m\n",
      "\u001b[33m  WARNING: The project does not specify a build backend, and pip cannot fall back to setuptools without 'wheel'.\u001b[0m\n",
      "\u001b[?25h  Getting requirements to build wheel ... \u001b[?25ldone\n",
      "\u001b[?25h  Installing backend dependencies ... \u001b[?25ldone\n",
      "\u001b[?25h    Preparing wheel metadata ... \u001b[?25ldone\n",
      "\u001b[?25hRequirement already satisfied (use --upgrade to upgrade): hvplot==0.7.1.post2+g7f619b0 from git+https://github.com/holoviz/hvplot.git in /Users/a56k/opt/anaconda3/lib/python3.8/site-packages\n",
      "Requirement already satisfied: holoviews>=1.11.0 in /Users/a56k/opt/anaconda3/lib/python3.8/site-packages (from hvplot==0.7.1.post2+g7f619b0) (1.14.3a1.post3+gb8be99c1b)\n",
      "Requirement already satisfied: colorcet>=2 in /Users/a56k/opt/anaconda3/lib/python3.8/site-packages (from hvplot==0.7.1.post2+g7f619b0) (2.0.6)\n",
      "Requirement already satisfied: numpy>=1.15 in /Users/a56k/opt/anaconda3/lib/python3.8/site-packages (from hvplot==0.7.1.post2+g7f619b0) (1.18.5)\n",
      "Requirement already satisfied: pandas in /Users/a56k/opt/anaconda3/lib/python3.8/site-packages (from hvplot==0.7.1.post2+g7f619b0) (1.0.5)\n",
      "Requirement already satisfied: bokeh>=1.0.0 in /Users/a56k/opt/anaconda3/lib/python3.8/site-packages (from hvplot==0.7.1.post2+g7f619b0) (2.3.0)\n",
      "Requirement already satisfied: pyviz-comms>=0.7.4 in /Users/a56k/opt/anaconda3/lib/python3.8/site-packages (from holoviews>=1.11.0->hvplot==0.7.1.post2+g7f619b0) (2.0.1)\n",
      "Requirement already satisfied: panel>=0.8.0 in /Users/a56k/opt/anaconda3/lib/python3.8/site-packages (from holoviews>=1.11.0->hvplot==0.7.1.post2+g7f619b0) (0.11.1)\n",
      "Requirement already satisfied: param<2.0,>=1.9.3 in /Users/a56k/opt/anaconda3/lib/python3.8/site-packages (from holoviews>=1.11.0->hvplot==0.7.1.post2+g7f619b0) (1.10.1)\n",
      "Requirement already satisfied: pyct>=0.4.4 in /Users/a56k/opt/anaconda3/lib/python3.8/site-packages (from colorcet>=2->hvplot==0.7.1.post2+g7f619b0) (0.4.8)\n",
      "Requirement already satisfied: python-dateutil>=2.6.1 in /Users/a56k/opt/anaconda3/lib/python3.8/site-packages (from pandas->hvplot==0.7.1.post2+g7f619b0) (2.8.1)\n",
      "Requirement already satisfied: pytz>=2017.2 in /Users/a56k/opt/anaconda3/lib/python3.8/site-packages (from pandas->hvplot==0.7.1.post2+g7f619b0) (2020.1)\n",
      "Requirement already satisfied: typing-extensions>=3.7.4 in /Users/a56k/opt/anaconda3/lib/python3.8/site-packages (from bokeh>=1.0.0->hvplot==0.7.1.post2+g7f619b0) (3.7.4.2)\n",
      "Requirement already satisfied: Jinja2>=2.7 in /Users/a56k/opt/anaconda3/lib/python3.8/site-packages (from bokeh>=1.0.0->hvplot==0.7.1.post2+g7f619b0) (2.11.2)\n",
      "Requirement already satisfied: tornado>=5.1 in /Users/a56k/opt/anaconda3/lib/python3.8/site-packages (from bokeh>=1.0.0->hvplot==0.7.1.post2+g7f619b0) (6.0.4)\n",
      "Requirement already satisfied: pillow>=7.1.0 in /Users/a56k/opt/anaconda3/lib/python3.8/site-packages (from bokeh>=1.0.0->hvplot==0.7.1.post2+g7f619b0) (7.2.0)\n",
      "Requirement already satisfied: PyYAML>=3.10 in /Users/a56k/opt/anaconda3/lib/python3.8/site-packages (from bokeh>=1.0.0->hvplot==0.7.1.post2+g7f619b0) (5.3.1)\n",
      "Requirement already satisfied: packaging>=16.8 in /Users/a56k/opt/anaconda3/lib/python3.8/site-packages (from bokeh>=1.0.0->hvplot==0.7.1.post2+g7f619b0) (20.4)\n",
      "Requirement already satisfied: requests in /Users/a56k/opt/anaconda3/lib/python3.8/site-packages (from panel>=0.8.0->holoviews>=1.11.0->hvplot==0.7.1.post2+g7f619b0) (2.24.0)\n",
      "Requirement already satisfied: tqdm in /Users/a56k/opt/anaconda3/lib/python3.8/site-packages (from panel>=0.8.0->holoviews>=1.11.0->hvplot==0.7.1.post2+g7f619b0) (4.47.0)\n",
      "Requirement already satisfied: markdown in /Users/a56k/opt/anaconda3/lib/python3.8/site-packages (from panel>=0.8.0->holoviews>=1.11.0->hvplot==0.7.1.post2+g7f619b0) (3.3.4)\n",
      "Requirement already satisfied: six>=1.5 in /Users/a56k/opt/anaconda3/lib/python3.8/site-packages (from python-dateutil>=2.6.1->pandas->hvplot==0.7.1.post2+g7f619b0) (1.15.0)\n",
      "Requirement already satisfied: MarkupSafe>=0.23 in /Users/a56k/opt/anaconda3/lib/python3.8/site-packages (from Jinja2>=2.7->bokeh>=1.0.0->hvplot==0.7.1.post2+g7f619b0) (1.1.1)\n",
      "Requirement already satisfied: pyparsing>=2.0.2 in /Users/a56k/opt/anaconda3/lib/python3.8/site-packages (from packaging>=16.8->bokeh>=1.0.0->hvplot==0.7.1.post2+g7f619b0) (2.4.7)\n",
      "Requirement already satisfied: idna<3,>=2.5 in /Users/a56k/opt/anaconda3/lib/python3.8/site-packages (from requests->panel>=0.8.0->holoviews>=1.11.0->hvplot==0.7.1.post2+g7f619b0) (2.10)\n",
      "Requirement already satisfied: chardet<4,>=3.0.2 in /Users/a56k/opt/anaconda3/lib/python3.8/site-packages (from requests->panel>=0.8.0->holoviews>=1.11.0->hvplot==0.7.1.post2+g7f619b0) (3.0.4)\n",
      "Requirement already satisfied: urllib3!=1.25.0,!=1.25.1,<1.26,>=1.21.1 in /Users/a56k/opt/anaconda3/lib/python3.8/site-packages (from requests->panel>=0.8.0->holoviews>=1.11.0->hvplot==0.7.1.post2+g7f619b0) (1.25.9)\n",
      "Requirement already satisfied: certifi>=2017.4.17 in /Users/a56k/opt/anaconda3/lib/python3.8/site-packages (from requests->panel>=0.8.0->holoviews>=1.11.0->hvplot==0.7.1.post2+g7f619b0) (2020.6.20)\n",
      "Building wheels for collected packages: hvplot\n",
      "  Building wheel for hvplot (PEP 517) ... \u001b[?25ldone\n",
      "\u001b[?25h  Created wheel for hvplot: filename=hvplot-0.7.1.post2+g7f619b0-py3-none-any.whl size=3062729 sha256=6ba5006ce392b34f31da1233aa83abb603ddee53d34fedc35aa75b0521d131cd\n",
      "  Stored in directory: /private/var/folders/l_/27h89sy54d570_yrvcws3yzc0000gn/T/pip-ephem-wheel-cache-qjn7fmrc/wheels/d3/c1/6e/dca45ba190e27008341cbafe1b84c016c7a85374292eb5d5aa\n",
      "Successfully built hvplot\n"
     ]
    }
   ],
   "source": [
    "!pip install git+https://github.com/holoviz/hvplot.git"
   ]
  },
  {
   "cell_type": "code",
   "execution_count": 26,
   "metadata": {},
   "outputs": [
    {
     "data": {
      "text/html": [
       "<div>\n",
       "<style scoped>\n",
       "    .dataframe tbody tr th:only-of-type {\n",
       "        vertical-align: middle;\n",
       "    }\n",
       "\n",
       "    .dataframe tbody tr th {\n",
       "        vertical-align: top;\n",
       "    }\n",
       "\n",
       "    .dataframe thead th {\n",
       "        text-align: right;\n",
       "    }\n",
       "</style>\n",
       "<table border=\"1\" class=\"dataframe\">\n",
       "  <thead>\n",
       "    <tr style=\"text-align: right;\">\n",
       "      <th></th>\n",
       "      <th>sepal_length</th>\n",
       "      <th>sepal_width</th>\n",
       "      <th>petal_length</th>\n",
       "      <th>petal_width</th>\n",
       "      <th>class</th>\n",
       "    </tr>\n",
       "  </thead>\n",
       "  <tbody>\n",
       "    <tr>\n",
       "      <th>0</th>\n",
       "      <td>5.1</td>\n",
       "      <td>3.5</td>\n",
       "      <td>1.4</td>\n",
       "      <td>0.2</td>\n",
       "      <td>Iris-setosa</td>\n",
       "    </tr>\n",
       "    <tr>\n",
       "      <th>1</th>\n",
       "      <td>4.9</td>\n",
       "      <td>3.0</td>\n",
       "      <td>1.4</td>\n",
       "      <td>0.2</td>\n",
       "      <td>Iris-setosa</td>\n",
       "    </tr>\n",
       "    <tr>\n",
       "      <th>2</th>\n",
       "      <td>4.7</td>\n",
       "      <td>3.2</td>\n",
       "      <td>1.3</td>\n",
       "      <td>0.2</td>\n",
       "      <td>Iris-setosa</td>\n",
       "    </tr>\n",
       "    <tr>\n",
       "      <th>3</th>\n",
       "      <td>4.6</td>\n",
       "      <td>3.1</td>\n",
       "      <td>1.5</td>\n",
       "      <td>0.2</td>\n",
       "      <td>Iris-setosa</td>\n",
       "    </tr>\n",
       "    <tr>\n",
       "      <th>4</th>\n",
       "      <td>5.0</td>\n",
       "      <td>3.6</td>\n",
       "      <td>1.4</td>\n",
       "      <td>0.2</td>\n",
       "      <td>Iris-setosa</td>\n",
       "    </tr>\n",
       "  </tbody>\n",
       "</table>\n",
       "</div>"
      ],
      "text/plain": [
       "   sepal_length  sepal_width  petal_length  petal_width        class\n",
       "0           5.1          3.5           1.4          0.2  Iris-setosa\n",
       "1           4.9          3.0           1.4          0.2  Iris-setosa\n",
       "2           4.7          3.2           1.3          0.2  Iris-setosa\n",
       "3           4.6          3.1           1.5          0.2  Iris-setosa\n",
       "4           5.0          3.6           1.4          0.2  Iris-setosa"
      ]
     },
     "execution_count": 26,
     "metadata": {},
     "output_type": "execute_result"
    }
   ],
   "source": [
    "file_path = \"../Module_18_practice/iris.csv\"\n",
    "iris_df = pd.read_csv(file_path)\n",
    "iris_df.head()"
   ]
  },
  {
   "cell_type": "code",
   "execution_count": 27,
   "metadata": {},
   "outputs": [
    {
     "data": {
      "text/html": [
       "<div>\n",
       "<style scoped>\n",
       "    .dataframe tbody tr th:only-of-type {\n",
       "        vertical-align: middle;\n",
       "    }\n",
       "\n",
       "    .dataframe tbody tr th {\n",
       "        vertical-align: top;\n",
       "    }\n",
       "\n",
       "    .dataframe thead th {\n",
       "        text-align: right;\n",
       "    }\n",
       "</style>\n",
       "<table border=\"1\" class=\"dataframe\">\n",
       "  <thead>\n",
       "    <tr style=\"text-align: right;\">\n",
       "      <th></th>\n",
       "      <th>sepal_length</th>\n",
       "      <th>sepal_width</th>\n",
       "      <th>petal_length</th>\n",
       "      <th>petal_width</th>\n",
       "    </tr>\n",
       "  </thead>\n",
       "  <tbody>\n",
       "    <tr>\n",
       "      <th>0</th>\n",
       "      <td>5.1</td>\n",
       "      <td>3.5</td>\n",
       "      <td>1.4</td>\n",
       "      <td>0.2</td>\n",
       "    </tr>\n",
       "    <tr>\n",
       "      <th>1</th>\n",
       "      <td>4.9</td>\n",
       "      <td>3.0</td>\n",
       "      <td>1.4</td>\n",
       "      <td>0.2</td>\n",
       "    </tr>\n",
       "    <tr>\n",
       "      <th>2</th>\n",
       "      <td>4.7</td>\n",
       "      <td>3.2</td>\n",
       "      <td>1.3</td>\n",
       "      <td>0.2</td>\n",
       "    </tr>\n",
       "    <tr>\n",
       "      <th>3</th>\n",
       "      <td>4.6</td>\n",
       "      <td>3.1</td>\n",
       "      <td>1.5</td>\n",
       "      <td>0.2</td>\n",
       "    </tr>\n",
       "    <tr>\n",
       "      <th>4</th>\n",
       "      <td>5.0</td>\n",
       "      <td>3.6</td>\n",
       "      <td>1.4</td>\n",
       "      <td>0.2</td>\n",
       "    </tr>\n",
       "  </tbody>\n",
       "</table>\n",
       "</div>"
      ],
      "text/plain": [
       "   sepal_length  sepal_width  petal_length  petal_width\n",
       "0           5.1          3.5           1.4          0.2\n",
       "1           4.9          3.0           1.4          0.2\n",
       "2           4.7          3.2           1.3          0.2\n",
       "3           4.6          3.1           1.5          0.2\n",
       "4           5.0          3.6           1.4          0.2"
      ]
     },
     "execution_count": 27,
     "metadata": {},
     "output_type": "execute_result"
    }
   ],
   "source": [
    "new_iris_df = iris_df.drop([\"class\"], axis=1)\n",
    "new_iris_df.head()"
   ]
  },
  {
   "cell_type": "code",
   "execution_count": 28,
   "metadata": {},
   "outputs": [],
   "source": [
    "# Initial imports\n",
    "import pandas as pd\n",
    "from sklearn.cluster import KMeans\n",
    "import plotly.express as px\n",
    "import hvplot.pandas"
   ]
  },
  {
   "cell_type": "code",
   "execution_count": 29,
   "metadata": {},
   "outputs": [],
   "source": [
    "output_file_path = \"../Module_18_practice/new_iris_data.csv\"\n",
    "new_iris_df.to_csv(output_file_path, index=False)"
   ]
  },
  {
   "cell_type": "code",
   "execution_count": 30,
   "metadata": {},
   "outputs": [
    {
     "data": {
      "text/html": [
       "<div>\n",
       "<style scoped>\n",
       "    .dataframe tbody tr th:only-of-type {\n",
       "        vertical-align: middle;\n",
       "    }\n",
       "\n",
       "    .dataframe tbody tr th {\n",
       "        vertical-align: top;\n",
       "    }\n",
       "\n",
       "    .dataframe thead th {\n",
       "        text-align: right;\n",
       "    }\n",
       "</style>\n",
       "<table border=\"1\" class=\"dataframe\">\n",
       "  <thead>\n",
       "    <tr style=\"text-align: right;\">\n",
       "      <th></th>\n",
       "      <th>sepal_length</th>\n",
       "      <th>sepal_width</th>\n",
       "      <th>petal_length</th>\n",
       "      <th>petal_width</th>\n",
       "    </tr>\n",
       "  </thead>\n",
       "  <tbody>\n",
       "    <tr>\n",
       "      <th>0</th>\n",
       "      <td>5.1</td>\n",
       "      <td>3.5</td>\n",
       "      <td>1.4</td>\n",
       "      <td>0.2</td>\n",
       "    </tr>\n",
       "    <tr>\n",
       "      <th>1</th>\n",
       "      <td>4.9</td>\n",
       "      <td>3.0</td>\n",
       "      <td>1.4</td>\n",
       "      <td>0.2</td>\n",
       "    </tr>\n",
       "    <tr>\n",
       "      <th>2</th>\n",
       "      <td>4.7</td>\n",
       "      <td>3.2</td>\n",
       "      <td>1.3</td>\n",
       "      <td>0.2</td>\n",
       "    </tr>\n",
       "    <tr>\n",
       "      <th>3</th>\n",
       "      <td>4.6</td>\n",
       "      <td>3.1</td>\n",
       "      <td>1.5</td>\n",
       "      <td>0.2</td>\n",
       "    </tr>\n",
       "    <tr>\n",
       "      <th>4</th>\n",
       "      <td>5.0</td>\n",
       "      <td>3.6</td>\n",
       "      <td>1.4</td>\n",
       "      <td>0.2</td>\n",
       "    </tr>\n",
       "    <tr>\n",
       "      <th>5</th>\n",
       "      <td>5.4</td>\n",
       "      <td>3.9</td>\n",
       "      <td>1.7</td>\n",
       "      <td>0.4</td>\n",
       "    </tr>\n",
       "    <tr>\n",
       "      <th>6</th>\n",
       "      <td>4.6</td>\n",
       "      <td>3.4</td>\n",
       "      <td>1.4</td>\n",
       "      <td>0.3</td>\n",
       "    </tr>\n",
       "    <tr>\n",
       "      <th>7</th>\n",
       "      <td>5.0</td>\n",
       "      <td>3.4</td>\n",
       "      <td>1.5</td>\n",
       "      <td>0.2</td>\n",
       "    </tr>\n",
       "    <tr>\n",
       "      <th>8</th>\n",
       "      <td>4.4</td>\n",
       "      <td>2.9</td>\n",
       "      <td>1.4</td>\n",
       "      <td>0.2</td>\n",
       "    </tr>\n",
       "    <tr>\n",
       "      <th>9</th>\n",
       "      <td>4.9</td>\n",
       "      <td>3.1</td>\n",
       "      <td>1.5</td>\n",
       "      <td>0.1</td>\n",
       "    </tr>\n",
       "  </tbody>\n",
       "</table>\n",
       "</div>"
      ],
      "text/plain": [
       "   sepal_length  sepal_width  petal_length  petal_width\n",
       "0           5.1          3.5           1.4          0.2\n",
       "1           4.9          3.0           1.4          0.2\n",
       "2           4.7          3.2           1.3          0.2\n",
       "3           4.6          3.1           1.5          0.2\n",
       "4           5.0          3.6           1.4          0.2\n",
       "5           5.4          3.9           1.7          0.4\n",
       "6           4.6          3.4           1.4          0.3\n",
       "7           5.0          3.4           1.5          0.2\n",
       "8           4.4          2.9           1.4          0.2\n",
       "9           4.9          3.1           1.5          0.1"
      ]
     },
     "execution_count": 30,
     "metadata": {},
     "output_type": "execute_result"
    }
   ],
   "source": [
    "# loading Data\n",
    "file_path = \"../Module_18_practice/new_iris_data.csv\"\n",
    "df_iris = pd.read_csv(file_path)\n",
    "df_iris.head(10)"
   ]
  },
  {
   "cell_type": "code",
   "execution_count": 31,
   "metadata": {},
   "outputs": [
    {
     "data": {
      "text/plain": [
       "KMeans(n_clusters=3, random_state=5)"
      ]
     },
     "execution_count": 31,
     "metadata": {},
     "output_type": "execute_result"
    }
   ],
   "source": [
    "# initializing model with K = 3 (since we alreadt know there are three classes of iris plants)\n",
    "model = KMeans(n_clusters=3, random_state=5)\n",
    "model"
   ]
  },
  {
   "cell_type": "code",
   "execution_count": 32,
   "metadata": {},
   "outputs": [
    {
     "data": {
      "text/plain": [
       "KMeans(n_clusters=3, random_state=5)"
      ]
     },
     "execution_count": 32,
     "metadata": {},
     "output_type": "execute_result"
    }
   ],
   "source": [
    "# Fitting model\n",
    "model.fit(df_iris)"
   ]
  },
  {
   "cell_type": "code",
   "execution_count": 33,
   "metadata": {},
   "outputs": [
    {
     "name": "stdout",
     "output_type": "stream",
     "text": [
      "[1 1 1 1 1 1 1 1 1 1 1 1 1 1 1 1 1 1 1 1 1 1 1 1 1 1 1 1 1 1 1 1 1 1 1 1 1\n",
      " 1 1 1 1 1 1 1 1 1 1 1 1 1 0 0 2 0 0 0 0 0 0 0 0 0 0 0 0 0 0 0 0 0 0 0 0 0\n",
      " 0 0 0 2 0 0 0 0 0 0 0 0 0 0 0 0 0 0 0 0 0 0 0 0 0 0 2 0 2 2 2 2 0 2 2 2 2\n",
      " 2 2 0 0 2 2 2 2 0 2 0 2 0 2 2 0 0 2 2 2 2 2 0 2 2 2 2 0 2 2 2 0 2 2 2 0 2\n",
      " 2 0]\n"
     ]
    }
   ],
   "source": [
    "# Get predictions\n",
    "predictions = model.predict(df_iris)\n",
    "print(predictions)"
   ]
  },
  {
   "cell_type": "code",
   "execution_count": 34,
   "metadata": {},
   "outputs": [
    {
     "data": {
      "text/html": [
       "<div>\n",
       "<style scoped>\n",
       "    .dataframe tbody tr th:only-of-type {\n",
       "        vertical-align: middle;\n",
       "    }\n",
       "\n",
       "    .dataframe tbody tr th {\n",
       "        vertical-align: top;\n",
       "    }\n",
       "\n",
       "    .dataframe thead th {\n",
       "        text-align: right;\n",
       "    }\n",
       "</style>\n",
       "<table border=\"1\" class=\"dataframe\">\n",
       "  <thead>\n",
       "    <tr style=\"text-align: right;\">\n",
       "      <th></th>\n",
       "      <th>sepal_length</th>\n",
       "      <th>sepal_width</th>\n",
       "      <th>petal_length</th>\n",
       "      <th>petal_width</th>\n",
       "      <th>class</th>\n",
       "    </tr>\n",
       "  </thead>\n",
       "  <tbody>\n",
       "    <tr>\n",
       "      <th>0</th>\n",
       "      <td>5.1</td>\n",
       "      <td>3.5</td>\n",
       "      <td>1.4</td>\n",
       "      <td>0.2</td>\n",
       "      <td>1</td>\n",
       "    </tr>\n",
       "    <tr>\n",
       "      <th>1</th>\n",
       "      <td>4.9</td>\n",
       "      <td>3.0</td>\n",
       "      <td>1.4</td>\n",
       "      <td>0.2</td>\n",
       "      <td>1</td>\n",
       "    </tr>\n",
       "    <tr>\n",
       "      <th>2</th>\n",
       "      <td>4.7</td>\n",
       "      <td>3.2</td>\n",
       "      <td>1.3</td>\n",
       "      <td>0.2</td>\n",
       "      <td>1</td>\n",
       "    </tr>\n",
       "    <tr>\n",
       "      <th>3</th>\n",
       "      <td>4.6</td>\n",
       "      <td>3.1</td>\n",
       "      <td>1.5</td>\n",
       "      <td>0.2</td>\n",
       "      <td>1</td>\n",
       "    </tr>\n",
       "    <tr>\n",
       "      <th>4</th>\n",
       "      <td>5.0</td>\n",
       "      <td>3.6</td>\n",
       "      <td>1.4</td>\n",
       "      <td>0.2</td>\n",
       "      <td>1</td>\n",
       "    </tr>\n",
       "  </tbody>\n",
       "</table>\n",
       "</div>"
      ],
      "text/plain": [
       "   sepal_length  sepal_width  petal_length  petal_width  class\n",
       "0           5.1          3.5           1.4          0.2      1\n",
       "1           4.9          3.0           1.4          0.2      1\n",
       "2           4.7          3.2           1.3          0.2      1\n",
       "3           4.6          3.1           1.5          0.2      1\n",
       "4           5.0          3.6           1.4          0.2      1"
      ]
     },
     "execution_count": 34,
     "metadata": {},
     "output_type": "execute_result"
    }
   ],
   "source": [
    "# Add a new class column to the df_iris\n",
    "df_iris[\"class\"] = model.labels_\n",
    "df_iris.head()"
   ]
  },
  {
   "cell_type": "code",
   "execution_count": 35,
   "metadata": {},
   "outputs": [
    {
     "data": {},
     "metadata": {},
     "output_type": "display_data"
    },
    {
     "data": {
      "application/vnd.holoviews_exec.v0+json": "",
      "text/html": [
       "<div id='1310'>\n",
       "\n",
       "\n",
       "\n",
       "\n",
       "\n",
       "  <div class=\"bk-root\" id=\"81a33595-f4ec-4bc7-a967-47060827105d\" data-root-id=\"1310\"></div>\n",
       "</div>\n",
       "<script type=\"application/javascript\">(function(root) {\n",
       "  function embed_document(root) {\n",
       "    var docs_json = {\"cf2b5cd4-88a3-4a1c-8e7c-e76d3efdd0e5\":{\"defs\":[{\"extends\":null,\"module\":null,\"name\":\"DataModel\",\"overrides\":[],\"properties\":[]}],\"roots\":{\"references\":[{\"attributes\":{},\"id\":\"1347\",\"type\":\"BasicTickFormatter\"},{\"attributes\":{\"angle\":{\"value\":0.0},\"fill_alpha\":{\"value\":1.0},\"fill_color\":{\"value\":\"#e5ae38\"},\"hatch_alpha\":{\"value\":1.0},\"hatch_color\":{\"value\":\"black\"},\"hatch_scale\":{\"value\":12.0},\"hatch_weight\":{\"value\":1.0},\"line_alpha\":{\"value\":1.0},\"line_cap\":{\"value\":\"butt\"},\"line_color\":{\"value\":\"#e5ae38\"},\"line_dash\":{\"value\":[]},\"line_dash_offset\":{\"value\":0},\"line_join\":{\"value\":\"bevel\"},\"line_width\":{\"value\":1},\"marker\":{\"value\":\"circle\"},\"size\":{\"value\":5.477225575051661},\"x\":{\"field\":\"sepal_length\"},\"y\":{\"field\":\"sepal_width\"}},\"id\":\"1419\",\"type\":\"Scatter\"},{\"attributes\":{\"callback\":null,\"renderers\":[{\"id\":\"1359\"},{\"id\":\"1380\"},{\"id\":\"1402\"}],\"tags\":[\"hv_created\"],\"tooltips\":[[\"class\",\"@{class}\"],[\"sepal_length\",\"@{sepal_length}\"],[\"sepal_width\",\"@{sepal_width}\"]]},\"id\":\"1314\",\"type\":\"HoverTool\"},{\"attributes\":{},\"id\":\"1349\",\"type\":\"AllLabels\"},{\"attributes\":{\"data_source\":{\"id\":\"1374\"},\"glyph\":{\"id\":\"1377\"},\"hover_glyph\":null,\"muted_glyph\":{\"id\":\"1379\"},\"nonselection_glyph\":{\"id\":\"1378\"},\"selection_glyph\":{\"id\":\"1395\"},\"view\":{\"id\":\"1381\"}},\"id\":\"1380\",\"type\":\"GlyphRenderer\"},{\"attributes\":{},\"id\":\"1350\",\"type\":\"BasicTickFormatter\"},{\"attributes\":{},\"id\":\"1417\",\"type\":\"UnionRenderers\"},{\"attributes\":{\"text_color\":\"black\",\"text_font_size\":\"12pt\"},\"id\":\"1318\",\"type\":\"Title\"},{\"attributes\":{\"angle\":{\"value\":0.0},\"fill_alpha\":{\"value\":1.0},\"fill_color\":{\"value\":\"#30a2da\"},\"hatch_alpha\":{\"value\":1.0},\"hatch_color\":{\"value\":\"black\"},\"hatch_scale\":{\"value\":12.0},\"hatch_weight\":{\"value\":1.0},\"line_alpha\":{\"value\":1.0},\"line_cap\":{\"value\":\"butt\"},\"line_color\":{\"value\":\"#30a2da\"},\"line_dash\":{\"value\":[]},\"line_dash_offset\":{\"value\":0},\"line_join\":{\"value\":\"bevel\"},\"line_width\":{\"value\":1},\"marker\":{\"value\":\"circle\"},\"size\":{\"value\":5.477225575051661},\"x\":{\"field\":\"sepal_length\"},\"y\":{\"field\":\"sepal_width\"}},\"id\":\"1373\",\"type\":\"Scatter\"},{\"attributes\":{},\"id\":\"1352\",\"type\":\"AllLabels\"},{\"attributes\":{\"source\":{\"id\":\"1374\"}},\"id\":\"1381\",\"type\":\"CDSView\"},{\"attributes\":{\"fill_alpha\":{\"value\":0.1},\"fill_color\":{\"value\":\"#e5ae38\"},\"line_alpha\":{\"value\":0.1},\"line_color\":{\"value\":\"#e5ae38\"},\"size\":{\"value\":5.477225575051661},\"x\":{\"field\":\"sepal_length\"},\"y\":{\"field\":\"sepal_width\"}},\"id\":\"1400\",\"type\":\"Scatter\"},{\"attributes\":{},\"id\":\"1370\",\"type\":\"UnionRenderers\"},{\"attributes\":{\"end\":8.054285714285715,\"reset_end\":8.054285714285715,\"reset_start\":4.145714285714286,\"start\":4.145714285714286,\"tags\":[[[\"sepal_length\",\"sepal_length\",null]]]},\"id\":\"1312\",\"type\":\"Range1d\"},{\"attributes\":{},\"id\":\"1354\",\"type\":\"Selection\"},{\"attributes\":{\"source\":{\"id\":\"1353\"}},\"id\":\"1360\",\"type\":\"CDSView\"},{\"attributes\":{},\"id\":\"1327\",\"type\":\"BasicTicker\"},{\"attributes\":{\"fill_alpha\":{\"value\":0.1},\"fill_color\":{\"value\":\"#fc4f30\"},\"line_alpha\":{\"value\":0.1},\"line_color\":{\"value\":\"#fc4f30\"},\"size\":{\"value\":5.477225575051661},\"x\":{\"field\":\"sepal_length\"},\"y\":{\"field\":\"sepal_width\"}},\"id\":\"1378\",\"type\":\"Scatter\"},{\"attributes\":{\"bottom_units\":\"screen\",\"fill_alpha\":0.5,\"fill_color\":\"lightgrey\",\"left_units\":\"screen\",\"level\":\"overlay\",\"line_alpha\":1.0,\"line_color\":\"black\",\"line_dash\":[4,4],\"line_width\":2,\"right_units\":\"screen\",\"syncable\":false,\"top_units\":\"screen\"},\"id\":\"1339\",\"type\":\"BoxAnnotation\"},{\"attributes\":{},\"id\":\"1393\",\"type\":\"UnionRenderers\"},{\"attributes\":{\"axis_label\":\"sepal_length\",\"formatter\":{\"id\":\"1347\"},\"major_label_policy\":{\"id\":\"1349\"},\"ticker\":{\"id\":\"1327\"}},\"id\":\"1326\",\"type\":\"LinearAxis\"},{\"attributes\":{\"fill_color\":{\"value\":\"#30a2da\"},\"line_color\":{\"value\":\"#30a2da\"},\"size\":{\"value\":5.477225575051661},\"x\":{\"field\":\"sepal_length\"},\"y\":{\"field\":\"sepal_width\"}},\"id\":\"1356\",\"type\":\"Scatter\"},{\"attributes\":{\"data\":{\"class\":[1,1,1,1,1,1,1,1,1,1,1,1,1,1,1,1,1,1,1,1,1,1,1,1,1,1,1,1,1,1,1,1,1,1,1,1,1,1,1,1,1,1,1,1,1,1,1,1,1,1],\"sepal_length\":{\"__ndarray__\":\"ZmZmZmZmFECamZmZmZkTQM3MzMzMzBJAZmZmZmZmEkAAAAAAAAAUQJqZmZmZmRVAZmZmZmZmEkAAAAAAAAAUQJqZmZmZmRFAmpmZmZmZE0CamZmZmZkVQDMzMzMzMxNAMzMzMzMzE0AzMzMzMzMRQDMzMzMzMxdAzczMzMzMFkCamZmZmZkVQGZmZmZmZhRAzczMzMzMFkBmZmZmZmYUQJqZmZmZmRVAZmZmZmZmFEBmZmZmZmYSQGZmZmZmZhRAMzMzMzMzE0AAAAAAAAAUQAAAAAAAABRAzczMzMzMFEDNzMzMzMwUQM3MzMzMzBJAMzMzMzMzE0CamZmZmZkVQM3MzMzMzBRAAAAAAAAAFkCamZmZmZkTQAAAAAAAABRAAAAAAAAAFkCamZmZmZkTQJqZmZmZmRFAZmZmZmZmFEAAAAAAAAAUQAAAAAAAABJAmpmZmZmZEUAAAAAAAAAUQGZmZmZmZhRAMzMzMzMzE0BmZmZmZmYUQGZmZmZmZhJAMzMzMzMzFUAAAAAAAAAUQA==\",\"dtype\":\"float64\",\"order\":\"little\",\"shape\":[50]},\"sepal_width\":{\"__ndarray__\":\"AAAAAAAADEAAAAAAAAAIQJqZmZmZmQlAzczMzMzMCEDNzMzMzMwMQDMzMzMzMw9AMzMzMzMzC0AzMzMzMzMLQDMzMzMzMwdAzczMzMzMCECamZmZmZkNQDMzMzMzMwtAAAAAAAAACEAAAAAAAAAIQAAAAAAAABBAmpmZmZmZEUAzMzMzMzMPQAAAAAAAAAxAZmZmZmZmDkBmZmZmZmYOQDMzMzMzMwtAmpmZmZmZDUDNzMzMzMwMQGZmZmZmZgpAMzMzMzMzC0AAAAAAAAAIQDMzMzMzMwtAAAAAAAAADEAzMzMzMzMLQJqZmZmZmQlAzczMzMzMCEAzMzMzMzMLQGZmZmZmZhBAzczMzMzMEEDNzMzMzMwIQJqZmZmZmQlAAAAAAAAADEDNzMzMzMwIQAAAAAAAAAhAMzMzMzMzC0AAAAAAAAAMQGZmZmZmZgJAmpmZmZmZCUAAAAAAAAAMQGZmZmZmZg5AAAAAAAAACEBmZmZmZmYOQJqZmZmZmQlAmpmZmZmZDUBmZmZmZmYKQA==\",\"dtype\":\"float64\",\"order\":\"little\",\"shape\":[50]}},\"selected\":{\"id\":\"1375\"},\"selection_policy\":{\"id\":\"1393\"}},\"id\":\"1374\",\"type\":\"ColumnDataSource\"},{\"attributes\":{\"margin\":[5,5,5,5],\"name\":\"HSpacer02294\",\"sizing_mode\":\"stretch_width\"},\"id\":\"1546\",\"type\":\"Spacer\"},{\"attributes\":{\"axis\":{\"id\":\"1326\"},\"grid_line_color\":null,\"ticker\":null},\"id\":\"1329\",\"type\":\"Grid\"},{\"attributes\":{\"fill_alpha\":{\"value\":0.1},\"fill_color\":{\"value\":\"#30a2da\"},\"line_alpha\":{\"value\":0.1},\"line_color\":{\"value\":\"#30a2da\"},\"size\":{\"value\":5.477225575051661},\"x\":{\"field\":\"sepal_length\"},\"y\":{\"field\":\"sepal_width\"}},\"id\":\"1357\",\"type\":\"Scatter\"},{\"attributes\":{\"end\":4.640000000000001,\"reset_end\":4.640000000000001,\"reset_start\":1.76,\"start\":1.76,\"tags\":[[[\"sepal_width\",\"sepal_width\",null]]]},\"id\":\"1313\",\"type\":\"Range1d\"},{\"attributes\":{},\"id\":\"1331\",\"type\":\"BasicTicker\"},{\"attributes\":{\"data\":{\"class\":[0,0,0,0,0,0,0,0,0,0,0,0,0,0,0,0,0,0,0,0,0,0,0,0,0,0,0,0,0,0,0,0,0,0,0,0,0,0,0,0,0,0,0,0,0,0,0,0,0,0,0,0,0,0,0,0,0,0,0,0,0,0],\"sepal_length\":{\"__ndarray__\":\"AAAAAAAAHECamZmZmZkZQAAAAAAAABZAAAAAAAAAGkDNzMzMzMwWQDMzMzMzMxlAmpmZmZmZE0BmZmZmZmYaQM3MzMzMzBRAAAAAAAAAFECamZmZmZkXQAAAAAAAABhAZmZmZmZmGEBmZmZmZmYWQM3MzMzMzBpAZmZmZmZmFkAzMzMzMzMXQM3MzMzMzBhAZmZmZmZmFkCamZmZmZkXQGZmZmZmZhhAMzMzMzMzGUBmZmZmZmYYQJqZmZmZmRlAZmZmZmZmGkAzMzMzMzMbQAAAAAAAABhAzczMzMzMFkAAAAAAAAAWQAAAAAAAABZAMzMzMzMzF0AAAAAAAAAYQJqZmZmZmRVAAAAAAAAAGEDNzMzMzMwaQDMzMzMzMxlAZmZmZmZmFkAAAAAAAAAWQAAAAAAAABZAZmZmZmZmGEAzMzMzMzMXQAAAAAAAABRAZmZmZmZmFkDNzMzMzMwWQM3MzMzMzBZAzczMzMzMGEBmZmZmZmYUQM3MzMzMzBZAMzMzMzMzF0CamZmZmZkTQM3MzMzMzBZAMzMzMzMzF0AAAAAAAAAYQGZmZmZmZhZAMzMzMzMzGUDNzMzMzMwYQGZmZmZmZhhAMzMzMzMzGUAAAAAAAAAYQDMzMzMzMxdAMzMzMzMzGUCamZmZmZkXQA==\",\"dtype\":\"float64\",\"order\":\"little\",\"shape\":[62]},\"sepal_width\":{\"__ndarray__\":\"mpmZmZmZCUCamZmZmZkJQGZmZmZmZgJAZmZmZmZmBkBmZmZmZmYGQGZmZmZmZgpAMzMzMzMzA0AzMzMzMzMHQJqZmZmZmQVAAAAAAAAAAEAAAAAAAAAIQJqZmZmZmQFAMzMzMzMzB0AzMzMzMzMHQM3MzMzMzAhAAAAAAAAACECamZmZmZkFQJqZmZmZmQFAAAAAAAAABECamZmZmZkJQGZmZmZmZgZAAAAAAAAABEBmZmZmZmYGQDMzMzMzMwdAAAAAAAAACEBmZmZmZmYGQDMzMzMzMwdAzczMzMzMBEAzMzMzMzMDQDMzMzMzMwNAmpmZmZmZBUCamZmZmZkFQAAAAAAAAAhAMzMzMzMzC0DNzMzMzMwIQGZmZmZmZgJAAAAAAAAACEAAAAAAAAAEQM3MzMzMzARAAAAAAAAACEDNzMzMzMwEQGZmZmZmZgJAmpmZmZmZBUAAAAAAAAAIQDMzMzMzMwdAMzMzMzMzB0AAAAAAAAAEQGZmZmZmZgZAmpmZmZmZBUAAAAAAAAAEQAAAAAAAAARAZmZmZmZmBkCamZmZmZkBQGZmZmZmZgZAmpmZmZmZBUBmZmZmZmYGQAAAAAAAAAhAZmZmZmZmBkAAAAAAAAAIQJqZmZmZmQVAAAAAAAAABEAAAAAAAAAIQA==\",\"dtype\":\"float64\",\"order\":\"little\",\"shape\":[62]}},\"selected\":{\"id\":\"1354\"},\"selection_policy\":{\"id\":\"1370\"}},\"id\":\"1353\",\"type\":\"ColumnDataSource\"},{\"attributes\":{},\"id\":\"1375\",\"type\":\"Selection\"},{\"attributes\":{},\"id\":\"1322\",\"type\":\"LinearScale\"},{\"attributes\":{\"data_source\":{\"id\":\"1353\"},\"glyph\":{\"id\":\"1356\"},\"hover_glyph\":null,\"muted_glyph\":{\"id\":\"1358\"},\"nonselection_glyph\":{\"id\":\"1357\"},\"selection_glyph\":{\"id\":\"1373\"},\"view\":{\"id\":\"1360\"}},\"id\":\"1359\",\"type\":\"GlyphRenderer\"},{\"attributes\":{},\"id\":\"1397\",\"type\":\"Selection\"},{\"attributes\":{},\"id\":\"1324\",\"type\":\"LinearScale\"},{\"attributes\":{\"fill_alpha\":{\"value\":0.2},\"fill_color\":{\"value\":\"#e5ae38\"},\"line_alpha\":{\"value\":0.2},\"line_color\":{\"value\":\"#e5ae38\"},\"size\":{\"value\":5.477225575051661},\"x\":{\"field\":\"sepal_length\"},\"y\":{\"field\":\"sepal_width\"}},\"id\":\"1401\",\"type\":\"Scatter\"},{\"attributes\":{\"label\":{\"value\":\"0\"},\"renderers\":[{\"id\":\"1359\"}]},\"id\":\"1372\",\"type\":\"LegendItem\"},{\"attributes\":{\"fill_color\":{\"value\":\"#fc4f30\"},\"line_color\":{\"value\":\"#fc4f30\"},\"size\":{\"value\":5.477225575051661},\"x\":{\"field\":\"sepal_length\"},\"y\":{\"field\":\"sepal_width\"}},\"id\":\"1377\",\"type\":\"Scatter\"},{\"attributes\":{\"click_policy\":\"mute\",\"items\":[{\"id\":\"1372\"},{\"id\":\"1394\"},{\"id\":\"1418\"}],\"location\":[0,0],\"title\":\"class\"},\"id\":\"1371\",\"type\":\"Legend\"},{\"attributes\":{\"below\":[{\"id\":\"1326\"}],\"center\":[{\"id\":\"1329\"},{\"id\":\"1333\"}],\"height\":300,\"left\":[{\"id\":\"1330\"}],\"margin\":[5,5,5,5],\"min_border_bottom\":10,\"min_border_left\":10,\"min_border_right\":10,\"min_border_top\":10,\"renderers\":[{\"id\":\"1359\"},{\"id\":\"1380\"},{\"id\":\"1402\"}],\"right\":[{\"id\":\"1371\"}],\"sizing_mode\":\"fixed\",\"title\":{\"id\":\"1318\"},\"toolbar\":{\"id\":\"1340\"},\"width\":700,\"x_range\":{\"id\":\"1312\"},\"x_scale\":{\"id\":\"1322\"},\"y_range\":{\"id\":\"1313\"},\"y_scale\":{\"id\":\"1324\"}},\"id\":\"1317\",\"subtype\":\"Figure\",\"type\":\"Plot\"},{\"attributes\":{\"label\":{\"value\":\"1\"},\"renderers\":[{\"id\":\"1380\"}]},\"id\":\"1394\",\"type\":\"LegendItem\"},{\"attributes\":{\"children\":[{\"id\":\"1311\"},{\"id\":\"1317\"},{\"id\":\"1546\"}],\"margin\":[0,0,0,0],\"name\":\"Row02289\",\"tags\":[\"embedded\"]},\"id\":\"1310\",\"type\":\"Row\"},{\"attributes\":{\"margin\":[5,5,5,5],\"name\":\"HSpacer02293\",\"sizing_mode\":\"stretch_width\"},\"id\":\"1311\",\"type\":\"Spacer\"},{\"attributes\":{\"fill_alpha\":{\"value\":0.2},\"fill_color\":{\"value\":\"#30a2da\"},\"line_alpha\":{\"value\":0.2},\"line_color\":{\"value\":\"#30a2da\"},\"size\":{\"value\":5.477225575051661},\"x\":{\"field\":\"sepal_length\"},\"y\":{\"field\":\"sepal_width\"}},\"id\":\"1358\",\"type\":\"Scatter\"},{\"attributes\":{\"fill_alpha\":{\"value\":0.2},\"fill_color\":{\"value\":\"#fc4f30\"},\"line_alpha\":{\"value\":0.2},\"line_color\":{\"value\":\"#fc4f30\"},\"size\":{\"value\":5.477225575051661},\"x\":{\"field\":\"sepal_length\"},\"y\":{\"field\":\"sepal_width\"}},\"id\":\"1379\",\"type\":\"Scatter\"},{\"attributes\":{},\"id\":\"1335\",\"type\":\"PanTool\"},{\"attributes\":{\"angle\":{\"value\":0.0},\"fill_alpha\":{\"value\":1.0},\"fill_color\":{\"value\":\"#fc4f30\"},\"hatch_alpha\":{\"value\":1.0},\"hatch_color\":{\"value\":\"black\"},\"hatch_scale\":{\"value\":12.0},\"hatch_weight\":{\"value\":1.0},\"line_alpha\":{\"value\":1.0},\"line_cap\":{\"value\":\"butt\"},\"line_color\":{\"value\":\"#fc4f30\"},\"line_dash\":{\"value\":[]},\"line_dash_offset\":{\"value\":0},\"line_join\":{\"value\":\"bevel\"},\"line_width\":{\"value\":1},\"marker\":{\"value\":\"circle\"},\"size\":{\"value\":5.477225575051661},\"x\":{\"field\":\"sepal_length\"},\"y\":{\"field\":\"sepal_width\"}},\"id\":\"1395\",\"type\":\"Scatter\"},{\"attributes\":{\"axis_label\":\"sepal_width\",\"formatter\":{\"id\":\"1350\"},\"major_label_policy\":{\"id\":\"1352\"},\"ticker\":{\"id\":\"1331\"}},\"id\":\"1330\",\"type\":\"LinearAxis\"},{\"attributes\":{\"source\":{\"id\":\"1396\"}},\"id\":\"1403\",\"type\":\"CDSView\"},{\"attributes\":{},\"id\":\"1336\",\"type\":\"WheelZoomTool\"},{\"attributes\":{\"axis\":{\"id\":\"1330\"},\"dimension\":1,\"grid_line_color\":null,\"ticker\":null},\"id\":\"1333\",\"type\":\"Grid\"},{\"attributes\":{\"label\":{\"value\":\"2\"},\"renderers\":[{\"id\":\"1402\"}]},\"id\":\"1418\",\"type\":\"LegendItem\"},{\"attributes\":{},\"id\":\"1334\",\"type\":\"SaveTool\"},{\"attributes\":{\"active_multi\":null,\"tools\":[{\"id\":\"1314\"},{\"id\":\"1334\"},{\"id\":\"1335\"},{\"id\":\"1336\"},{\"id\":\"1337\"},{\"id\":\"1338\"}]},\"id\":\"1340\",\"type\":\"Toolbar\"},{\"attributes\":{\"data_source\":{\"id\":\"1396\"},\"glyph\":{\"id\":\"1399\"},\"hover_glyph\":null,\"muted_glyph\":{\"id\":\"1401\"},\"nonselection_glyph\":{\"id\":\"1400\"},\"selection_glyph\":{\"id\":\"1419\"},\"view\":{\"id\":\"1403\"}},\"id\":\"1402\",\"type\":\"GlyphRenderer\"},{\"attributes\":{\"data\":{\"class\":[2,2,2,2,2,2,2,2,2,2,2,2,2,2,2,2,2,2,2,2,2,2,2,2,2,2,2,2,2,2,2,2,2,2,2,2,2,2],\"sepal_length\":{\"__ndarray__\":\"mpmZmZmZG0DNzMzMzMwaQDMzMzMzMxlAZmZmZmZmHEAzMzMzMzMZQAAAAAAAABpAZmZmZmZmHkAzMzMzMzMdQM3MzMzMzBpAzczMzMzMHEAAAAAAAAAaQJqZmZmZmRlAMzMzMzMzG0CamZmZmZkZQAAAAAAAABpAzczMzMzMHkDNzMzMzMweQJqZmZmZmRtAzczMzMzMHkDNzMzMzMwaQM3MzMzMzBxAmpmZmZmZGUDNzMzMzMwcQJqZmZmZmR1AmpmZmZmZH0CamZmZmZkZQGZmZmZmZhhAzczMzMzMHkAzMzMzMzMZQJqZmZmZmRlAmpmZmZmZG0DNzMzMzMwaQJqZmZmZmRtAMzMzMzMzG0DNzMzMzMwaQM3MzMzMzBpAAAAAAAAAGkDNzMzMzMwYQA==\",\"dtype\":\"float64\",\"order\":\"little\",\"shape\":[38]},\"sepal_width\":{\"__ndarray__\":\"zczMzMzMCEAAAAAAAAAIQGZmZmZmZgpAAAAAAAAACEAzMzMzMzMHQAAAAAAAAAhAAAAAAAAACEAzMzMzMzMHQAAAAAAAAARAzczMzMzMDECamZmZmZkJQJqZmZmZmQVAAAAAAAAACECamZmZmZkJQAAAAAAAAAhAZmZmZmZmDkDNzMzMzMwEQJqZmZmZmQlAZmZmZmZmBkBmZmZmZmYKQJqZmZmZmQlAZmZmZmZmBkAAAAAAAAAIQGZmZmZmZgZAZmZmZmZmDkBmZmZmZmYGQM3MzMzMzARAAAAAAAAACEAzMzMzMzMLQM3MzMzMzAhAzczMzMzMCEDNzMzMzMwIQM3MzMzMzAhAmpmZmZmZCUBmZmZmZmYKQAAAAAAAAAhAAAAAAAAACEAzMzMzMzMLQA==\",\"dtype\":\"float64\",\"order\":\"little\",\"shape\":[38]}},\"selected\":{\"id\":\"1397\"},\"selection_policy\":{\"id\":\"1417\"}},\"id\":\"1396\",\"type\":\"ColumnDataSource\"},{\"attributes\":{\"overlay\":{\"id\":\"1339\"}},\"id\":\"1337\",\"type\":\"BoxZoomTool\"},{\"attributes\":{\"fill_color\":{\"value\":\"#e5ae38\"},\"line_color\":{\"value\":\"#e5ae38\"},\"size\":{\"value\":5.477225575051661},\"x\":{\"field\":\"sepal_length\"},\"y\":{\"field\":\"sepal_width\"}},\"id\":\"1399\",\"type\":\"Scatter\"},{\"attributes\":{},\"id\":\"1338\",\"type\":\"ResetTool\"}],\"root_ids\":[\"1310\"]},\"title\":\"Bokeh Application\",\"version\":\"2.3.0\"}};\n",
       "    var render_items = [{\"docid\":\"cf2b5cd4-88a3-4a1c-8e7c-e76d3efdd0e5\",\"root_ids\":[\"1310\"],\"roots\":{\"1310\":\"81a33595-f4ec-4bc7-a967-47060827105d\"}}];\n",
       "    root.Bokeh.embed.embed_items_notebook(docs_json, render_items);\n",
       "  }\n",
       "  if (root.Bokeh !== undefined && root.Bokeh.Panel !== undefined) {\n",
       "    embed_document(root);\n",
       "  } else {\n",
       "    var attempts = 0;\n",
       "    var timer = setInterval(function(root) {\n",
       "      if (root.Bokeh !== undefined && root.Bokeh.Panel !== undefined) {\n",
       "        clearInterval(timer);\n",
       "        embed_document(root);\n",
       "      } else if (document.readyState == \"complete\") {\n",
       "        attempts++;\n",
       "        if (attempts > 100) {\n",
       "          clearInterval(timer);\n",
       "          console.log(\"Bokeh: ERROR: Unable to run BokehJS code because BokehJS library is missing\");\n",
       "        }\n",
       "      }\n",
       "    }, 10, root)\n",
       "  }\n",
       "})(window);</script>"
      ],
      "text/plain": [
       ":NdOverlay   [class]\n",
       "   :Scatter   [sepal_length]   (sepal_width)"
      ]
     },
     "execution_count": 35,
     "metadata": {
      "application/vnd.holoviews_exec.v0+json": {
       "id": "1310"
      }
     },
     "output_type": "execute_result"
    }
   ],
   "source": [
    "# Create a scatterplot of df_iris\n",
    "df_iris.hvplot.scatter(x=\"sepal_length\", y=\"sepal_width\", by=\"class\")"
   ]
  },
  {
   "cell_type": "code",
   "execution_count": 36,
   "metadata": {},
   "outputs": [
    {
     "data": {
      "application/vnd.plotly.v1+json": {
       "config": {
        "plotlyServerURL": "https://plot.ly"
       },
       "data": [
        {
         "hovertemplate": "class=%{marker.color}<br>petal_width=%{x}<br>sepal_length=%{y}<br>petal_length=%{z}<br>sepal_width=%{marker.size}<extra></extra>",
         "legendgroup": "1",
         "marker": {
          "color": [
           1,
           1,
           1,
           1,
           1,
           1,
           1,
           1,
           1,
           1,
           1,
           1,
           1,
           1,
           1,
           1,
           1,
           1,
           1,
           1,
           1,
           1,
           1,
           1,
           1,
           1,
           1,
           1,
           1,
           1,
           1,
           1,
           1,
           1,
           1,
           1,
           1,
           1,
           1,
           1,
           1,
           1,
           1,
           1,
           1,
           1,
           1,
           1,
           1,
           1
          ],
          "coloraxis": "coloraxis",
          "size": [
           3.5,
           3,
           3.2,
           3.1,
           3.6,
           3.9,
           3.4,
           3.4,
           2.9,
           3.1,
           3.7,
           3.4,
           3,
           3,
           4,
           4.4,
           3.9,
           3.5,
           3.8,
           3.8,
           3.4,
           3.7,
           3.6,
           3.3,
           3.4,
           3,
           3.4,
           3.5,
           3.4,
           3.2,
           3.1,
           3.4,
           4.1,
           4.2,
           3.1,
           3.2,
           3.5,
           3.1,
           3,
           3.4,
           3.5,
           2.3,
           3.2,
           3.5,
           3.8,
           3,
           3.8,
           3.2,
           3.7,
           3.3
          ],
          "sizemode": "area",
          "sizeref": 0.011000000000000001,
          "symbol": "circle"
         },
         "mode": "markers",
         "name": "1",
         "scene": "scene",
         "showlegend": true,
         "type": "scatter3d",
         "x": [
          0.2,
          0.2,
          0.2,
          0.2,
          0.2,
          0.4,
          0.3,
          0.2,
          0.2,
          0.1,
          0.2,
          0.2,
          0.1,
          0.1,
          0.2,
          0.4,
          0.4,
          0.3,
          0.3,
          0.3,
          0.2,
          0.4,
          0.2,
          0.5,
          0.2,
          0.2,
          0.4,
          0.2,
          0.2,
          0.2,
          0.2,
          0.4,
          0.1,
          0.2,
          0.1,
          0.2,
          0.2,
          0.1,
          0.2,
          0.2,
          0.3,
          0.3,
          0.2,
          0.6,
          0.4,
          0.3,
          0.2,
          0.2,
          0.2,
          0.2
         ],
         "y": [
          5.1,
          4.9,
          4.7,
          4.6,
          5,
          5.4,
          4.6,
          5,
          4.4,
          4.9,
          5.4,
          4.8,
          4.8,
          4.3,
          5.8,
          5.7,
          5.4,
          5.1,
          5.7,
          5.1,
          5.4,
          5.1,
          4.6,
          5.1,
          4.8,
          5,
          5,
          5.2,
          5.2,
          4.7,
          4.8,
          5.4,
          5.2,
          5.5,
          4.9,
          5,
          5.5,
          4.9,
          4.4,
          5.1,
          5,
          4.5,
          4.4,
          5,
          5.1,
          4.8,
          5.1,
          4.6,
          5.3,
          5
         ],
         "z": [
          1.4,
          1.4,
          1.3,
          1.5,
          1.4,
          1.7,
          1.4,
          1.5,
          1.4,
          1.5,
          1.5,
          1.6,
          1.4,
          1.1,
          1.2,
          1.5,
          1.3,
          1.4,
          1.7,
          1.5,
          1.7,
          1.5,
          1,
          1.7,
          1.9,
          1.6,
          1.6,
          1.5,
          1.4,
          1.6,
          1.6,
          1.5,
          1.5,
          1.4,
          1.5,
          1.2,
          1.3,
          1.5,
          1.3,
          1.5,
          1.3,
          1.3,
          1.3,
          1.6,
          1.9,
          1.4,
          1.6,
          1.4,
          1.5,
          1.4
         ]
        },
        {
         "hovertemplate": "class=%{marker.color}<br>petal_width=%{x}<br>sepal_length=%{y}<br>petal_length=%{z}<br>sepal_width=%{marker.size}<extra></extra>",
         "legendgroup": "0",
         "marker": {
          "color": [
           0,
           0,
           0,
           0,
           0,
           0,
           0,
           0,
           0,
           0,
           0,
           0,
           0,
           0,
           0,
           0,
           0,
           0,
           0,
           0,
           0,
           0,
           0,
           0,
           0,
           0,
           0,
           0,
           0,
           0,
           0,
           0,
           0,
           0,
           0,
           0,
           0,
           0,
           0,
           0,
           0,
           0,
           0,
           0,
           0,
           0,
           0,
           0,
           0,
           0,
           0,
           0,
           0,
           0,
           0,
           0,
           0,
           0,
           0,
           0,
           0,
           0
          ],
          "coloraxis": "coloraxis",
          "size": [
           3.2,
           3.2,
           2.3,
           2.8,
           2.8,
           3.3,
           2.4,
           2.9,
           2.7,
           2,
           3,
           2.2,
           2.9,
           2.9,
           3.1,
           3,
           2.7,
           2.2,
           2.5,
           3.2,
           2.8,
           2.5,
           2.8,
           2.9,
           3,
           2.8,
           2.9,
           2.6,
           2.4,
           2.4,
           2.7,
           2.7,
           3,
           3.4,
           3.1,
           2.3,
           3,
           2.5,
           2.6,
           3,
           2.6,
           2.3,
           2.7,
           3,
           2.9,
           2.9,
           2.5,
           2.8,
           2.7,
           2.5,
           2.5,
           2.8,
           2.2,
           2.8,
           2.7,
           2.8,
           3,
           2.8,
           3,
           2.7,
           2.5,
           3
          ],
          "sizemode": "area",
          "sizeref": 0.011000000000000001,
          "symbol": "diamond"
         },
         "mode": "markers",
         "name": "0",
         "scene": "scene",
         "showlegend": true,
         "type": "scatter3d",
         "x": [
          1.4,
          1.5,
          1.3,
          1.5,
          1.3,
          1.6,
          1,
          1.3,
          1.4,
          1,
          1.5,
          1,
          1.4,
          1.3,
          1.4,
          1.5,
          1,
          1.5,
          1.1,
          1.8,
          1.3,
          1.5,
          1.2,
          1.3,
          1.4,
          1.4,
          1.5,
          1,
          1.1,
          1,
          1.2,
          1.6,
          1.5,
          1.6,
          1.5,
          1.3,
          1.3,
          1.3,
          1.2,
          1.4,
          1.2,
          1,
          1.3,
          1.2,
          1.3,
          1.3,
          1.1,
          1.3,
          1.9,
          1.7,
          2,
          2.4,
          1.5,
          2,
          1.8,
          1.8,
          1.8,
          1.5,
          1.8,
          1.9,
          1.9,
          1.8
         ],
         "y": [
          7,
          6.4,
          5.5,
          6.5,
          5.7,
          6.3,
          4.9,
          6.6,
          5.2,
          5,
          5.9,
          6,
          6.1,
          5.6,
          6.7,
          5.6,
          5.8,
          6.2,
          5.6,
          5.9,
          6.1,
          6.3,
          6.1,
          6.4,
          6.6,
          6.8,
          6,
          5.7,
          5.5,
          5.5,
          5.8,
          6,
          5.4,
          6,
          6.7,
          6.3,
          5.6,
          5.5,
          5.5,
          6.1,
          5.8,
          5,
          5.6,
          5.7,
          5.7,
          6.2,
          5.1,
          5.7,
          5.8,
          4.9,
          5.7,
          5.8,
          6,
          5.6,
          6.3,
          6.2,
          6.1,
          6.3,
          6,
          5.8,
          6.3,
          5.9
         ],
         "z": [
          4.7,
          4.5,
          4,
          4.6,
          4.5,
          4.7,
          3.3,
          4.6,
          3.9,
          3.5,
          4.2,
          4,
          4.7,
          3.6,
          4.4,
          4.5,
          4.1,
          4.5,
          3.9,
          4.8,
          4,
          4.9,
          4.7,
          4.3,
          4.4,
          4.8,
          4.5,
          3.5,
          3.8,
          3.7,
          3.9,
          5.1,
          4.5,
          4.5,
          4.7,
          4.4,
          4.1,
          4,
          4.4,
          4.6,
          4,
          3.3,
          4.2,
          4.2,
          4.2,
          4.3,
          3,
          4.1,
          5.1,
          4.5,
          5,
          5.1,
          5,
          4.9,
          4.9,
          4.8,
          4.9,
          5.1,
          4.8,
          5.1,
          5,
          5.1
         ]
        },
        {
         "hovertemplate": "class=%{marker.color}<br>petal_width=%{x}<br>sepal_length=%{y}<br>petal_length=%{z}<br>sepal_width=%{marker.size}<extra></extra>",
         "legendgroup": "2",
         "marker": {
          "color": [
           2,
           2,
           2,
           2,
           2,
           2,
           2,
           2,
           2,
           2,
           2,
           2,
           2,
           2,
           2,
           2,
           2,
           2,
           2,
           2,
           2,
           2,
           2,
           2,
           2,
           2,
           2,
           2,
           2,
           2,
           2,
           2,
           2,
           2,
           2,
           2,
           2,
           2
          ],
          "coloraxis": "coloraxis",
          "size": [
           3.1,
           3,
           3.3,
           3,
           2.9,
           3,
           3,
           2.9,
           2.5,
           3.6,
           3.2,
           2.7,
           3,
           3.2,
           3,
           3.8,
           2.6,
           3.2,
           2.8,
           3.3,
           3.2,
           2.8,
           3,
           2.8,
           3.8,
           2.8,
           2.6,
           3,
           3.4,
           3.1,
           3.1,
           3.1,
           3.1,
           3.2,
           3.3,
           3,
           3,
           3.4
          ],
          "sizemode": "area",
          "sizeref": 0.011000000000000001,
          "symbol": "square"
         },
         "mode": "markers",
         "name": "2",
         "scene": "scene",
         "showlegend": true,
         "type": "scatter3d",
         "x": [
          1.5,
          1.7,
          2.5,
          2.1,
          1.8,
          2.2,
          2.1,
          1.8,
          1.8,
          2.5,
          2,
          1.9,
          2.1,
          2.3,
          1.8,
          2.2,
          2.3,
          2.3,
          2,
          2.1,
          1.8,
          2.1,
          1.6,
          1.9,
          2,
          2.2,
          1.4,
          2.3,
          2.4,
          1.8,
          2.1,
          2.4,
          2.3,
          2.3,
          2.5,
          2.3,
          2,
          2.3
         ],
         "y": [
          6.9,
          6.7,
          6.3,
          7.1,
          6.3,
          6.5,
          7.6,
          7.3,
          6.7,
          7.2,
          6.5,
          6.4,
          6.8,
          6.4,
          6.5,
          7.7,
          7.7,
          6.9,
          7.7,
          6.7,
          7.2,
          6.4,
          7.2,
          7.4,
          7.9,
          6.4,
          6.1,
          7.7,
          6.3,
          6.4,
          6.9,
          6.7,
          6.9,
          6.8,
          6.7,
          6.7,
          6.5,
          6.2
         ],
         "z": [
          4.9,
          5,
          6,
          5.9,
          5.6,
          5.8,
          6.6,
          6.3,
          5.8,
          6.1,
          5.1,
          5.3,
          5.5,
          5.3,
          5.5,
          6.7,
          6.9,
          5.7,
          6.7,
          5.7,
          6,
          5.6,
          5.8,
          6.1,
          6.4,
          5.6,
          5.6,
          6.1,
          5.6,
          5.5,
          5.4,
          5.6,
          5.1,
          5.9,
          5.7,
          5.2,
          5.2,
          5.4
         ]
        }
       ],
       "layout": {
        "coloraxis": {
         "colorbar": {
          "title": {
           "text": "class"
          }
         },
         "colorscale": [
          [
           0,
           "#0d0887"
          ],
          [
           0.1111111111111111,
           "#46039f"
          ],
          [
           0.2222222222222222,
           "#7201a8"
          ],
          [
           0.3333333333333333,
           "#9c179e"
          ],
          [
           0.4444444444444444,
           "#bd3786"
          ],
          [
           0.5555555555555556,
           "#d8576b"
          ],
          [
           0.6666666666666666,
           "#ed7953"
          ],
          [
           0.7777777777777778,
           "#fb9f3a"
          ],
          [
           0.8888888888888888,
           "#fdca26"
          ],
          [
           1,
           "#f0f921"
          ]
         ]
        },
        "legend": {
         "itemsizing": "constant",
         "title": {
          "text": "class"
         },
         "tracegroupgap": 0,
         "x": 0,
         "y": 1
        },
        "margin": {
         "t": 60
        },
        "scene": {
         "domain": {
          "x": [
           0,
           1
          ],
          "y": [
           0,
           1
          ]
         },
         "xaxis": {
          "title": {
           "text": "petal_width"
          }
         },
         "yaxis": {
          "title": {
           "text": "sepal_length"
          }
         },
         "zaxis": {
          "title": {
           "text": "petal_length"
          }
         }
        },
        "template": {
         "data": {
          "bar": [
           {
            "error_x": {
             "color": "#2a3f5f"
            },
            "error_y": {
             "color": "#2a3f5f"
            },
            "marker": {
             "line": {
              "color": "#E5ECF6",
              "width": 0.5
             }
            },
            "type": "bar"
           }
          ],
          "barpolar": [
           {
            "marker": {
             "line": {
              "color": "#E5ECF6",
              "width": 0.5
             }
            },
            "type": "barpolar"
           }
          ],
          "carpet": [
           {
            "aaxis": {
             "endlinecolor": "#2a3f5f",
             "gridcolor": "white",
             "linecolor": "white",
             "minorgridcolor": "white",
             "startlinecolor": "#2a3f5f"
            },
            "baxis": {
             "endlinecolor": "#2a3f5f",
             "gridcolor": "white",
             "linecolor": "white",
             "minorgridcolor": "white",
             "startlinecolor": "#2a3f5f"
            },
            "type": "carpet"
           }
          ],
          "choropleth": [
           {
            "colorbar": {
             "outlinewidth": 0,
             "ticks": ""
            },
            "type": "choropleth"
           }
          ],
          "contour": [
           {
            "colorbar": {
             "outlinewidth": 0,
             "ticks": ""
            },
            "colorscale": [
             [
              0,
              "#0d0887"
             ],
             [
              0.1111111111111111,
              "#46039f"
             ],
             [
              0.2222222222222222,
              "#7201a8"
             ],
             [
              0.3333333333333333,
              "#9c179e"
             ],
             [
              0.4444444444444444,
              "#bd3786"
             ],
             [
              0.5555555555555556,
              "#d8576b"
             ],
             [
              0.6666666666666666,
              "#ed7953"
             ],
             [
              0.7777777777777778,
              "#fb9f3a"
             ],
             [
              0.8888888888888888,
              "#fdca26"
             ],
             [
              1,
              "#f0f921"
             ]
            ],
            "type": "contour"
           }
          ],
          "contourcarpet": [
           {
            "colorbar": {
             "outlinewidth": 0,
             "ticks": ""
            },
            "type": "contourcarpet"
           }
          ],
          "heatmap": [
           {
            "colorbar": {
             "outlinewidth": 0,
             "ticks": ""
            },
            "colorscale": [
             [
              0,
              "#0d0887"
             ],
             [
              0.1111111111111111,
              "#46039f"
             ],
             [
              0.2222222222222222,
              "#7201a8"
             ],
             [
              0.3333333333333333,
              "#9c179e"
             ],
             [
              0.4444444444444444,
              "#bd3786"
             ],
             [
              0.5555555555555556,
              "#d8576b"
             ],
             [
              0.6666666666666666,
              "#ed7953"
             ],
             [
              0.7777777777777778,
              "#fb9f3a"
             ],
             [
              0.8888888888888888,
              "#fdca26"
             ],
             [
              1,
              "#f0f921"
             ]
            ],
            "type": "heatmap"
           }
          ],
          "heatmapgl": [
           {
            "colorbar": {
             "outlinewidth": 0,
             "ticks": ""
            },
            "colorscale": [
             [
              0,
              "#0d0887"
             ],
             [
              0.1111111111111111,
              "#46039f"
             ],
             [
              0.2222222222222222,
              "#7201a8"
             ],
             [
              0.3333333333333333,
              "#9c179e"
             ],
             [
              0.4444444444444444,
              "#bd3786"
             ],
             [
              0.5555555555555556,
              "#d8576b"
             ],
             [
              0.6666666666666666,
              "#ed7953"
             ],
             [
              0.7777777777777778,
              "#fb9f3a"
             ],
             [
              0.8888888888888888,
              "#fdca26"
             ],
             [
              1,
              "#f0f921"
             ]
            ],
            "type": "heatmapgl"
           }
          ],
          "histogram": [
           {
            "marker": {
             "colorbar": {
              "outlinewidth": 0,
              "ticks": ""
             }
            },
            "type": "histogram"
           }
          ],
          "histogram2d": [
           {
            "colorbar": {
             "outlinewidth": 0,
             "ticks": ""
            },
            "colorscale": [
             [
              0,
              "#0d0887"
             ],
             [
              0.1111111111111111,
              "#46039f"
             ],
             [
              0.2222222222222222,
              "#7201a8"
             ],
             [
              0.3333333333333333,
              "#9c179e"
             ],
             [
              0.4444444444444444,
              "#bd3786"
             ],
             [
              0.5555555555555556,
              "#d8576b"
             ],
             [
              0.6666666666666666,
              "#ed7953"
             ],
             [
              0.7777777777777778,
              "#fb9f3a"
             ],
             [
              0.8888888888888888,
              "#fdca26"
             ],
             [
              1,
              "#f0f921"
             ]
            ],
            "type": "histogram2d"
           }
          ],
          "histogram2dcontour": [
           {
            "colorbar": {
             "outlinewidth": 0,
             "ticks": ""
            },
            "colorscale": [
             [
              0,
              "#0d0887"
             ],
             [
              0.1111111111111111,
              "#46039f"
             ],
             [
              0.2222222222222222,
              "#7201a8"
             ],
             [
              0.3333333333333333,
              "#9c179e"
             ],
             [
              0.4444444444444444,
              "#bd3786"
             ],
             [
              0.5555555555555556,
              "#d8576b"
             ],
             [
              0.6666666666666666,
              "#ed7953"
             ],
             [
              0.7777777777777778,
              "#fb9f3a"
             ],
             [
              0.8888888888888888,
              "#fdca26"
             ],
             [
              1,
              "#f0f921"
             ]
            ],
            "type": "histogram2dcontour"
           }
          ],
          "mesh3d": [
           {
            "colorbar": {
             "outlinewidth": 0,
             "ticks": ""
            },
            "type": "mesh3d"
           }
          ],
          "parcoords": [
           {
            "line": {
             "colorbar": {
              "outlinewidth": 0,
              "ticks": ""
             }
            },
            "type": "parcoords"
           }
          ],
          "pie": [
           {
            "automargin": true,
            "type": "pie"
           }
          ],
          "scatter": [
           {
            "marker": {
             "colorbar": {
              "outlinewidth": 0,
              "ticks": ""
             }
            },
            "type": "scatter"
           }
          ],
          "scatter3d": [
           {
            "line": {
             "colorbar": {
              "outlinewidth": 0,
              "ticks": ""
             }
            },
            "marker": {
             "colorbar": {
              "outlinewidth": 0,
              "ticks": ""
             }
            },
            "type": "scatter3d"
           }
          ],
          "scattercarpet": [
           {
            "marker": {
             "colorbar": {
              "outlinewidth": 0,
              "ticks": ""
             }
            },
            "type": "scattercarpet"
           }
          ],
          "scattergeo": [
           {
            "marker": {
             "colorbar": {
              "outlinewidth": 0,
              "ticks": ""
             }
            },
            "type": "scattergeo"
           }
          ],
          "scattergl": [
           {
            "marker": {
             "colorbar": {
              "outlinewidth": 0,
              "ticks": ""
             }
            },
            "type": "scattergl"
           }
          ],
          "scattermapbox": [
           {
            "marker": {
             "colorbar": {
              "outlinewidth": 0,
              "ticks": ""
             }
            },
            "type": "scattermapbox"
           }
          ],
          "scatterpolar": [
           {
            "marker": {
             "colorbar": {
              "outlinewidth": 0,
              "ticks": ""
             }
            },
            "type": "scatterpolar"
           }
          ],
          "scatterpolargl": [
           {
            "marker": {
             "colorbar": {
              "outlinewidth": 0,
              "ticks": ""
             }
            },
            "type": "scatterpolargl"
           }
          ],
          "scatterternary": [
           {
            "marker": {
             "colorbar": {
              "outlinewidth": 0,
              "ticks": ""
             }
            },
            "type": "scatterternary"
           }
          ],
          "surface": [
           {
            "colorbar": {
             "outlinewidth": 0,
             "ticks": ""
            },
            "colorscale": [
             [
              0,
              "#0d0887"
             ],
             [
              0.1111111111111111,
              "#46039f"
             ],
             [
              0.2222222222222222,
              "#7201a8"
             ],
             [
              0.3333333333333333,
              "#9c179e"
             ],
             [
              0.4444444444444444,
              "#bd3786"
             ],
             [
              0.5555555555555556,
              "#d8576b"
             ],
             [
              0.6666666666666666,
              "#ed7953"
             ],
             [
              0.7777777777777778,
              "#fb9f3a"
             ],
             [
              0.8888888888888888,
              "#fdca26"
             ],
             [
              1,
              "#f0f921"
             ]
            ],
            "type": "surface"
           }
          ],
          "table": [
           {
            "cells": {
             "fill": {
              "color": "#EBF0F8"
             },
             "line": {
              "color": "white"
             }
            },
            "header": {
             "fill": {
              "color": "#C8D4E3"
             },
             "line": {
              "color": "white"
             }
            },
            "type": "table"
           }
          ]
         },
         "layout": {
          "annotationdefaults": {
           "arrowcolor": "#2a3f5f",
           "arrowhead": 0,
           "arrowwidth": 1
          },
          "autotypenumbers": "strict",
          "coloraxis": {
           "colorbar": {
            "outlinewidth": 0,
            "ticks": ""
           }
          },
          "colorscale": {
           "diverging": [
            [
             0,
             "#8e0152"
            ],
            [
             0.1,
             "#c51b7d"
            ],
            [
             0.2,
             "#de77ae"
            ],
            [
             0.3,
             "#f1b6da"
            ],
            [
             0.4,
             "#fde0ef"
            ],
            [
             0.5,
             "#f7f7f7"
            ],
            [
             0.6,
             "#e6f5d0"
            ],
            [
             0.7,
             "#b8e186"
            ],
            [
             0.8,
             "#7fbc41"
            ],
            [
             0.9,
             "#4d9221"
            ],
            [
             1,
             "#276419"
            ]
           ],
           "sequential": [
            [
             0,
             "#0d0887"
            ],
            [
             0.1111111111111111,
             "#46039f"
            ],
            [
             0.2222222222222222,
             "#7201a8"
            ],
            [
             0.3333333333333333,
             "#9c179e"
            ],
            [
             0.4444444444444444,
             "#bd3786"
            ],
            [
             0.5555555555555556,
             "#d8576b"
            ],
            [
             0.6666666666666666,
             "#ed7953"
            ],
            [
             0.7777777777777778,
             "#fb9f3a"
            ],
            [
             0.8888888888888888,
             "#fdca26"
            ],
            [
             1,
             "#f0f921"
            ]
           ],
           "sequentialminus": [
            [
             0,
             "#0d0887"
            ],
            [
             0.1111111111111111,
             "#46039f"
            ],
            [
             0.2222222222222222,
             "#7201a8"
            ],
            [
             0.3333333333333333,
             "#9c179e"
            ],
            [
             0.4444444444444444,
             "#bd3786"
            ],
            [
             0.5555555555555556,
             "#d8576b"
            ],
            [
             0.6666666666666666,
             "#ed7953"
            ],
            [
             0.7777777777777778,
             "#fb9f3a"
            ],
            [
             0.8888888888888888,
             "#fdca26"
            ],
            [
             1,
             "#f0f921"
            ]
           ]
          },
          "colorway": [
           "#636efa",
           "#EF553B",
           "#00cc96",
           "#ab63fa",
           "#FFA15A",
           "#19d3f3",
           "#FF6692",
           "#B6E880",
           "#FF97FF",
           "#FECB52"
          ],
          "font": {
           "color": "#2a3f5f"
          },
          "geo": {
           "bgcolor": "white",
           "lakecolor": "white",
           "landcolor": "#E5ECF6",
           "showlakes": true,
           "showland": true,
           "subunitcolor": "white"
          },
          "hoverlabel": {
           "align": "left"
          },
          "hovermode": "closest",
          "mapbox": {
           "style": "light"
          },
          "paper_bgcolor": "white",
          "plot_bgcolor": "#E5ECF6",
          "polar": {
           "angularaxis": {
            "gridcolor": "white",
            "linecolor": "white",
            "ticks": ""
           },
           "bgcolor": "#E5ECF6",
           "radialaxis": {
            "gridcolor": "white",
            "linecolor": "white",
            "ticks": ""
           }
          },
          "scene": {
           "xaxis": {
            "backgroundcolor": "#E5ECF6",
            "gridcolor": "white",
            "gridwidth": 2,
            "linecolor": "white",
            "showbackground": true,
            "ticks": "",
            "zerolinecolor": "white"
           },
           "yaxis": {
            "backgroundcolor": "#E5ECF6",
            "gridcolor": "white",
            "gridwidth": 2,
            "linecolor": "white",
            "showbackground": true,
            "ticks": "",
            "zerolinecolor": "white"
           },
           "zaxis": {
            "backgroundcolor": "#E5ECF6",
            "gridcolor": "white",
            "gridwidth": 2,
            "linecolor": "white",
            "showbackground": true,
            "ticks": "",
            "zerolinecolor": "white"
           }
          },
          "shapedefaults": {
           "line": {
            "color": "#2a3f5f"
           }
          },
          "ternary": {
           "aaxis": {
            "gridcolor": "white",
            "linecolor": "white",
            "ticks": ""
           },
           "baxis": {
            "gridcolor": "white",
            "linecolor": "white",
            "ticks": ""
           },
           "bgcolor": "#E5ECF6",
           "caxis": {
            "gridcolor": "white",
            "linecolor": "white",
            "ticks": ""
           }
          },
          "title": {
           "x": 0.05
          },
          "xaxis": {
           "automargin": true,
           "gridcolor": "white",
           "linecolor": "white",
           "ticks": "",
           "title": {
            "standoff": 15
           },
           "zerolinecolor": "white",
           "zerolinewidth": 2
          },
          "yaxis": {
           "automargin": true,
           "gridcolor": "white",
           "linecolor": "white",
           "ticks": "",
           "title": {
            "standoff": 15
           },
           "zerolinecolor": "white",
           "zerolinewidth": 2
          }
         }
        },
        "width": 800
       }
      },
      "text/html": [
       "<div>                            <div id=\"ca590bca-b189-4579-a921-7a77d5e9fb9f\" class=\"plotly-graph-div\" style=\"height:525px; width:800px;\"></div>            <script type=\"text/javascript\">                require([\"plotly\"], function(Plotly) {                    window.PLOTLYENV=window.PLOTLYENV || {};                                    if (document.getElementById(\"ca590bca-b189-4579-a921-7a77d5e9fb9f\")) {                    Plotly.newPlot(                        \"ca590bca-b189-4579-a921-7a77d5e9fb9f\",                        [{\"hovertemplate\": \"class=%{marker.color}<br>petal_width=%{x}<br>sepal_length=%{y}<br>petal_length=%{z}<br>sepal_width=%{marker.size}<extra></extra>\", \"legendgroup\": \"1\", \"marker\": {\"color\": [1, 1, 1, 1, 1, 1, 1, 1, 1, 1, 1, 1, 1, 1, 1, 1, 1, 1, 1, 1, 1, 1, 1, 1, 1, 1, 1, 1, 1, 1, 1, 1, 1, 1, 1, 1, 1, 1, 1, 1, 1, 1, 1, 1, 1, 1, 1, 1, 1, 1], \"coloraxis\": \"coloraxis\", \"size\": [3.5, 3.0, 3.2, 3.1, 3.6, 3.9, 3.4, 3.4, 2.9, 3.1, 3.7, 3.4, 3.0, 3.0, 4.0, 4.4, 3.9, 3.5, 3.8, 3.8, 3.4, 3.7, 3.6, 3.3, 3.4, 3.0, 3.4, 3.5, 3.4, 3.2, 3.1, 3.4, 4.1, 4.2, 3.1, 3.2, 3.5, 3.1, 3.0, 3.4, 3.5, 2.3, 3.2, 3.5, 3.8, 3.0, 3.8, 3.2, 3.7, 3.3], \"sizemode\": \"area\", \"sizeref\": 0.011000000000000001, \"symbol\": \"circle\"}, \"mode\": \"markers\", \"name\": \"1\", \"scene\": \"scene\", \"showlegend\": true, \"type\": \"scatter3d\", \"x\": [0.2, 0.2, 0.2, 0.2, 0.2, 0.4, 0.3, 0.2, 0.2, 0.1, 0.2, 0.2, 0.1, 0.1, 0.2, 0.4, 0.4, 0.3, 0.3, 0.3, 0.2, 0.4, 0.2, 0.5, 0.2, 0.2, 0.4, 0.2, 0.2, 0.2, 0.2, 0.4, 0.1, 0.2, 0.1, 0.2, 0.2, 0.1, 0.2, 0.2, 0.3, 0.3, 0.2, 0.6, 0.4, 0.3, 0.2, 0.2, 0.2, 0.2], \"y\": [5.1, 4.9, 4.7, 4.6, 5.0, 5.4, 4.6, 5.0, 4.4, 4.9, 5.4, 4.8, 4.8, 4.3, 5.8, 5.7, 5.4, 5.1, 5.7, 5.1, 5.4, 5.1, 4.6, 5.1, 4.8, 5.0, 5.0, 5.2, 5.2, 4.7, 4.8, 5.4, 5.2, 5.5, 4.9, 5.0, 5.5, 4.9, 4.4, 5.1, 5.0, 4.5, 4.4, 5.0, 5.1, 4.8, 5.1, 4.6, 5.3, 5.0], \"z\": [1.4, 1.4, 1.3, 1.5, 1.4, 1.7, 1.4, 1.5, 1.4, 1.5, 1.5, 1.6, 1.4, 1.1, 1.2, 1.5, 1.3, 1.4, 1.7, 1.5, 1.7, 1.5, 1.0, 1.7, 1.9, 1.6, 1.6, 1.5, 1.4, 1.6, 1.6, 1.5, 1.5, 1.4, 1.5, 1.2, 1.3, 1.5, 1.3, 1.5, 1.3, 1.3, 1.3, 1.6, 1.9, 1.4, 1.6, 1.4, 1.5, 1.4]}, {\"hovertemplate\": \"class=%{marker.color}<br>petal_width=%{x}<br>sepal_length=%{y}<br>petal_length=%{z}<br>sepal_width=%{marker.size}<extra></extra>\", \"legendgroup\": \"0\", \"marker\": {\"color\": [0, 0, 0, 0, 0, 0, 0, 0, 0, 0, 0, 0, 0, 0, 0, 0, 0, 0, 0, 0, 0, 0, 0, 0, 0, 0, 0, 0, 0, 0, 0, 0, 0, 0, 0, 0, 0, 0, 0, 0, 0, 0, 0, 0, 0, 0, 0, 0, 0, 0, 0, 0, 0, 0, 0, 0, 0, 0, 0, 0, 0, 0], \"coloraxis\": \"coloraxis\", \"size\": [3.2, 3.2, 2.3, 2.8, 2.8, 3.3, 2.4, 2.9, 2.7, 2.0, 3.0, 2.2, 2.9, 2.9, 3.1, 3.0, 2.7, 2.2, 2.5, 3.2, 2.8, 2.5, 2.8, 2.9, 3.0, 2.8, 2.9, 2.6, 2.4, 2.4, 2.7, 2.7, 3.0, 3.4, 3.1, 2.3, 3.0, 2.5, 2.6, 3.0, 2.6, 2.3, 2.7, 3.0, 2.9, 2.9, 2.5, 2.8, 2.7, 2.5, 2.5, 2.8, 2.2, 2.8, 2.7, 2.8, 3.0, 2.8, 3.0, 2.7, 2.5, 3.0], \"sizemode\": \"area\", \"sizeref\": 0.011000000000000001, \"symbol\": \"diamond\"}, \"mode\": \"markers\", \"name\": \"0\", \"scene\": \"scene\", \"showlegend\": true, \"type\": \"scatter3d\", \"x\": [1.4, 1.5, 1.3, 1.5, 1.3, 1.6, 1.0, 1.3, 1.4, 1.0, 1.5, 1.0, 1.4, 1.3, 1.4, 1.5, 1.0, 1.5, 1.1, 1.8, 1.3, 1.5, 1.2, 1.3, 1.4, 1.4, 1.5, 1.0, 1.1, 1.0, 1.2, 1.6, 1.5, 1.6, 1.5, 1.3, 1.3, 1.3, 1.2, 1.4, 1.2, 1.0, 1.3, 1.2, 1.3, 1.3, 1.1, 1.3, 1.9, 1.7, 2.0, 2.4, 1.5, 2.0, 1.8, 1.8, 1.8, 1.5, 1.8, 1.9, 1.9, 1.8], \"y\": [7.0, 6.4, 5.5, 6.5, 5.7, 6.3, 4.9, 6.6, 5.2, 5.0, 5.9, 6.0, 6.1, 5.6, 6.7, 5.6, 5.8, 6.2, 5.6, 5.9, 6.1, 6.3, 6.1, 6.4, 6.6, 6.8, 6.0, 5.7, 5.5, 5.5, 5.8, 6.0, 5.4, 6.0, 6.7, 6.3, 5.6, 5.5, 5.5, 6.1, 5.8, 5.0, 5.6, 5.7, 5.7, 6.2, 5.1, 5.7, 5.8, 4.9, 5.7, 5.8, 6.0, 5.6, 6.3, 6.2, 6.1, 6.3, 6.0, 5.8, 6.3, 5.9], \"z\": [4.7, 4.5, 4.0, 4.6, 4.5, 4.7, 3.3, 4.6, 3.9, 3.5, 4.2, 4.0, 4.7, 3.6, 4.4, 4.5, 4.1, 4.5, 3.9, 4.8, 4.0, 4.9, 4.7, 4.3, 4.4, 4.8, 4.5, 3.5, 3.8, 3.7, 3.9, 5.1, 4.5, 4.5, 4.7, 4.4, 4.1, 4.0, 4.4, 4.6, 4.0, 3.3, 4.2, 4.2, 4.2, 4.3, 3.0, 4.1, 5.1, 4.5, 5.0, 5.1, 5.0, 4.9, 4.9, 4.8, 4.9, 5.1, 4.8, 5.1, 5.0, 5.1]}, {\"hovertemplate\": \"class=%{marker.color}<br>petal_width=%{x}<br>sepal_length=%{y}<br>petal_length=%{z}<br>sepal_width=%{marker.size}<extra></extra>\", \"legendgroup\": \"2\", \"marker\": {\"color\": [2, 2, 2, 2, 2, 2, 2, 2, 2, 2, 2, 2, 2, 2, 2, 2, 2, 2, 2, 2, 2, 2, 2, 2, 2, 2, 2, 2, 2, 2, 2, 2, 2, 2, 2, 2, 2, 2], \"coloraxis\": \"coloraxis\", \"size\": [3.1, 3.0, 3.3, 3.0, 2.9, 3.0, 3.0, 2.9, 2.5, 3.6, 3.2, 2.7, 3.0, 3.2, 3.0, 3.8, 2.6, 3.2, 2.8, 3.3, 3.2, 2.8, 3.0, 2.8, 3.8, 2.8, 2.6, 3.0, 3.4, 3.1, 3.1, 3.1, 3.1, 3.2, 3.3, 3.0, 3.0, 3.4], \"sizemode\": \"area\", \"sizeref\": 0.011000000000000001, \"symbol\": \"square\"}, \"mode\": \"markers\", \"name\": \"2\", \"scene\": \"scene\", \"showlegend\": true, \"type\": \"scatter3d\", \"x\": [1.5, 1.7, 2.5, 2.1, 1.8, 2.2, 2.1, 1.8, 1.8, 2.5, 2.0, 1.9, 2.1, 2.3, 1.8, 2.2, 2.3, 2.3, 2.0, 2.1, 1.8, 2.1, 1.6, 1.9, 2.0, 2.2, 1.4, 2.3, 2.4, 1.8, 2.1, 2.4, 2.3, 2.3, 2.5, 2.3, 2.0, 2.3], \"y\": [6.9, 6.7, 6.3, 7.1, 6.3, 6.5, 7.6, 7.3, 6.7, 7.2, 6.5, 6.4, 6.8, 6.4, 6.5, 7.7, 7.7, 6.9, 7.7, 6.7, 7.2, 6.4, 7.2, 7.4, 7.9, 6.4, 6.1, 7.7, 6.3, 6.4, 6.9, 6.7, 6.9, 6.8, 6.7, 6.7, 6.5, 6.2], \"z\": [4.9, 5.0, 6.0, 5.9, 5.6, 5.8, 6.6, 6.3, 5.8, 6.1, 5.1, 5.3, 5.5, 5.3, 5.5, 6.7, 6.9, 5.7, 6.7, 5.7, 6.0, 5.6, 5.8, 6.1, 6.4, 5.6, 5.6, 6.1, 5.6, 5.5, 5.4, 5.6, 5.1, 5.9, 5.7, 5.2, 5.2, 5.4]}],                        {\"coloraxis\": {\"colorbar\": {\"title\": {\"text\": \"class\"}}, \"colorscale\": [[0.0, \"#0d0887\"], [0.1111111111111111, \"#46039f\"], [0.2222222222222222, \"#7201a8\"], [0.3333333333333333, \"#9c179e\"], [0.4444444444444444, \"#bd3786\"], [0.5555555555555556, \"#d8576b\"], [0.6666666666666666, \"#ed7953\"], [0.7777777777777778, \"#fb9f3a\"], [0.8888888888888888, \"#fdca26\"], [1.0, \"#f0f921\"]]}, \"legend\": {\"itemsizing\": \"constant\", \"title\": {\"text\": \"class\"}, \"tracegroupgap\": 0, \"x\": 0, \"y\": 1}, \"margin\": {\"t\": 60}, \"scene\": {\"domain\": {\"x\": [0.0, 1.0], \"y\": [0.0, 1.0]}, \"xaxis\": {\"title\": {\"text\": \"petal_width\"}}, \"yaxis\": {\"title\": {\"text\": \"sepal_length\"}}, \"zaxis\": {\"title\": {\"text\": \"petal_length\"}}}, \"template\": {\"data\": {\"bar\": [{\"error_x\": {\"color\": \"#2a3f5f\"}, \"error_y\": {\"color\": \"#2a3f5f\"}, \"marker\": {\"line\": {\"color\": \"#E5ECF6\", \"width\": 0.5}}, \"type\": \"bar\"}], \"barpolar\": [{\"marker\": {\"line\": {\"color\": \"#E5ECF6\", \"width\": 0.5}}, \"type\": \"barpolar\"}], \"carpet\": [{\"aaxis\": {\"endlinecolor\": \"#2a3f5f\", \"gridcolor\": \"white\", \"linecolor\": \"white\", \"minorgridcolor\": \"white\", \"startlinecolor\": \"#2a3f5f\"}, \"baxis\": {\"endlinecolor\": \"#2a3f5f\", \"gridcolor\": \"white\", \"linecolor\": \"white\", \"minorgridcolor\": \"white\", \"startlinecolor\": \"#2a3f5f\"}, \"type\": \"carpet\"}], \"choropleth\": [{\"colorbar\": {\"outlinewidth\": 0, \"ticks\": \"\"}, \"type\": \"choropleth\"}], \"contour\": [{\"colorbar\": {\"outlinewidth\": 0, \"ticks\": \"\"}, \"colorscale\": [[0.0, \"#0d0887\"], [0.1111111111111111, \"#46039f\"], [0.2222222222222222, \"#7201a8\"], [0.3333333333333333, \"#9c179e\"], [0.4444444444444444, \"#bd3786\"], [0.5555555555555556, \"#d8576b\"], [0.6666666666666666, \"#ed7953\"], [0.7777777777777778, \"#fb9f3a\"], [0.8888888888888888, \"#fdca26\"], [1.0, \"#f0f921\"]], \"type\": \"contour\"}], \"contourcarpet\": [{\"colorbar\": {\"outlinewidth\": 0, \"ticks\": \"\"}, \"type\": \"contourcarpet\"}], \"heatmap\": [{\"colorbar\": {\"outlinewidth\": 0, \"ticks\": \"\"}, \"colorscale\": [[0.0, \"#0d0887\"], [0.1111111111111111, \"#46039f\"], [0.2222222222222222, \"#7201a8\"], [0.3333333333333333, \"#9c179e\"], [0.4444444444444444, \"#bd3786\"], [0.5555555555555556, \"#d8576b\"], [0.6666666666666666, \"#ed7953\"], [0.7777777777777778, \"#fb9f3a\"], [0.8888888888888888, \"#fdca26\"], [1.0, \"#f0f921\"]], \"type\": \"heatmap\"}], \"heatmapgl\": [{\"colorbar\": {\"outlinewidth\": 0, \"ticks\": \"\"}, \"colorscale\": [[0.0, \"#0d0887\"], [0.1111111111111111, \"#46039f\"], [0.2222222222222222, \"#7201a8\"], [0.3333333333333333, \"#9c179e\"], [0.4444444444444444, \"#bd3786\"], [0.5555555555555556, \"#d8576b\"], [0.6666666666666666, \"#ed7953\"], [0.7777777777777778, \"#fb9f3a\"], [0.8888888888888888, \"#fdca26\"], [1.0, \"#f0f921\"]], \"type\": \"heatmapgl\"}], \"histogram\": [{\"marker\": {\"colorbar\": {\"outlinewidth\": 0, \"ticks\": \"\"}}, \"type\": \"histogram\"}], \"histogram2d\": [{\"colorbar\": {\"outlinewidth\": 0, \"ticks\": \"\"}, \"colorscale\": [[0.0, \"#0d0887\"], [0.1111111111111111, \"#46039f\"], [0.2222222222222222, \"#7201a8\"], [0.3333333333333333, \"#9c179e\"], [0.4444444444444444, \"#bd3786\"], [0.5555555555555556, \"#d8576b\"], [0.6666666666666666, \"#ed7953\"], [0.7777777777777778, \"#fb9f3a\"], [0.8888888888888888, \"#fdca26\"], [1.0, \"#f0f921\"]], \"type\": \"histogram2d\"}], \"histogram2dcontour\": [{\"colorbar\": {\"outlinewidth\": 0, \"ticks\": \"\"}, \"colorscale\": [[0.0, \"#0d0887\"], [0.1111111111111111, \"#46039f\"], [0.2222222222222222, \"#7201a8\"], [0.3333333333333333, \"#9c179e\"], [0.4444444444444444, \"#bd3786\"], [0.5555555555555556, \"#d8576b\"], [0.6666666666666666, \"#ed7953\"], [0.7777777777777778, \"#fb9f3a\"], [0.8888888888888888, \"#fdca26\"], [1.0, \"#f0f921\"]], \"type\": \"histogram2dcontour\"}], \"mesh3d\": [{\"colorbar\": {\"outlinewidth\": 0, \"ticks\": \"\"}, \"type\": \"mesh3d\"}], \"parcoords\": [{\"line\": {\"colorbar\": {\"outlinewidth\": 0, \"ticks\": \"\"}}, \"type\": \"parcoords\"}], \"pie\": [{\"automargin\": true, \"type\": \"pie\"}], \"scatter\": [{\"marker\": {\"colorbar\": {\"outlinewidth\": 0, \"ticks\": \"\"}}, \"type\": \"scatter\"}], \"scatter3d\": [{\"line\": {\"colorbar\": {\"outlinewidth\": 0, \"ticks\": \"\"}}, \"marker\": {\"colorbar\": {\"outlinewidth\": 0, \"ticks\": \"\"}}, \"type\": \"scatter3d\"}], \"scattercarpet\": [{\"marker\": {\"colorbar\": {\"outlinewidth\": 0, \"ticks\": \"\"}}, \"type\": \"scattercarpet\"}], \"scattergeo\": [{\"marker\": {\"colorbar\": {\"outlinewidth\": 0, \"ticks\": \"\"}}, \"type\": \"scattergeo\"}], \"scattergl\": [{\"marker\": {\"colorbar\": {\"outlinewidth\": 0, \"ticks\": \"\"}}, \"type\": \"scattergl\"}], \"scattermapbox\": [{\"marker\": {\"colorbar\": {\"outlinewidth\": 0, \"ticks\": \"\"}}, \"type\": \"scattermapbox\"}], \"scatterpolar\": [{\"marker\": {\"colorbar\": {\"outlinewidth\": 0, \"ticks\": \"\"}}, \"type\": \"scatterpolar\"}], \"scatterpolargl\": [{\"marker\": {\"colorbar\": {\"outlinewidth\": 0, \"ticks\": \"\"}}, \"type\": \"scatterpolargl\"}], \"scatterternary\": [{\"marker\": {\"colorbar\": {\"outlinewidth\": 0, \"ticks\": \"\"}}, \"type\": \"scatterternary\"}], \"surface\": [{\"colorbar\": {\"outlinewidth\": 0, \"ticks\": \"\"}, \"colorscale\": [[0.0, \"#0d0887\"], [0.1111111111111111, \"#46039f\"], [0.2222222222222222, \"#7201a8\"], [0.3333333333333333, \"#9c179e\"], [0.4444444444444444, \"#bd3786\"], [0.5555555555555556, \"#d8576b\"], [0.6666666666666666, \"#ed7953\"], [0.7777777777777778, \"#fb9f3a\"], [0.8888888888888888, \"#fdca26\"], [1.0, \"#f0f921\"]], \"type\": \"surface\"}], \"table\": [{\"cells\": {\"fill\": {\"color\": \"#EBF0F8\"}, \"line\": {\"color\": \"white\"}}, \"header\": {\"fill\": {\"color\": \"#C8D4E3\"}, \"line\": {\"color\": \"white\"}}, \"type\": \"table\"}]}, \"layout\": {\"annotationdefaults\": {\"arrowcolor\": \"#2a3f5f\", \"arrowhead\": 0, \"arrowwidth\": 1}, \"autotypenumbers\": \"strict\", \"coloraxis\": {\"colorbar\": {\"outlinewidth\": 0, \"ticks\": \"\"}}, \"colorscale\": {\"diverging\": [[0, \"#8e0152\"], [0.1, \"#c51b7d\"], [0.2, \"#de77ae\"], [0.3, \"#f1b6da\"], [0.4, \"#fde0ef\"], [0.5, \"#f7f7f7\"], [0.6, \"#e6f5d0\"], [0.7, \"#b8e186\"], [0.8, \"#7fbc41\"], [0.9, \"#4d9221\"], [1, \"#276419\"]], \"sequential\": [[0.0, \"#0d0887\"], [0.1111111111111111, \"#46039f\"], [0.2222222222222222, \"#7201a8\"], [0.3333333333333333, \"#9c179e\"], [0.4444444444444444, \"#bd3786\"], [0.5555555555555556, \"#d8576b\"], [0.6666666666666666, \"#ed7953\"], [0.7777777777777778, \"#fb9f3a\"], [0.8888888888888888, \"#fdca26\"], [1.0, \"#f0f921\"]], \"sequentialminus\": [[0.0, \"#0d0887\"], [0.1111111111111111, \"#46039f\"], [0.2222222222222222, \"#7201a8\"], [0.3333333333333333, \"#9c179e\"], [0.4444444444444444, \"#bd3786\"], [0.5555555555555556, \"#d8576b\"], [0.6666666666666666, \"#ed7953\"], [0.7777777777777778, \"#fb9f3a\"], [0.8888888888888888, \"#fdca26\"], [1.0, \"#f0f921\"]]}, \"colorway\": [\"#636efa\", \"#EF553B\", \"#00cc96\", \"#ab63fa\", \"#FFA15A\", \"#19d3f3\", \"#FF6692\", \"#B6E880\", \"#FF97FF\", \"#FECB52\"], \"font\": {\"color\": \"#2a3f5f\"}, \"geo\": {\"bgcolor\": \"white\", \"lakecolor\": \"white\", \"landcolor\": \"#E5ECF6\", \"showlakes\": true, \"showland\": true, \"subunitcolor\": \"white\"}, \"hoverlabel\": {\"align\": \"left\"}, \"hovermode\": \"closest\", \"mapbox\": {\"style\": \"light\"}, \"paper_bgcolor\": \"white\", \"plot_bgcolor\": \"#E5ECF6\", \"polar\": {\"angularaxis\": {\"gridcolor\": \"white\", \"linecolor\": \"white\", \"ticks\": \"\"}, \"bgcolor\": \"#E5ECF6\", \"radialaxis\": {\"gridcolor\": \"white\", \"linecolor\": \"white\", \"ticks\": \"\"}}, \"scene\": {\"xaxis\": {\"backgroundcolor\": \"#E5ECF6\", \"gridcolor\": \"white\", \"gridwidth\": 2, \"linecolor\": \"white\", \"showbackground\": true, \"ticks\": \"\", \"zerolinecolor\": \"white\"}, \"yaxis\": {\"backgroundcolor\": \"#E5ECF6\", \"gridcolor\": \"white\", \"gridwidth\": 2, \"linecolor\": \"white\", \"showbackground\": true, \"ticks\": \"\", \"zerolinecolor\": \"white\"}, \"zaxis\": {\"backgroundcolor\": \"#E5ECF6\", \"gridcolor\": \"white\", \"gridwidth\": 2, \"linecolor\": \"white\", \"showbackground\": true, \"ticks\": \"\", \"zerolinecolor\": \"white\"}}, \"shapedefaults\": {\"line\": {\"color\": \"#2a3f5f\"}}, \"ternary\": {\"aaxis\": {\"gridcolor\": \"white\", \"linecolor\": \"white\", \"ticks\": \"\"}, \"baxis\": {\"gridcolor\": \"white\", \"linecolor\": \"white\", \"ticks\": \"\"}, \"bgcolor\": \"#E5ECF6\", \"caxis\": {\"gridcolor\": \"white\", \"linecolor\": \"white\", \"ticks\": \"\"}}, \"title\": {\"x\": 0.05}, \"xaxis\": {\"automargin\": true, \"gridcolor\": \"white\", \"linecolor\": \"white\", \"ticks\": \"\", \"title\": {\"standoff\": 15}, \"zerolinecolor\": \"white\", \"zerolinewidth\": 2}, \"yaxis\": {\"automargin\": true, \"gridcolor\": \"white\", \"linecolor\": \"white\", \"ticks\": \"\", \"title\": {\"standoff\": 15}, \"zerolinecolor\": \"white\", \"zerolinewidth\": 2}}}, \"width\": 800},                        {\"responsive\": true}                    ).then(function(){\n",
       "                            \n",
       "var gd = document.getElementById('ca590bca-b189-4579-a921-7a77d5e9fb9f');\n",
       "var x = new MutationObserver(function (mutations, observer) {{\n",
       "        var display = window.getComputedStyle(gd).display;\n",
       "        if (!display || display === 'none') {{\n",
       "            console.log([gd, 'removed!']);\n",
       "            Plotly.purge(gd);\n",
       "            observer.disconnect();\n",
       "        }}\n",
       "}});\n",
       "\n",
       "// Listen for the removal of the full notebook cells\n",
       "var notebookContainer = gd.closest('#notebook-container');\n",
       "if (notebookContainer) {{\n",
       "    x.observe(notebookContainer, {childList: true});\n",
       "}}\n",
       "\n",
       "// Listen for the clearing of the current output cell\n",
       "var outputEl = gd.closest('.output');\n",
       "if (outputEl) {{\n",
       "    x.observe(outputEl, {childList: true});\n",
       "}}\n",
       "\n",
       "                        })                };                });            </script>        </div>"
      ]
     },
     "metadata": {},
     "output_type": "display_data"
    }
   ],
   "source": [
    "# Plotting the clusters with three features\n",
    "fig = px.scatter_3d(df_iris, x=\"petal_width\", y=\"sepal_length\", z=\"petal_length\", color=\"class\", symbol=\"class\", size=\"sepal_width\",width=800)\n",
    "fig.update_layout(legend=dict(x=0,y=1))\n",
    "fig.show()"
   ]
  },
  {
   "cell_type": "code",
   "execution_count": 37,
   "metadata": {},
   "outputs": [],
   "source": [
    "inertia = []\n",
    "k = list(range(1, 11))"
   ]
  },
  {
   "cell_type": "code",
   "execution_count": 38,
   "metadata": {},
   "outputs": [],
   "source": [
    "# Looking for the best K\n",
    "for i in k:\n",
    "    km = KMeans(n_clusters=i, random_state=0)\n",
    "    km.fit(df_iris)\n",
    "    inertia.append(km.inertia_)"
   ]
  },
  {
   "cell_type": "code",
   "execution_count": 39,
   "metadata": {},
   "outputs": [
    {
     "data": {},
     "metadata": {},
     "output_type": "display_data"
    },
    {
     "data": {
      "application/vnd.holoviews_exec.v0+json": "",
      "text/html": [
       "<div id='1618'>\n",
       "\n",
       "\n",
       "\n",
       "\n",
       "\n",
       "  <div class=\"bk-root\" id=\"4d0143e8-864e-486c-b4b8-0c8213715d9c\" data-root-id=\"1618\"></div>\n",
       "</div>\n",
       "<script type=\"application/javascript\">(function(root) {\n",
       "  function embed_document(root) {\n",
       "    var docs_json = {\"009306a4-5040-41fd-9e39-9a7a7e9b525a\":{\"defs\":[{\"extends\":null,\"module\":null,\"name\":\"DataModel\",\"overrides\":[],\"properties\":[]}],\"roots\":{\"references\":[{\"attributes\":{\"children\":[{\"id\":\"1619\"},{\"id\":\"1623\"},{\"id\":\"1689\"}],\"margin\":[0,0,0,0],\"name\":\"Row02845\",\"tags\":[\"embedded\"]},\"id\":\"1618\",\"type\":\"Row\"},{\"attributes\":{\"end\":10.0,\"reset_end\":10.0,\"reset_start\":1.0,\"start\":1.0,\"tags\":[[[\"k\",\"k\",null]]]},\"id\":\"1620\",\"type\":\"Range1d\"},{\"attributes\":{\"axis\":{\"id\":\"1632\"},\"grid_line_color\":null,\"ticker\":null},\"id\":\"1635\",\"type\":\"Grid\"},{\"attributes\":{},\"id\":\"1665\",\"type\":\"AllLabels\"},{\"attributes\":{\"bottom_units\":\"screen\",\"fill_alpha\":0.5,\"fill_color\":\"lightgrey\",\"left_units\":\"screen\",\"level\":\"overlay\",\"line_alpha\":1.0,\"line_color\":\"black\",\"line_dash\":[4,4],\"line_width\":2,\"right_units\":\"screen\",\"syncable\":false,\"top_units\":\"screen\"},\"id\":\"1645\",\"type\":\"BoxAnnotation\"},{\"attributes\":{},\"id\":\"1663\",\"type\":\"BasicTickFormatter\"},{\"attributes\":{\"axis_label\":\"inertia\",\"formatter\":{\"id\":\"1668\"},\"major_label_policy\":{\"id\":\"1670\"},\"ticker\":{\"id\":\"1637\"}},\"id\":\"1636\",\"type\":\"LinearAxis\"},{\"attributes\":{\"ticks\":[1,2,3,4,5,6,7,8,9,10]},\"id\":\"1662\",\"type\":\"FixedTicker\"},{\"attributes\":{\"data\":{\"inertia\":{\"__ndarray__\":\"dXEbDeBHiECll9FO4fRuQDkB9b42vFNA4ctBzxW4TUCVUyvxh4lHQCgZYMkjvENAOs8acKOHQUDSkfYhmg8/QE3pGmhu1jxAPcCcabC3OkA=\",\"dtype\":\"float64\",\"order\":\"little\",\"shape\":[10]},\"k\":[1,2,3,4,5,6,7,8,9,10]},\"selected\":{\"id\":\"1654\"},\"selection_policy\":{\"id\":\"1679\"}},\"id\":\"1653\",\"type\":\"ColumnDataSource\"},{\"attributes\":{\"line_color\":\"#30a2da\",\"line_width\":2,\"x\":{\"field\":\"k\"},\"y\":{\"field\":\"inertia\"}},\"id\":\"1661\",\"type\":\"Line\"},{\"attributes\":{},\"id\":\"1637\",\"type\":\"BasicTicker\"},{\"attributes\":{},\"id\":\"1670\",\"type\":\"AllLabels\"},{\"attributes\":{\"below\":[{\"id\":\"1632\"}],\"center\":[{\"id\":\"1635\"},{\"id\":\"1639\"}],\"height\":300,\"left\":[{\"id\":\"1636\"}],\"margin\":[5,5,5,5],\"min_border_bottom\":10,\"min_border_left\":10,\"min_border_right\":10,\"min_border_top\":10,\"renderers\":[{\"id\":\"1659\"}],\"sizing_mode\":\"fixed\",\"title\":{\"id\":\"1624\"},\"toolbar\":{\"id\":\"1646\"},\"width\":700,\"x_range\":{\"id\":\"1620\"},\"x_scale\":{\"id\":\"1628\"},\"y_range\":{\"id\":\"1621\"},\"y_scale\":{\"id\":\"1630\"}},\"id\":\"1623\",\"subtype\":\"Figure\",\"type\":\"Plot\"},{\"attributes\":{},\"id\":\"1641\",\"type\":\"PanTool\"},{\"attributes\":{\"axis_label\":\"k\",\"formatter\":{\"id\":\"1663\"},\"major_label_policy\":{\"id\":\"1665\"},\"ticker\":{\"id\":\"1662\"}},\"id\":\"1632\",\"type\":\"LinearAxis\"},{\"attributes\":{},\"id\":\"1668\",\"type\":\"BasicTickFormatter\"},{\"attributes\":{\"axis\":{\"id\":\"1636\"},\"dimension\":1,\"grid_line_color\":null,\"ticker\":null},\"id\":\"1639\",\"type\":\"Grid\"},{\"attributes\":{},\"id\":\"1640\",\"type\":\"SaveTool\"},{\"attributes\":{},\"id\":\"1642\",\"type\":\"WheelZoomTool\"},{\"attributes\":{\"active_multi\":null,\"tools\":[{\"id\":\"1622\"},{\"id\":\"1640\"},{\"id\":\"1641\"},{\"id\":\"1642\"},{\"id\":\"1643\"},{\"id\":\"1644\"}]},\"id\":\"1646\",\"type\":\"Toolbar\"},{\"attributes\":{},\"id\":\"1644\",\"type\":\"ResetTool\"},{\"attributes\":{\"overlay\":{\"id\":\"1645\"}},\"id\":\"1643\",\"type\":\"BoxZoomTool\"},{\"attributes\":{},\"id\":\"1654\",\"type\":\"Selection\"},{\"attributes\":{\"data_source\":{\"id\":\"1653\"},\"glyph\":{\"id\":\"1656\"},\"hover_glyph\":null,\"muted_glyph\":{\"id\":\"1658\"},\"nonselection_glyph\":{\"id\":\"1657\"},\"selection_glyph\":{\"id\":\"1661\"},\"view\":{\"id\":\"1660\"}},\"id\":\"1659\",\"type\":\"GlyphRenderer\"},{\"attributes\":{\"line_alpha\":0.1,\"line_color\":\"#30a2da\",\"line_width\":2,\"x\":{\"field\":\"k\"},\"y\":{\"field\":\"inertia\"}},\"id\":\"1657\",\"type\":\"Line\"},{\"attributes\":{\"margin\":[5,5,5,5],\"name\":\"HSpacer02850\",\"sizing_mode\":\"stretch_width\"},\"id\":\"1689\",\"type\":\"Spacer\"},{\"attributes\":{\"line_color\":\"#30a2da\",\"line_width\":2,\"x\":{\"field\":\"k\"},\"y\":{\"field\":\"inertia\"}},\"id\":\"1656\",\"type\":\"Line\"},{\"attributes\":{\"text\":\"Elbow Curve\",\"text_color\":\"black\",\"text_font_size\":\"12pt\"},\"id\":\"1624\",\"type\":\"Title\"},{\"attributes\":{\"callback\":null,\"renderers\":[{\"id\":\"1659\"}],\"tags\":[\"hv_created\"],\"tooltips\":[[\"k\",\"@{k}\"],[\"inertia\",\"@{inertia}\"]]},\"id\":\"1622\",\"type\":\"HoverTool\"},{\"attributes\":{},\"id\":\"1628\",\"type\":\"LinearScale\"},{\"attributes\":{\"source\":{\"id\":\"1653\"}},\"id\":\"1660\",\"type\":\"CDSView\"},{\"attributes\":{},\"id\":\"1679\",\"type\":\"UnionRenderers\"},{\"attributes\":{\"margin\":[5,5,5,5],\"name\":\"HSpacer02849\",\"sizing_mode\":\"stretch_width\"},\"id\":\"1619\",\"type\":\"Spacer\"},{\"attributes\":{\"line_alpha\":0.2,\"line_color\":\"#30a2da\",\"line_width\":2,\"x\":{\"field\":\"k\"},\"y\":{\"field\":\"inertia\"}},\"id\":\"1658\",\"type\":\"Line\"},{\"attributes\":{\"end\":852.011086440814,\"reset_end\":852.011086440814,\"reset_start\":-48.30915084895497,\"start\":-48.30915084895497,\"tags\":[[[\"inertia\",\"inertia\",null]]]},\"id\":\"1621\",\"type\":\"Range1d\"},{\"attributes\":{},\"id\":\"1630\",\"type\":\"LinearScale\"}],\"root_ids\":[\"1618\"]},\"title\":\"Bokeh Application\",\"version\":\"2.3.0\"}};\n",
       "    var render_items = [{\"docid\":\"009306a4-5040-41fd-9e39-9a7a7e9b525a\",\"root_ids\":[\"1618\"],\"roots\":{\"1618\":\"4d0143e8-864e-486c-b4b8-0c8213715d9c\"}}];\n",
       "    root.Bokeh.embed.embed_items_notebook(docs_json, render_items);\n",
       "  }\n",
       "  if (root.Bokeh !== undefined && root.Bokeh.Panel !== undefined) {\n",
       "    embed_document(root);\n",
       "  } else {\n",
       "    var attempts = 0;\n",
       "    var timer = setInterval(function(root) {\n",
       "      if (root.Bokeh !== undefined && root.Bokeh.Panel !== undefined) {\n",
       "        clearInterval(timer);\n",
       "        embed_document(root);\n",
       "      } else if (document.readyState == \"complete\") {\n",
       "        attempts++;\n",
       "        if (attempts > 100) {\n",
       "          clearInterval(timer);\n",
       "          console.log(\"Bokeh: ERROR: Unable to run BokehJS code because BokehJS library is missing\");\n",
       "        }\n",
       "      }\n",
       "    }, 10, root)\n",
       "  }\n",
       "})(window);</script>"
      ],
      "text/plain": [
       ":Curve   [k]   (inertia)"
      ]
     },
     "execution_count": 39,
     "metadata": {
      "application/vnd.holoviews_exec.v0+json": {
       "id": "1618"
      }
     },
     "output_type": "execute_result"
    }
   ],
   "source": [
    "# Define a DataFrame to plot the Elbow Curve using hvPlot\n",
    "elbow_data = {\"k\": k, \"inertia\": inertia}\n",
    "df_elbow = pd.DataFrame(elbow_data)\n",
    "df_elbow.hvplot.line(x=\"k\", y=\"inertia\", title=\"Elbow Curve\", xticks=k)"
   ]
  },
  {
   "cell_type": "code",
   "execution_count": 45,
   "metadata": {},
   "outputs": [],
   "source": [
    "# Create function to test different numbers of clusters\n",
    "def get_clusters(k, data):\n",
    "   # Create a copy of the DataFrame\n",
    "   data = data.copy()\n",
    "\n",
    "   # Initialize the K-Means model\n",
    "   model = KMeans(n_clusters=k, random_state=0)\n",
    "\n",
    "   # Fit the model\n",
    "   model.fit(data)\n",
    "\n",
    "   # Predict clusters\n",
    "   predictions = model.predict(data)\n",
    "\n",
    "   # Create return DataFrame with predicted clusters\n",
    "   data[\"class\"] = model.labels_\n",
    "\n",
    "   return data"
   ]
  },
  {
   "cell_type": "code",
   "execution_count": null,
   "metadata": {},
   "outputs": [],
   "source": []
  },
  {
   "cell_type": "markdown",
   "metadata": {},
   "source": [
    "## Principal compenent Analysis"
   ]
  },
  {
   "cell_type": "code",
   "execution_count": 46,
   "metadata": {},
   "outputs": [],
   "source": [
    "import pandas as pd\n",
    "from sklearn.preprocessing import StandardScaler\n",
    "from sklearn.decomposition import PCA\n",
    "from sklearn.cluster import KMeans\n",
    "import hvplot.pandas"
   ]
  },
  {
   "cell_type": "code",
   "execution_count": 47,
   "metadata": {},
   "outputs": [
    {
     "data": {
      "text/html": [
       "<div>\n",
       "<style scoped>\n",
       "    .dataframe tbody tr th:only-of-type {\n",
       "        vertical-align: middle;\n",
       "    }\n",
       "\n",
       "    .dataframe tbody tr th {\n",
       "        vertical-align: top;\n",
       "    }\n",
       "\n",
       "    .dataframe thead th {\n",
       "        text-align: right;\n",
       "    }\n",
       "</style>\n",
       "<table border=\"1\" class=\"dataframe\">\n",
       "  <thead>\n",
       "    <tr style=\"text-align: right;\">\n",
       "      <th></th>\n",
       "      <th>sepal_length</th>\n",
       "      <th>sepal_width</th>\n",
       "      <th>petal_length</th>\n",
       "      <th>petal_width</th>\n",
       "    </tr>\n",
       "  </thead>\n",
       "  <tbody>\n",
       "    <tr>\n",
       "      <th>0</th>\n",
       "      <td>5.1</td>\n",
       "      <td>3.5</td>\n",
       "      <td>1.4</td>\n",
       "      <td>0.2</td>\n",
       "    </tr>\n",
       "    <tr>\n",
       "      <th>1</th>\n",
       "      <td>4.9</td>\n",
       "      <td>3.0</td>\n",
       "      <td>1.4</td>\n",
       "      <td>0.2</td>\n",
       "    </tr>\n",
       "    <tr>\n",
       "      <th>2</th>\n",
       "      <td>4.7</td>\n",
       "      <td>3.2</td>\n",
       "      <td>1.3</td>\n",
       "      <td>0.2</td>\n",
       "    </tr>\n",
       "    <tr>\n",
       "      <th>3</th>\n",
       "      <td>4.6</td>\n",
       "      <td>3.1</td>\n",
       "      <td>1.5</td>\n",
       "      <td>0.2</td>\n",
       "    </tr>\n",
       "    <tr>\n",
       "      <th>4</th>\n",
       "      <td>5.0</td>\n",
       "      <td>3.6</td>\n",
       "      <td>1.4</td>\n",
       "      <td>0.2</td>\n",
       "    </tr>\n",
       "    <tr>\n",
       "      <th>5</th>\n",
       "      <td>5.4</td>\n",
       "      <td>3.9</td>\n",
       "      <td>1.7</td>\n",
       "      <td>0.4</td>\n",
       "    </tr>\n",
       "    <tr>\n",
       "      <th>6</th>\n",
       "      <td>4.6</td>\n",
       "      <td>3.4</td>\n",
       "      <td>1.4</td>\n",
       "      <td>0.3</td>\n",
       "    </tr>\n",
       "    <tr>\n",
       "      <th>7</th>\n",
       "      <td>5.0</td>\n",
       "      <td>3.4</td>\n",
       "      <td>1.5</td>\n",
       "      <td>0.2</td>\n",
       "    </tr>\n",
       "    <tr>\n",
       "      <th>8</th>\n",
       "      <td>4.4</td>\n",
       "      <td>2.9</td>\n",
       "      <td>1.4</td>\n",
       "      <td>0.2</td>\n",
       "    </tr>\n",
       "    <tr>\n",
       "      <th>9</th>\n",
       "      <td>4.9</td>\n",
       "      <td>3.1</td>\n",
       "      <td>1.5</td>\n",
       "      <td>0.1</td>\n",
       "    </tr>\n",
       "  </tbody>\n",
       "</table>\n",
       "</div>"
      ],
      "text/plain": [
       "   sepal_length  sepal_width  petal_length  petal_width\n",
       "0           5.1          3.5           1.4          0.2\n",
       "1           4.9          3.0           1.4          0.2\n",
       "2           4.7          3.2           1.3          0.2\n",
       "3           4.6          3.1           1.5          0.2\n",
       "4           5.0          3.6           1.4          0.2\n",
       "5           5.4          3.9           1.7          0.4\n",
       "6           4.6          3.4           1.4          0.3\n",
       "7           5.0          3.4           1.5          0.2\n",
       "8           4.4          2.9           1.4          0.2\n",
       "9           4.9          3.1           1.5          0.1"
      ]
     },
     "execution_count": 47,
     "metadata": {},
     "output_type": "execute_result"
    }
   ],
   "source": [
    "# loading Data\n",
    "file_path = \"../Module_18_practice/new_iris_data.csv\"\n",
    "df_iris = pd.read_csv(file_path)\n",
    "df_iris.head(10)"
   ]
  },
  {
   "cell_type": "code",
   "execution_count": 48,
   "metadata": {},
   "outputs": [
    {
     "name": "stdout",
     "output_type": "stream",
     "text": [
      "[[-0.90068117  1.03205722 -1.3412724  -1.31297673]\n",
      " [-1.14301691 -0.1249576  -1.3412724  -1.31297673]\n",
      " [-1.38535265  0.33784833 -1.39813811 -1.31297673]\n",
      " [-1.50652052  0.10644536 -1.2844067  -1.31297673]\n",
      " [-1.02184904  1.26346019 -1.3412724  -1.31297673]]\n"
     ]
    }
   ],
   "source": [
    "# There are four features in this dataset with values on different scales. The first step in PCA is to standardize these features by using the StandardScaler library:\n",
    "\n",
    "iris_scaled = StandardScaler().fit_transform(df_iris)\n",
    "print(iris_scaled[0:5])\n",
    "\n",
    "# standardizes the data"
   ]
  },
  {
   "cell_type": "code",
   "execution_count": 49,
   "metadata": {},
   "outputs": [],
   "source": [
    "# Initialize PCA model, reduce features from 4 (original) to 2\n",
    "pca = PCA(n_components=2)"
   ]
  },
  {
   "cell_type": "code",
   "execution_count": 50,
   "metadata": {},
   "outputs": [],
   "source": [
    "# Get two principal components for the iris data.\n",
    "iris_pca = pca.fit_transform(iris_scaled)"
   ]
  },
  {
   "cell_type": "code",
   "execution_count": 51,
   "metadata": {},
   "outputs": [
    {
     "data": {
      "text/html": [
       "<div>\n",
       "<style scoped>\n",
       "    .dataframe tbody tr th:only-of-type {\n",
       "        vertical-align: middle;\n",
       "    }\n",
       "\n",
       "    .dataframe tbody tr th {\n",
       "        vertical-align: top;\n",
       "    }\n",
       "\n",
       "    .dataframe thead th {\n",
       "        text-align: right;\n",
       "    }\n",
       "</style>\n",
       "<table border=\"1\" class=\"dataframe\">\n",
       "  <thead>\n",
       "    <tr style=\"text-align: right;\">\n",
       "      <th></th>\n",
       "      <th>principal component 1</th>\n",
       "      <th>principal component 2</th>\n",
       "    </tr>\n",
       "  </thead>\n",
       "  <tbody>\n",
       "    <tr>\n",
       "      <th>0</th>\n",
       "      <td>-2.264542</td>\n",
       "      <td>0.505704</td>\n",
       "    </tr>\n",
       "    <tr>\n",
       "      <th>1</th>\n",
       "      <td>-2.086426</td>\n",
       "      <td>-0.655405</td>\n",
       "    </tr>\n",
       "    <tr>\n",
       "      <th>2</th>\n",
       "      <td>-2.367950</td>\n",
       "      <td>-0.318477</td>\n",
       "    </tr>\n",
       "    <tr>\n",
       "      <th>3</th>\n",
       "      <td>-2.304197</td>\n",
       "      <td>-0.575368</td>\n",
       "    </tr>\n",
       "    <tr>\n",
       "      <th>4</th>\n",
       "      <td>-2.388777</td>\n",
       "      <td>0.674767</td>\n",
       "    </tr>\n",
       "  </tbody>\n",
       "</table>\n",
       "</div>"
      ],
      "text/plain": [
       "   principal component 1  principal component 2\n",
       "0              -2.264542               0.505704\n",
       "1              -2.086426              -0.655405\n",
       "2              -2.367950              -0.318477\n",
       "3              -2.304197              -0.575368\n",
       "4              -2.388777               0.674767"
      ]
     },
     "execution_count": 51,
     "metadata": {},
     "output_type": "execute_result"
    }
   ],
   "source": [
    "# Transform PCA data into a df\n",
    "\n",
    "df_iris_pca = pd.DataFrame(data=iris_pca, columns=[\"principal component 1\",\"principal component 2\"])\n",
    "df_iris_pca.head()"
   ]
  },
  {
   "cell_type": "code",
   "execution_count": 52,
   "metadata": {},
   "outputs": [
    {
     "data": {
      "text/plain": [
       "array([0.72770452, 0.23030523])"
      ]
     },
     "execution_count": 52,
     "metadata": {},
     "output_type": "execute_result"
    }
   ],
   "source": [
    "# Use explained_variance_ratio to learn how much information can be attributed to each principal component:\n",
    "\n",
    "pca.explained_variance_ratio_\n",
    "\n"
   ]
  },
  {
   "cell_type": "code",
   "execution_count": 53,
   "metadata": {},
   "outputs": [
    {
     "data": {},
     "metadata": {},
     "output_type": "display_data"
    },
    {
     "data": {
      "application/vnd.holoviews_exec.v0+json": "",
      "text/html": [
       "<div id='1736'>\n",
       "\n",
       "\n",
       "\n",
       "\n",
       "\n",
       "  <div class=\"bk-root\" id=\"6c039c31-3bc3-45f3-aaf2-65fbcfa3c1fb\" data-root-id=\"1736\"></div>\n",
       "</div>\n",
       "<script type=\"application/javascript\">(function(root) {\n",
       "  function embed_document(root) {\n",
       "    var docs_json = {\"4be5b055-6d41-4202-ac2b-a8f873203b80\":{\"defs\":[{\"extends\":null,\"module\":null,\"name\":\"DataModel\",\"overrides\":[],\"properties\":[]}],\"roots\":{\"references\":[{\"attributes\":{},\"id\":\"1759\",\"type\":\"PanTool\"},{\"attributes\":{\"end\":10.0,\"reset_end\":10.0,\"reset_start\":1.0,\"start\":1.0,\"tags\":[[[\"k\",\"k\",null]]]},\"id\":\"1738\",\"type\":\"Range1d\"},{\"attributes\":{\"axis\":{\"id\":\"1750\"},\"grid_line_color\":null,\"ticker\":null},\"id\":\"1753\",\"type\":\"Grid\"},{\"attributes\":{},\"id\":\"1783\",\"type\":\"AllLabels\"},{\"attributes\":{},\"id\":\"1748\",\"type\":\"LinearScale\"},{\"attributes\":{},\"id\":\"1788\",\"type\":\"AllLabels\"},{\"attributes\":{\"axis\":{\"id\":\"1754\"},\"dimension\":1,\"grid_line_color\":null,\"ticker\":null},\"id\":\"1757\",\"type\":\"Grid\"},{\"attributes\":{},\"id\":\"1786\",\"type\":\"BasicTickFormatter\"},{\"attributes\":{\"axis_label\":\"k\",\"formatter\":{\"id\":\"1781\"},\"major_label_policy\":{\"id\":\"1783\"},\"ticker\":{\"id\":\"1780\"}},\"id\":\"1750\",\"type\":\"LinearAxis\"},{\"attributes\":{\"text\":\"Elbow Curve\",\"text_color\":\"black\",\"text_font_size\":\"12pt\"},\"id\":\"1742\",\"type\":\"Title\"},{\"attributes\":{\"line_alpha\":0.2,\"line_color\":\"#30a2da\",\"line_width\":2,\"x\":{\"field\":\"k\"},\"y\":{\"field\":\"inertia\"}},\"id\":\"1776\",\"type\":\"Line\"},{\"attributes\":{\"axis_label\":\"inertia\",\"formatter\":{\"id\":\"1786\"},\"major_label_policy\":{\"id\":\"1788\"},\"ticker\":{\"id\":\"1755\"}},\"id\":\"1754\",\"type\":\"LinearAxis\"},{\"attributes\":{},\"id\":\"1755\",\"type\":\"BasicTicker\"},{\"attributes\":{},\"id\":\"1760\",\"type\":\"WheelZoomTool\"},{\"attributes\":{\"active_multi\":null,\"tools\":[{\"id\":\"1740\"},{\"id\":\"1758\"},{\"id\":\"1759\"},{\"id\":\"1760\"},{\"id\":\"1761\"},{\"id\":\"1762\"}]},\"id\":\"1764\",\"type\":\"Toolbar\"},{\"attributes\":{},\"id\":\"1758\",\"type\":\"SaveTool\"},{\"attributes\":{\"overlay\":{\"id\":\"1763\"}},\"id\":\"1761\",\"type\":\"BoxZoomTool\"},{\"attributes\":{},\"id\":\"1762\",\"type\":\"ResetTool\"},{\"attributes\":{\"margin\":[5,5,5,5],\"name\":\"HSpacer03028\",\"sizing_mode\":\"stretch_width\"},\"id\":\"1807\",\"type\":\"Spacer\"},{\"attributes\":{\"line_alpha\":0.1,\"line_color\":\"#30a2da\",\"line_width\":2,\"x\":{\"field\":\"k\"},\"y\":{\"field\":\"inertia\"}},\"id\":\"1775\",\"type\":\"Line\"},{\"attributes\":{\"line_color\":\"#30a2da\",\"line_width\":2,\"x\":{\"field\":\"k\"},\"y\":{\"field\":\"inertia\"}},\"id\":\"1774\",\"type\":\"Line\"},{\"attributes\":{},\"id\":\"1772\",\"type\":\"Selection\"},{\"attributes\":{\"data_source\":{\"id\":\"1771\"},\"glyph\":{\"id\":\"1774\"},\"hover_glyph\":null,\"muted_glyph\":{\"id\":\"1776\"},\"nonselection_glyph\":{\"id\":\"1775\"},\"selection_glyph\":{\"id\":\"1779\"},\"view\":{\"id\":\"1778\"}},\"id\":\"1777\",\"type\":\"GlyphRenderer\"},{\"attributes\":{\"ticks\":[1,2,3,4,5,6,7,8,9,10]},\"id\":\"1780\",\"type\":\"FixedTicker\"},{\"attributes\":{\"children\":[{\"id\":\"1737\"},{\"id\":\"1741\"},{\"id\":\"1807\"}],\"margin\":[0,0,0,0],\"name\":\"Row03023\",\"tags\":[\"embedded\"]},\"id\":\"1736\",\"type\":\"Row\"},{\"attributes\":{\"below\":[{\"id\":\"1750\"}],\"center\":[{\"id\":\"1753\"},{\"id\":\"1757\"}],\"height\":300,\"left\":[{\"id\":\"1754\"}],\"margin\":[5,5,5,5],\"min_border_bottom\":10,\"min_border_left\":10,\"min_border_right\":10,\"min_border_top\":10,\"renderers\":[{\"id\":\"1777\"}],\"sizing_mode\":\"fixed\",\"title\":{\"id\":\"1742\"},\"toolbar\":{\"id\":\"1764\"},\"width\":700,\"x_range\":{\"id\":\"1738\"},\"x_scale\":{\"id\":\"1746\"},\"y_range\":{\"id\":\"1739\"},\"y_scale\":{\"id\":\"1748\"}},\"id\":\"1741\",\"subtype\":\"Figure\",\"type\":\"Plot\"},{\"attributes\":{\"margin\":[5,5,5,5],\"name\":\"HSpacer03027\",\"sizing_mode\":\"stretch_width\"},\"id\":\"1737\",\"type\":\"Spacer\"},{\"attributes\":{},\"id\":\"1746\",\"type\":\"LinearScale\"},{\"attributes\":{\"source\":{\"id\":\"1771\"}},\"id\":\"1778\",\"type\":\"CDSView\"},{\"attributes\":{},\"id\":\"1797\",\"type\":\"UnionRenderers\"},{\"attributes\":{},\"id\":\"1781\",\"type\":\"BasicTickFormatter\"},{\"attributes\":{\"callback\":null,\"renderers\":[{\"id\":\"1777\"}],\"tags\":[\"hv_created\"],\"tooltips\":[[\"k\",\"@{k}\"],[\"inertia\",\"@{inertia}\"]]},\"id\":\"1740\",\"type\":\"HoverTool\"},{\"attributes\":{\"line_color\":\"#30a2da\",\"line_width\":2,\"x\":{\"field\":\"k\"},\"y\":{\"field\":\"inertia\"}},\"id\":\"1779\",\"type\":\"Line\"},{\"attributes\":{\"end\":629.4448064337402,\"reset_end\":629.4448064337402,\"reset_start\":-26.222644744436863,\"start\":-26.222644744436863,\"tags\":[[[\"inertia\",\"inertia\",null]]]},\"id\":\"1739\",\"type\":\"Range1d\"},{\"attributes\":{\"bottom_units\":\"screen\",\"fill_alpha\":0.5,\"fill_color\":\"lightgrey\",\"left_units\":\"screen\",\"level\":\"overlay\",\"line_alpha\":1.0,\"line_color\":\"black\",\"line_dash\":[4,4],\"line_width\":2,\"right_units\":\"screen\",\"syncable\":false,\"top_units\":\"screen\"},\"id\":\"1763\",\"type\":\"BoxAnnotation\"},{\"attributes\":{\"data\":{\"inertia\":{\"__ndarray__\":\"azafYnL2gUA5bWBmntZoQK2mqsr9Bl1AV/WgT6xnVkDl0qR94pNQQBYzFtg6gkxAOolQDTvuR0ABMecNVaJDQPC1b3wwFkBA/i2/QpNqPEA=\",\"dtype\":\"float64\",\"order\":\"little\",\"shape\":[10]},\"k\":[1,2,3,4,5,6,7,8,9,10]},\"selected\":{\"id\":\"1772\"},\"selection_policy\":{\"id\":\"1797\"}},\"id\":\"1771\",\"type\":\"ColumnDataSource\"}],\"root_ids\":[\"1736\"]},\"title\":\"Bokeh Application\",\"version\":\"2.3.0\"}};\n",
       "    var render_items = [{\"docid\":\"4be5b055-6d41-4202-ac2b-a8f873203b80\",\"root_ids\":[\"1736\"],\"roots\":{\"1736\":\"6c039c31-3bc3-45f3-aaf2-65fbcfa3c1fb\"}}];\n",
       "    root.Bokeh.embed.embed_items_notebook(docs_json, render_items);\n",
       "  }\n",
       "  if (root.Bokeh !== undefined && root.Bokeh.Panel !== undefined) {\n",
       "    embed_document(root);\n",
       "  } else {\n",
       "    var attempts = 0;\n",
       "    var timer = setInterval(function(root) {\n",
       "      if (root.Bokeh !== undefined && root.Bokeh.Panel !== undefined) {\n",
       "        clearInterval(timer);\n",
       "        embed_document(root);\n",
       "      } else if (document.readyState == \"complete\") {\n",
       "        attempts++;\n",
       "        if (attempts > 100) {\n",
       "          clearInterval(timer);\n",
       "          console.log(\"Bokeh: ERROR: Unable to run BokehJS code because BokehJS library is missing\");\n",
       "        }\n",
       "      }\n",
       "    }, 10, root)\n",
       "  }\n",
       "})(window);</script>"
      ],
      "text/plain": [
       ":Curve   [k]   (inertia)"
      ]
     },
     "execution_count": 53,
     "metadata": {
      "application/vnd.holoviews_exec.v0+json": {
       "id": "1736"
      }
     },
     "output_type": "execute_result"
    }
   ],
   "source": [
    "# Next, we’ll use the elbow curve with the generated principal components and see the K value is 3:\n",
    "\n",
    "# Find the best value for K\n",
    "inertia = []\n",
    "k = list(range(1, 11))\n",
    "\n",
    "# Calculate the inertia for the range of K values\n",
    "for i in k:\n",
    "\tkm = KMeans(n_clusters=i, random_state=0)\n",
    "\tkm.fit(df_iris_pca)\n",
    "\tinertia.append(km.inertia_)\n",
    "\n",
    "# Create the elbow curve\n",
    "elbow_data = {\"k\": k, \"inertia\": inertia}\n",
    "df_elbow = pd.DataFrame(elbow_data)\n",
    "df_elbow.hvplot.line(x=\"k\", y=\"inertia\", xticks=k, title=\"Elbow Curve\")"
   ]
  },
  {
   "cell_type": "code",
   "execution_count": 54,
   "metadata": {},
   "outputs": [
    {
     "data": {
      "text/html": [
       "<div>\n",
       "<style scoped>\n",
       "    .dataframe tbody tr th:only-of-type {\n",
       "        vertical-align: middle;\n",
       "    }\n",
       "\n",
       "    .dataframe tbody tr th {\n",
       "        vertical-align: top;\n",
       "    }\n",
       "\n",
       "    .dataframe thead th {\n",
       "        text-align: right;\n",
       "    }\n",
       "</style>\n",
       "<table border=\"1\" class=\"dataframe\">\n",
       "  <thead>\n",
       "    <tr style=\"text-align: right;\">\n",
       "      <th></th>\n",
       "      <th>principal component 1</th>\n",
       "      <th>principal component 2</th>\n",
       "      <th>class</th>\n",
       "    </tr>\n",
       "  </thead>\n",
       "  <tbody>\n",
       "    <tr>\n",
       "      <th>0</th>\n",
       "      <td>-2.264542</td>\n",
       "      <td>0.505704</td>\n",
       "      <td>0</td>\n",
       "    </tr>\n",
       "    <tr>\n",
       "      <th>1</th>\n",
       "      <td>-2.086426</td>\n",
       "      <td>-0.655405</td>\n",
       "      <td>0</td>\n",
       "    </tr>\n",
       "    <tr>\n",
       "      <th>2</th>\n",
       "      <td>-2.367950</td>\n",
       "      <td>-0.318477</td>\n",
       "      <td>0</td>\n",
       "    </tr>\n",
       "    <tr>\n",
       "      <th>3</th>\n",
       "      <td>-2.304197</td>\n",
       "      <td>-0.575368</td>\n",
       "      <td>0</td>\n",
       "    </tr>\n",
       "    <tr>\n",
       "      <th>4</th>\n",
       "      <td>-2.388777</td>\n",
       "      <td>0.674767</td>\n",
       "      <td>0</td>\n",
       "    </tr>\n",
       "  </tbody>\n",
       "</table>\n",
       "</div>"
      ],
      "text/plain": [
       "   principal component 1  principal component 2  class\n",
       "0              -2.264542               0.505704      0\n",
       "1              -2.086426              -0.655405      0\n",
       "2              -2.367950              -0.318477      0\n",
       "3              -2.304197              -0.575368      0\n",
       "4              -2.388777               0.674767      0"
      ]
     },
     "execution_count": 54,
     "metadata": {},
     "output_type": "execute_result"
    }
   ],
   "source": [
    "# Initialize the K-means model\n",
    "model = KMeans(n_clusters=3, random_state=0)\n",
    "\n",
    "# Fit the model\n",
    "model.fit(df_iris_pca)\n",
    "\n",
    "# Predict clusters\n",
    "predictions = model.predict(df_iris_pca)\n",
    "\n",
    "# Add the predicted class columns\n",
    "df_iris_pca[\"class\"] = model.labels_\n",
    "df_iris_pca.head()"
   ]
  },
  {
   "cell_type": "code",
   "execution_count": 55,
   "metadata": {},
   "outputs": [
    {
     "data": {},
     "metadata": {},
     "output_type": "display_data"
    },
    {
     "data": {
      "application/vnd.holoviews_exec.v0+json": "",
      "text/html": [
       "<div id='1854'>\n",
       "\n",
       "\n",
       "\n",
       "\n",
       "\n",
       "  <div class=\"bk-root\" id=\"ab04c48e-1403-4c9a-8473-ceeb982bee10\" data-root-id=\"1854\"></div>\n",
       "</div>\n",
       "<script type=\"application/javascript\">(function(root) {\n",
       "  function embed_document(root) {\n",
       "    var docs_json = {\"04667fae-8bbf-4f14-84a8-10855e3f984f\":{\"defs\":[{\"extends\":null,\"module\":null,\"name\":\"DataModel\",\"overrides\":[],\"properties\":[]}],\"roots\":{\"references\":[{\"attributes\":{\"click_policy\":\"mute\",\"items\":[{\"id\":\"1916\"},{\"id\":\"1938\"},{\"id\":\"1962\"}],\"location\":[0,0],\"title\":\"class\"},\"id\":\"1915\",\"type\":\"Legend\"},{\"attributes\":{\"label\":{\"value\":\"1\"},\"renderers\":[{\"id\":\"1924\"}]},\"id\":\"1938\",\"type\":\"LegendItem\"},{\"attributes\":{\"margin\":[5,5,5,5],\"name\":\"HSpacer03258\",\"sizing_mode\":\"stretch_width\"},\"id\":\"1855\",\"type\":\"Spacer\"},{\"attributes\":{\"fill_alpha\":{\"value\":0.2},\"fill_color\":{\"value\":\"#30a2da\"},\"line_alpha\":{\"value\":0.2},\"line_color\":{\"value\":\"#30a2da\"},\"size\":{\"value\":5.477225575051661},\"x\":{\"field\":\"principal component 1\"},\"y\":{\"field\":\"principal component 2\"}},\"id\":\"1902\",\"type\":\"Scatter\"},{\"attributes\":{\"children\":[{\"id\":\"1855\"},{\"id\":\"1861\"},{\"id\":\"2090\"}],\"margin\":[0,0,0,0],\"name\":\"Row03254\",\"tags\":[\"embedded\"]},\"id\":\"1854\",\"type\":\"Row\"},{\"attributes\":{},\"id\":\"1879\",\"type\":\"PanTool\"},{\"attributes\":{\"data\":{\"class\":{\"__ndarray__\":\"AAAAAAAAAAAAAAAAAAAAAAAAAAAAAAAAAAAAAAAAAAAAAAAAAAAAAAAAAAAAAAAAAAAAAAAAAAAAAAAAAAAAAAAAAAAAAAAAAAAAAAAAAAAAAAAAAAAAAAAAAAAAAAAAAAAAAAAAAAAAAAAAAAAAAAAAAAAAAAAAAAAAAAAAAAAAAAAAAAAAAAAAAAAAAAAAAAAAAAAAAAAAAAAAAAAAAAAAAAAAAAAAAAAAAAAAAAAAAAAAAAAAAAAAAAAAAAAAAAAAAAAAAAA=\",\"dtype\":\"int32\",\"order\":\"little\",\"shape\":[50]},\"principal component 1\":{\"__ndarray__\":\"RxG/DcgdAsChflXa/7AAwDEtSgGQ8QLArnjV6/5uAsCAOOBfNxwDwLMJAJp1kADA7lhZG9GQA8C6vPx66N4BwLvvZ05UvALA5dUzb2iCAcDHACQK0k4BwICPWzp4ngLAbUHW4evKAcB0YBiPIx4FwONkYiHQiQHA7sLFMQADAsDEicmkO58BwNXnRqd8hQHAFLKL2CBO/r9xMd43N7gCwDsu6+IFov6/K3pNIB2jAcAlHszufzEGwHWyHOBnIP2/dG9EsmPTAcBrStBn+E//v+oJWiugagDA0hcE6nVYAcD16Z27WB8BwCYNM3l7JgLA4OURJwwoAcCzCNRTnk/9v3mUD3eZ3QTAyIxIYeyAA8Dl1TNvaIIBwAjB4qBfsAHAqgtPDPdaAMDl1TNvaIIBwKHdMoLUfAPAViP02UddAcA+4QHLzkoCwGRzDEaD8v2/Yvlj5HF2BMD9iQQfsG3/v/qHnMYlEQHAoe7lFFWaAMDT+qMb0QwDwJNmoB9/LwPALZosq3LQAcDfjpZMy6UBwA==\",\"dtype\":\"float64\",\"order\":\"little\",\"shape\":[50]},\"principal component 2\":{\"__ndarray__\":\"aO9787ku4D/2F8lWE/nkv2vYpqjuYdS/DySQjGlp4r/X0afLsZflP72+IZP5S/g/SSSoGooWsz98eXQ10LHPP9AIOjG4hfG/iE6pnFa23L9qMKXTKCHxPzS/qP2XTMQ/pqo3kBix5r+IiXLvZwbuv96ryBtaPf4/lbWrfGrHBUBkjF03Ujj4Pzj+/04udeA/9Uk0V9Tl9j8ppZIPTofyP3DAlsG9jNs/3/KSxId67j9Eu+o4P1TfPyrWDBwFVLs/Uu1BJITCxD+3YRod23Pjv2+qjuRgBtE/cYxIfx6q4T/hGaA2hIvVP15BWpX4JtS/RgayRej43r8Tlx54QH/cP7pxJTRvQf0/xrJwma57AUCITqmcVrbcvxjn16FhmMe/tOVDvSnr5T+ITqmcVrbcv3rEP1q7Ouy/e0SP1gm80j9ZwmaGk/PdP4B/28YcnwLApu8l3FML3b9qssu+Q9XfP+7eGJkvvvI/+4wv2S8k5r9VqsG4/WjyP9SttwhpMde/ee6vZGBo8D/r7UmWeoGgPw==\",\"dtype\":\"float64\",\"order\":\"little\",\"shape\":[50]},\"principal_component_1\":{\"__ndarray__\":\"RxG/DcgdAsChflXa/7AAwDEtSgGQ8QLArnjV6/5uAsCAOOBfNxwDwLMJAJp1kADA7lhZG9GQA8C6vPx66N4BwLvvZ05UvALA5dUzb2iCAcDHACQK0k4BwICPWzp4ngLAbUHW4evKAcB0YBiPIx4FwONkYiHQiQHA7sLFMQADAsDEicmkO58BwNXnRqd8hQHAFLKL2CBO/r9xMd43N7gCwDsu6+IFov6/K3pNIB2jAcAlHszufzEGwHWyHOBnIP2/dG9EsmPTAcBrStBn+E//v+oJWiugagDA0hcE6nVYAcD16Z27WB8BwCYNM3l7JgLA4OURJwwoAcCzCNRTnk/9v3mUD3eZ3QTAyIxIYeyAA8Dl1TNvaIIBwAjB4qBfsAHAqgtPDPdaAMDl1TNvaIIBwKHdMoLUfAPAViP02UddAcA+4QHLzkoCwGRzDEaD8v2/Yvlj5HF2BMD9iQQfsG3/v/qHnMYlEQHAoe7lFFWaAMDT+qMb0QwDwJNmoB9/LwPALZosq3LQAcDfjpZMy6UBwA==\",\"dtype\":\"float64\",\"order\":\"little\",\"shape\":[50]},\"principal_component_2\":{\"__ndarray__\":\"aO9787ku4D/2F8lWE/nkv2vYpqjuYdS/DySQjGlp4r/X0afLsZflP72+IZP5S/g/SSSoGooWsz98eXQ10LHPP9AIOjG4hfG/iE6pnFa23L9qMKXTKCHxPzS/qP2XTMQ/pqo3kBix5r+IiXLvZwbuv96ryBtaPf4/lbWrfGrHBUBkjF03Ujj4Pzj+/04udeA/9Uk0V9Tl9j8ppZIPTofyP3DAlsG9jNs/3/KSxId67j9Eu+o4P1TfPyrWDBwFVLs/Uu1BJITCxD+3YRod23Pjv2+qjuRgBtE/cYxIfx6q4T/hGaA2hIvVP15BWpX4JtS/RgayRej43r8Tlx54QH/cP7pxJTRvQf0/xrJwma57AUCITqmcVrbcvxjn16FhmMe/tOVDvSnr5T+ITqmcVrbcv3rEP1q7Ouy/e0SP1gm80j9ZwmaGk/PdP4B/28YcnwLApu8l3FML3b9qssu+Q9XfP+7eGJkvvvI/+4wv2S8k5r9VqsG4/WjyP9SttwhpMde/ee6vZGBo8D/r7UmWeoGgPw==\",\"dtype\":\"float64\",\"order\":\"little\",\"shape\":[50]}},\"selected\":{\"id\":\"1898\"},\"selection_policy\":{\"id\":\"1914\"}},\"id\":\"1897\",\"type\":\"ColumnDataSource\"},{\"attributes\":{\"axis_label\":\"principal component 2\",\"formatter\":{\"id\":\"1894\"},\"major_label_policy\":{\"id\":\"1896\"},\"ticker\":{\"id\":\"1875\"}},\"id\":\"1874\",\"type\":\"LinearAxis\"},{\"attributes\":{\"fill_alpha\":{\"value\":0.2},\"fill_color\":{\"value\":\"#e5ae38\"},\"line_alpha\":{\"value\":0.2},\"line_color\":{\"value\":\"#e5ae38\"},\"size\":{\"value\":5.477225575051661},\"x\":{\"field\":\"principal component 1\"},\"y\":{\"field\":\"principal component 2\"}},\"id\":\"1945\",\"type\":\"Scatter\"},{\"attributes\":{},\"id\":\"1880\",\"type\":\"WheelZoomTool\"},{\"attributes\":{\"axis\":{\"id\":\"1874\"},\"dimension\":1,\"grid_line_color\":null,\"ticker\":null},\"id\":\"1877\",\"type\":\"Grid\"},{\"attributes\":{},\"id\":\"1878\",\"type\":\"SaveTool\"},{\"attributes\":{\"fill_alpha\":{\"value\":0.1},\"fill_color\":{\"value\":\"#e5ae38\"},\"line_alpha\":{\"value\":0.1},\"line_color\":{\"value\":\"#e5ae38\"},\"size\":{\"value\":5.477225575051661},\"x\":{\"field\":\"principal component 1\"},\"y\":{\"field\":\"principal component 2\"}},\"id\":\"1944\",\"type\":\"Scatter\"},{\"attributes\":{\"overlay\":{\"id\":\"1883\"}},\"id\":\"1881\",\"type\":\"BoxZoomTool\"},{\"attributes\":{},\"id\":\"1937\",\"type\":\"UnionRenderers\"},{\"attributes\":{\"angle\":{\"value\":0.0},\"fill_alpha\":{\"value\":1.0},\"fill_color\":{\"value\":\"#e5ae38\"},\"hatch_alpha\":{\"value\":1.0},\"hatch_color\":{\"value\":\"black\"},\"hatch_scale\":{\"value\":12.0},\"hatch_weight\":{\"value\":1.0},\"line_alpha\":{\"value\":1.0},\"line_cap\":{\"value\":\"butt\"},\"line_color\":{\"value\":\"#e5ae38\"},\"line_dash\":{\"value\":[]},\"line_dash_offset\":{\"value\":0},\"line_join\":{\"value\":\"bevel\"},\"line_width\":{\"value\":1},\"marker\":{\"value\":\"circle\"},\"size\":{\"value\":5.477225575051661},\"x\":{\"field\":\"principal component 1\"},\"y\":{\"field\":\"principal component 2\"}},\"id\":\"1963\",\"type\":\"Scatter\"},{\"attributes\":{},\"id\":\"1882\",\"type\":\"ResetTool\"},{\"attributes\":{\"active_multi\":null,\"tools\":[{\"id\":\"1858\"},{\"id\":\"1878\"},{\"id\":\"1879\"},{\"id\":\"1880\"},{\"id\":\"1881\"},{\"id\":\"1882\"}]},\"id\":\"1884\",\"type\":\"Toolbar\"},{\"attributes\":{\"data_source\":{\"id\":\"1940\"},\"glyph\":{\"id\":\"1943\"},\"hover_glyph\":null,\"muted_glyph\":{\"id\":\"1945\"},\"nonselection_glyph\":{\"id\":\"1944\"},\"selection_glyph\":{\"id\":\"1963\"},\"view\":{\"id\":\"1947\"}},\"id\":\"1946\",\"type\":\"GlyphRenderer\"},{\"attributes\":{},\"id\":\"1891\",\"type\":\"BasicTickFormatter\"},{\"attributes\":{\"source\":{\"id\":\"1940\"}},\"id\":\"1947\",\"type\":\"CDSView\"},{\"attributes\":{\"margin\":[5,5,5,5],\"name\":\"HSpacer03259\",\"sizing_mode\":\"stretch_width\"},\"id\":\"2090\",\"type\":\"Spacer\"},{\"attributes\":{\"fill_color\":{\"value\":\"#e5ae38\"},\"line_color\":{\"value\":\"#e5ae38\"},\"size\":{\"value\":5.477225575051661},\"x\":{\"field\":\"principal component 1\"},\"y\":{\"field\":\"principal component 2\"}},\"id\":\"1943\",\"type\":\"Scatter\"},{\"attributes\":{\"label\":{\"value\":\"2\"},\"renderers\":[{\"id\":\"1946\"}]},\"id\":\"1962\",\"type\":\"LegendItem\"},{\"attributes\":{},\"id\":\"1898\",\"type\":\"Selection\"},{\"attributes\":{},\"id\":\"1893\",\"type\":\"AllLabels\"},{\"attributes\":{\"fill_alpha\":{\"value\":0.1},\"fill_color\":{\"value\":\"#fc4f30\"},\"line_alpha\":{\"value\":0.1},\"line_color\":{\"value\":\"#fc4f30\"},\"size\":{\"value\":5.477225575051661},\"x\":{\"field\":\"principal component 1\"},\"y\":{\"field\":\"principal component 2\"}},\"id\":\"1922\",\"type\":\"Scatter\"},{\"attributes\":{\"label\":{\"value\":\"0\"},\"renderers\":[{\"id\":\"1903\"}]},\"id\":\"1916\",\"type\":\"LegendItem\"},{\"attributes\":{},\"id\":\"1896\",\"type\":\"AllLabels\"},{\"attributes\":{\"axis_label\":\"principal component 1\",\"formatter\":{\"id\":\"1891\"},\"major_label_policy\":{\"id\":\"1893\"},\"ticker\":{\"id\":\"1871\"}},\"id\":\"1870\",\"type\":\"LinearAxis\"},{\"attributes\":{},\"id\":\"1941\",\"type\":\"Selection\"},{\"attributes\":{},\"id\":\"1894\",\"type\":\"BasicTickFormatter\"},{\"attributes\":{\"source\":{\"id\":\"1897\"}},\"id\":\"1904\",\"type\":\"CDSView\"},{\"attributes\":{\"angle\":{\"value\":0.0},\"fill_alpha\":{\"value\":1.0},\"fill_color\":{\"value\":\"#30a2da\"},\"hatch_alpha\":{\"value\":1.0},\"hatch_color\":{\"value\":\"black\"},\"hatch_scale\":{\"value\":12.0},\"hatch_weight\":{\"value\":1.0},\"line_alpha\":{\"value\":1.0},\"line_cap\":{\"value\":\"butt\"},\"line_color\":{\"value\":\"#30a2da\"},\"line_dash\":{\"value\":[]},\"line_dash_offset\":{\"value\":0},\"line_join\":{\"value\":\"bevel\"},\"line_width\":{\"value\":1},\"marker\":{\"value\":\"circle\"},\"size\":{\"value\":5.477225575051661},\"x\":{\"field\":\"principal component 1\"},\"y\":{\"field\":\"principal component 2\"}},\"id\":\"1917\",\"type\":\"Scatter\"},{\"attributes\":{\"axis\":{\"id\":\"1870\"},\"grid_line_color\":null,\"ticker\":null},\"id\":\"1873\",\"type\":\"Grid\"},{\"attributes\":{},\"id\":\"1871\",\"type\":\"BasicTicker\"},{\"attributes\":{\"end\":3.5698545102352774,\"reset_end\":3.5698545102352774,\"reset_start\":-3.034883121264354,\"start\":-3.034883121264354,\"tags\":[[[\"principal component 1\",\"principal component 1\",null]]]},\"id\":\"1856\",\"type\":\"Range1d\"},{\"attributes\":{\"fill_color\":{\"value\":\"#30a2da\"},\"line_color\":{\"value\":\"#30a2da\"},\"size\":{\"value\":5.477225575051661},\"x\":{\"field\":\"principal component 1\"},\"y\":{\"field\":\"principal component 2\"}},\"id\":\"1900\",\"type\":\"Scatter\"},{\"attributes\":{},\"id\":\"1914\",\"type\":\"UnionRenderers\"},{\"attributes\":{\"data\":{\"class\":{\"__ndarray__\":\"AQAAAAEAAAABAAAAAQAAAAEAAAABAAAAAQAAAAEAAAABAAAAAQAAAAEAAAABAAAAAQAAAAEAAAABAAAAAQAAAAEAAAABAAAAAQAAAAEAAAABAAAAAQAAAAEAAAABAAAAAQAAAAEAAAABAAAAAQAAAAEAAAABAAAAAQAAAAEAAAABAAAAAQAAAAEAAAABAAAAAQAAAAEAAAABAAAAAQAAAAEAAAABAAAAAQAAAAEAAAABAAAAAQAAAAEAAAABAAAAAQAAAAEAAAABAAAAAQAAAAEAAAA=\",\"dtype\":\"int32\",\"order\":\"little\",\"shape\":[53]},\"principal component 1\":{\"__ndarray__\":\"fhWMhntt2T9KnJZFWCnxP2eBHlf2mtg/9P4dZv7c3790GywXnaPtPy+/kDZaWXQ/Ht6FPizsv7+xz+h8JxTcP1pNsk78puE/PEUqJwTz5j/Sz63ghxOjv5Vu06S8RdY/4rIv7V2iwz9o6iTH4XHzPyrYZACmFsQ/XK1SDE473j8SyjX41qXzP4wxy7fjI+Q/HtCK7kVq5j8fhVUnIzDlP9Ab1FJINai/Sj98rN0cvz8lkFg5BOqMPyDf6GWaNc4/D81ZRTXo8D+dsJMoZVfMP9Kbvwf1kvA/ql4TnFcrsT9zNwN1kKDRP8Z9yQ7wbdE/po3+VwPx4z+23kvRzh7VP9HEFNWD6de/1iTllsIb0j8uX21EL8y2PwQkQhu5t8w/9gRG5kBd4j/jjFDrsj/dv96A0gDGJNA/318IKHdz8j/yoUp+m+/WP1v35HGkDPQ/HOKIxsts9z/+RPpdThD0P4titwdQKu8/9YqkmmBE9T9jfP3wHsDyP+D2a9zEx/E/KjazatUo8z+ZvvFQw4ztP99fCCh3c/I/StVbMZXv+D852SvtkrLuPw==\",\"dtype\":\"float64\",\"order\":\"little\",\"shape\":[53]},\"principal component 2\":{\"__ndarray__\":\"ls0hw3Uh/L+OAFcJ4hrLv/QVlNb76eK/aZSza/eU/b9QjGFUCw+fP+rLA01tePC/94KEXbZDBcDC9gYTsCWuv03NqHx+XPy/3Hstxk+8x78zLLY26rLbvxW+JkVKZsi/mYnUeJ9N6b9m5T6HOSL6v8FAi9CC2fS/uQipiLWp2r9Kr8dW+Rvuv+vFU70Krdq/CjfCViNBsL9oGdg+X7fMv2oFEZBX6vC/cMJ8cXkE+b9x1i92nSz5v0eekB1e1Oi/ES0SzX5h5L+Cbj2aaPnRv76Ls++KR/a/lsdo/yc3y79CZwsN7Ub1vyoJ/oM76fG/zsUd1SI0nD9u68QlE6Xvv9HC5Ku5JADAqks7dJBT67+xjkY+Z2PGv1L2R1TcWdi/gTq1mhitw7+5+86JpaH4v6h6HI5KEeO/UghbdkNx5r9Dlg29Jfb4v5QxaImirfK/sq9g7els3L9VKnQyOXv7v0rNWXwPR+K/SGwdsBUn37/I2YlbzWjUvwGUgLFv8dK/T6/b9jwm6r81AFtSILGTP1IIW3ZDcea/xlrVOlT47L+SCiw2mtGWvw==\",\"dtype\":\"float64\",\"order\":\"little\",\"shape\":[53]},\"principal_component_1\":{\"__ndarray__\":\"fhWMhntt2T9KnJZFWCnxP2eBHlf2mtg/9P4dZv7c3790GywXnaPtPy+/kDZaWXQ/Ht6FPizsv7+xz+h8JxTcP1pNsk78puE/PEUqJwTz5j/Sz63ghxOjv5Vu06S8RdY/4rIv7V2iwz9o6iTH4XHzPyrYZACmFsQ/XK1SDE473j8SyjX41qXzP4wxy7fjI+Q/HtCK7kVq5j8fhVUnIzDlP9Ab1FJINai/Sj98rN0cvz8lkFg5BOqMPyDf6GWaNc4/D81ZRTXo8D+dsJMoZVfMP9Kbvwf1kvA/ql4TnFcrsT9zNwN1kKDRP8Z9yQ7wbdE/po3+VwPx4z+23kvRzh7VP9HEFNWD6de/1iTllsIb0j8uX21EL8y2PwQkQhu5t8w/9gRG5kBd4j/jjFDrsj/dv96A0gDGJNA/318IKHdz8j/yoUp+m+/WP1v35HGkDPQ/HOKIxsts9z/+RPpdThD0P4titwdQKu8/9YqkmmBE9T9jfP3wHsDyP+D2a9zEx/E/KjazatUo8z+ZvvFQw4ztP99fCCh3c/I/StVbMZXv+D852SvtkrLuPw==\",\"dtype\":\"float64\",\"order\":\"little\",\"shape\":[53]},\"principal_component_2\":{\"__ndarray__\":\"ls0hw3Uh/L+OAFcJ4hrLv/QVlNb76eK/aZSza/eU/b9QjGFUCw+fP+rLA01tePC/94KEXbZDBcDC9gYTsCWuv03NqHx+XPy/3Hstxk+8x78zLLY26rLbvxW+JkVKZsi/mYnUeJ9N6b9m5T6HOSL6v8FAi9CC2fS/uQipiLWp2r9Kr8dW+Rvuv+vFU70Krdq/CjfCViNBsL9oGdg+X7fMv2oFEZBX6vC/cMJ8cXkE+b9x1i92nSz5v0eekB1e1Oi/ES0SzX5h5L+Cbj2aaPnRv76Ls++KR/a/lsdo/yc3y79CZwsN7Ub1vyoJ/oM76fG/zsUd1SI0nD9u68QlE6Xvv9HC5Ku5JADAqks7dJBT67+xjkY+Z2PGv1L2R1TcWdi/gTq1mhitw7+5+86JpaH4v6h6HI5KEeO/UghbdkNx5r9Dlg29Jfb4v5QxaImirfK/sq9g7els3L9VKnQyOXv7v0rNWXwPR+K/SGwdsBUn37/I2YlbzWjUvwGUgLFv8dK/T6/b9jwm6r81AFtSILGTP1IIW3ZDcea/xlrVOlT47L+SCiw2mtGWvw==\",\"dtype\":\"float64\",\"order\":\"little\",\"shape\":[53]}},\"selected\":{\"id\":\"1919\"},\"selection_policy\":{\"id\":\"1937\"}},\"id\":\"1918\",\"type\":\"ColumnDataSource\"},{\"attributes\":{\"source\":{\"id\":\"1918\"}},\"id\":\"1925\",\"type\":\"CDSView\"},{\"attributes\":{\"bottom_units\":\"screen\",\"fill_alpha\":0.5,\"fill_color\":\"lightgrey\",\"left_units\":\"screen\",\"level\":\"overlay\",\"line_alpha\":1.0,\"line_color\":\"black\",\"line_dash\":[4,4],\"line_width\":2,\"right_units\":\"screen\",\"syncable\":false,\"top_units\":\"screen\"},\"id\":\"1883\",\"type\":\"BoxAnnotation\"},{\"attributes\":{\"text_color\":\"black\",\"text_font_size\":\"12pt\"},\"id\":\"1862\",\"type\":\"Title\"},{\"attributes\":{},\"id\":\"1919\",\"type\":\"Selection\"},{\"attributes\":{},\"id\":\"1961\",\"type\":\"UnionRenderers\"},{\"attributes\":{\"end\":3.260414452028094,\"reset_end\":3.260414452028094,\"reset_start\":-3.1961060534153853,\"start\":-3.1961060534153853,\"tags\":[[[\"principal component 2\",\"principal component 2\",null]]]},\"id\":\"1857\",\"type\":\"Range1d\"},{\"attributes\":{\"fill_color\":{\"value\":\"#fc4f30\"},\"line_color\":{\"value\":\"#fc4f30\"},\"size\":{\"value\":5.477225575051661},\"x\":{\"field\":\"principal component 1\"},\"y\":{\"field\":\"principal component 2\"}},\"id\":\"1921\",\"type\":\"Scatter\"},{\"attributes\":{\"data_source\":{\"id\":\"1918\"},\"glyph\":{\"id\":\"1921\"},\"hover_glyph\":null,\"muted_glyph\":{\"id\":\"1923\"},\"nonselection_glyph\":{\"id\":\"1922\"},\"selection_glyph\":{\"id\":\"1939\"},\"view\":{\"id\":\"1925\"}},\"id\":\"1924\",\"type\":\"GlyphRenderer\"},{\"attributes\":{\"callback\":null,\"renderers\":[{\"id\":\"1903\"},{\"id\":\"1924\"},{\"id\":\"1946\"}],\"tags\":[\"hv_created\"],\"tooltips\":[[\"class\",\"@{class}\"],[\"principal component 1\",\"@{principal_component_1}\"],[\"principal component 2\",\"@{principal_component_2}\"]]},\"id\":\"1858\",\"type\":\"HoverTool\"},{\"attributes\":{\"data\":{\"class\":{\"__ndarray__\":\"AgAAAAIAAAACAAAAAgAAAAIAAAACAAAAAgAAAAIAAAACAAAAAgAAAAIAAAACAAAAAgAAAAIAAAACAAAAAgAAAAIAAAACAAAAAgAAAAIAAAACAAAAAgAAAAIAAAACAAAAAgAAAAIAAAACAAAAAgAAAAIAAAACAAAAAgAAAAIAAAACAAAAAgAAAAIAAAACAAAAAgAAAAIAAAACAAAAAgAAAAIAAAACAAAAAgAAAAIAAAACAAAAAgAAAAIAAAA=\",\"dtype\":\"int32\",\"order\":\"little\",\"shape\":[47]},\"principal component 1\":{\"__ndarray__\":\"dpicP/Wp8T/qdLjqfHDnP0tUdjeu3/M/kX2nUXn15z+Bt9eWSwfsPwTqCkTLn+c/aokX1wP06z/sYaNJSxH0PxhwyrRZu/U/YSqW1lWi2z+mboqoZcrwP2RoZCMRkP0/X6OtkJqmAUCvkwP82gT3P8Sof1zh4v0/dUK5SJgIBkDnZzhbjmwCQPYm68uNAwBAI09oqvMjAkBui3vYw9r1P64QOb/Elfk/O66UReUl/j8a0QQIDXj5P3odkBhdivc/Q/YnSsB/A0A1hisDH3kKQJjn9rPvUgBAOi4taDwvB0BDqLnnkUT7P6wJnj3aUv8/H9Lu7wVR8D+f2hYHfpP8P4MbVl0h1v0/i/hsDuZ7A0A1tjE3VocCQGstB9QUxP0/j042KVhoBkCy+a/eUEj5P/DOTXR+jfU/PwUQICao/T8PDMQGFyEAQLtqwqkqc/4/Og5TGLJYAEC6eb2NdgMAQPHgNY2o7f0/+YJComFV+D8O9OTEsgX2Pw==\",\"dtype\":\"float64\",\"order\":\"little\",\"shape\":[47]},\"principal component 2\":{\"__ndarray__\":\"3Xb2/Z2e6z8dPDfKBSjjP9zNPSGgrOM/tV+rWRnr6D9lOXqk51HgP5JBqiETwtk/YZ7yIJwL0D8IiLBClya1v0QteShkC9U/Egg+Gkhd6z/Bk6QJ17XgP4Msy2Xw5Os/CsTpFji+4T+olDOr+pqpv+9EGSLnotI/ogetLdY66T9SO0mDhTXaP7SQnq/nKee/wo2XATu+/j82oQKF0jTmP3B9L85taNu/cKdDi22E2j8zfGgVRqrlPzM3rDJONNA/gzlsMT10BECdjKQTDFhjv0R0hSJpCe0/a5KR42l12T+SWt+y8znwP5+AK36oDfA/Zaj7cmzHsD/vvEvBKb3Iv5HkXX2vxeE/0F7ipF+Szz8m4TWwbAIFQJmBO1NYo8e/TCs1XS0I6z+mj2oE2yjxPx38A+M9Bts/v6TAq3yE5T/b+zteX4jjP+N2Ilnq8+U/uyJfoH+r6z8+eOdp3MbwP/xDMiongNg/e9tvjSkT0T8gLdG5BEPwPw==\",\"dtype\":\"float64\",\"order\":\"little\",\"shape\":[47]},\"principal_component_1\":{\"__ndarray__\":\"dpicP/Wp8T/qdLjqfHDnP0tUdjeu3/M/kX2nUXn15z+Bt9eWSwfsPwTqCkTLn+c/aokX1wP06z/sYaNJSxH0PxhwyrRZu/U/YSqW1lWi2z+mboqoZcrwP2RoZCMRkP0/X6OtkJqmAUCvkwP82gT3P8Sof1zh4v0/dUK5SJgIBkDnZzhbjmwCQPYm68uNAwBAI09oqvMjAkBui3vYw9r1P64QOb/Elfk/O66UReUl/j8a0QQIDXj5P3odkBhdivc/Q/YnSsB/A0A1hisDH3kKQJjn9rPvUgBAOi4taDwvB0BDqLnnkUT7P6wJnj3aUv8/H9Lu7wVR8D+f2hYHfpP8P4MbVl0h1v0/i/hsDuZ7A0A1tjE3VocCQGstB9QUxP0/j042KVhoBkCy+a/eUEj5P/DOTXR+jfU/PwUQICao/T8PDMQGFyEAQLtqwqkqc/4/Og5TGLJYAEC6eb2NdgMAQPHgNY2o7f0/+YJComFV+D8O9OTEsgX2Pw==\",\"dtype\":\"float64\",\"order\":\"little\",\"shape\":[47]},\"principal_component_2\":{\"__ndarray__\":\"3Xb2/Z2e6z8dPDfKBSjjP9zNPSGgrOM/tV+rWRnr6D9lOXqk51HgP5JBqiETwtk/YZ7yIJwL0D8IiLBClya1v0QteShkC9U/Egg+Gkhd6z/Bk6QJ17XgP4Msy2Xw5Os/CsTpFji+4T+olDOr+pqpv+9EGSLnotI/ogetLdY66T9SO0mDhTXaP7SQnq/nKee/wo2XATu+/j82oQKF0jTmP3B9L85taNu/cKdDi22E2j8zfGgVRqrlPzM3rDJONNA/gzlsMT10BECdjKQTDFhjv0R0hSJpCe0/a5KR42l12T+SWt+y8znwP5+AK36oDfA/Zaj7cmzHsD/vvEvBKb3Iv5HkXX2vxeE/0F7ipF+Szz8m4TWwbAIFQJmBO1NYo8e/TCs1XS0I6z+mj2oE2yjxPx38A+M9Bts/v6TAq3yE5T/b+zteX4jjP+N2Ilnq8+U/uyJfoH+r6z8+eOdp3MbwP/xDMiongNg/e9tvjSkT0T8gLdG5BEPwPw==\",\"dtype\":\"float64\",\"order\":\"little\",\"shape\":[47]}},\"selected\":{\"id\":\"1941\"},\"selection_policy\":{\"id\":\"1961\"}},\"id\":\"1940\",\"type\":\"ColumnDataSource\"},{\"attributes\":{},\"id\":\"1875\",\"type\":\"BasicTicker\"},{\"attributes\":{},\"id\":\"1866\",\"type\":\"LinearScale\"},{\"attributes\":{\"fill_alpha\":{\"value\":0.2},\"fill_color\":{\"value\":\"#fc4f30\"},\"line_alpha\":{\"value\":0.2},\"line_color\":{\"value\":\"#fc4f30\"},\"size\":{\"value\":5.477225575051661},\"x\":{\"field\":\"principal component 1\"},\"y\":{\"field\":\"principal component 2\"}},\"id\":\"1923\",\"type\":\"Scatter\"},{\"attributes\":{\"angle\":{\"value\":0.0},\"fill_alpha\":{\"value\":1.0},\"fill_color\":{\"value\":\"#fc4f30\"},\"hatch_alpha\":{\"value\":1.0},\"hatch_color\":{\"value\":\"black\"},\"hatch_scale\":{\"value\":12.0},\"hatch_weight\":{\"value\":1.0},\"line_alpha\":{\"value\":1.0},\"line_cap\":{\"value\":\"butt\"},\"line_color\":{\"value\":\"#fc4f30\"},\"line_dash\":{\"value\":[]},\"line_dash_offset\":{\"value\":0},\"line_join\":{\"value\":\"bevel\"},\"line_width\":{\"value\":1},\"marker\":{\"value\":\"circle\"},\"size\":{\"value\":5.477225575051661},\"x\":{\"field\":\"principal component 1\"},\"y\":{\"field\":\"principal component 2\"}},\"id\":\"1939\",\"type\":\"Scatter\"},{\"attributes\":{},\"id\":\"1868\",\"type\":\"LinearScale\"},{\"attributes\":{\"data_source\":{\"id\":\"1897\"},\"glyph\":{\"id\":\"1900\"},\"hover_glyph\":null,\"muted_glyph\":{\"id\":\"1902\"},\"nonselection_glyph\":{\"id\":\"1901\"},\"selection_glyph\":{\"id\":\"1917\"},\"view\":{\"id\":\"1904\"}},\"id\":\"1903\",\"type\":\"GlyphRenderer\"},{\"attributes\":{\"fill_alpha\":{\"value\":0.1},\"fill_color\":{\"value\":\"#30a2da\"},\"line_alpha\":{\"value\":0.1},\"line_color\":{\"value\":\"#30a2da\"},\"size\":{\"value\":5.477225575051661},\"x\":{\"field\":\"principal component 1\"},\"y\":{\"field\":\"principal component 2\"}},\"id\":\"1901\",\"type\":\"Scatter\"},{\"attributes\":{\"below\":[{\"id\":\"1870\"}],\"center\":[{\"id\":\"1873\"},{\"id\":\"1877\"}],\"height\":300,\"left\":[{\"id\":\"1874\"}],\"margin\":[5,5,5,5],\"min_border_bottom\":10,\"min_border_left\":10,\"min_border_right\":10,\"min_border_top\":10,\"renderers\":[{\"id\":\"1903\"},{\"id\":\"1924\"},{\"id\":\"1946\"}],\"right\":[{\"id\":\"1915\"}],\"sizing_mode\":\"fixed\",\"title\":{\"id\":\"1862\"},\"toolbar\":{\"id\":\"1884\"},\"width\":700,\"x_range\":{\"id\":\"1856\"},\"x_scale\":{\"id\":\"1866\"},\"y_range\":{\"id\":\"1857\"},\"y_scale\":{\"id\":\"1868\"}},\"id\":\"1861\",\"subtype\":\"Figure\",\"type\":\"Plot\"}],\"root_ids\":[\"1854\"]},\"title\":\"Bokeh Application\",\"version\":\"2.3.0\"}};\n",
       "    var render_items = [{\"docid\":\"04667fae-8bbf-4f14-84a8-10855e3f984f\",\"root_ids\":[\"1854\"],\"roots\":{\"1854\":\"ab04c48e-1403-4c9a-8473-ceeb982bee10\"}}];\n",
       "    root.Bokeh.embed.embed_items_notebook(docs_json, render_items);\n",
       "  }\n",
       "  if (root.Bokeh !== undefined && root.Bokeh.Panel !== undefined) {\n",
       "    embed_document(root);\n",
       "  } else {\n",
       "    var attempts = 0;\n",
       "    var timer = setInterval(function(root) {\n",
       "      if (root.Bokeh !== undefined && root.Bokeh.Panel !== undefined) {\n",
       "        clearInterval(timer);\n",
       "        embed_document(root);\n",
       "      } else if (document.readyState == \"complete\") {\n",
       "        attempts++;\n",
       "        if (attempts > 100) {\n",
       "          clearInterval(timer);\n",
       "          console.log(\"Bokeh: ERROR: Unable to run BokehJS code because BokehJS library is missing\");\n",
       "        }\n",
       "      }\n",
       "    }, 10, root)\n",
       "  }\n",
       "})(window);</script>"
      ],
      "text/plain": [
       ":NdOverlay   [class]\n",
       "   :Scatter   [principal component 1]   (principal component 2,class)"
      ]
     },
     "execution_count": 55,
     "metadata": {
      "application/vnd.holoviews_exec.v0+json": {
       "id": "1854"
      }
     },
     "output_type": "execute_result"
    }
   ],
   "source": [
    "# plot: since there are only 2 features, 2d works\n",
    "\n",
    "df_iris_pca.hvplot.scatter(\n",
    "\tx=\"principal component 1\",\n",
    "\ty=\"principal component 2\",\n",
    "\thover_cols=[\"class\"],\n",
    "\tby=\"class\",\n",
    ")"
   ]
  },
  {
   "cell_type": "markdown",
   "metadata": {},
   "source": [
    "## Running Hierachical Clustering"
   ]
  },
  {
   "cell_type": "code",
   "execution_count": null,
   "metadata": {},
   "outputs": [],
   "source": [
    "import pandas as pd\n",
    "from sklearn.preprocessing import StandardScaler\n",
    "from sklearn.decomposition import PCA\n",
    "from sklearn.cluster import AgglomerativeClustering\n",
    "import hvplot.pandas"
   ]
  },
  {
   "cell_type": "code",
   "execution_count": 56,
   "metadata": {},
   "outputs": [
    {
     "data": {
      "text/html": [
       "<div>\n",
       "<style scoped>\n",
       "    .dataframe tbody tr th:only-of-type {\n",
       "        vertical-align: middle;\n",
       "    }\n",
       "\n",
       "    .dataframe tbody tr th {\n",
       "        vertical-align: top;\n",
       "    }\n",
       "\n",
       "    .dataframe thead th {\n",
       "        text-align: right;\n",
       "    }\n",
       "</style>\n",
       "<table border=\"1\" class=\"dataframe\">\n",
       "  <thead>\n",
       "    <tr style=\"text-align: right;\">\n",
       "      <th></th>\n",
       "      <th>sepal_length</th>\n",
       "      <th>sepal_width</th>\n",
       "      <th>petal_length</th>\n",
       "      <th>petal_width</th>\n",
       "    </tr>\n",
       "  </thead>\n",
       "  <tbody>\n",
       "    <tr>\n",
       "      <th>0</th>\n",
       "      <td>5.1</td>\n",
       "      <td>3.5</td>\n",
       "      <td>1.4</td>\n",
       "      <td>0.2</td>\n",
       "    </tr>\n",
       "    <tr>\n",
       "      <th>1</th>\n",
       "      <td>4.9</td>\n",
       "      <td>3.0</td>\n",
       "      <td>1.4</td>\n",
       "      <td>0.2</td>\n",
       "    </tr>\n",
       "    <tr>\n",
       "      <th>2</th>\n",
       "      <td>4.7</td>\n",
       "      <td>3.2</td>\n",
       "      <td>1.3</td>\n",
       "      <td>0.2</td>\n",
       "    </tr>\n",
       "    <tr>\n",
       "      <th>3</th>\n",
       "      <td>4.6</td>\n",
       "      <td>3.1</td>\n",
       "      <td>1.5</td>\n",
       "      <td>0.2</td>\n",
       "    </tr>\n",
       "    <tr>\n",
       "      <th>4</th>\n",
       "      <td>5.0</td>\n",
       "      <td>3.6</td>\n",
       "      <td>1.4</td>\n",
       "      <td>0.2</td>\n",
       "    </tr>\n",
       "    <tr>\n",
       "      <th>5</th>\n",
       "      <td>5.4</td>\n",
       "      <td>3.9</td>\n",
       "      <td>1.7</td>\n",
       "      <td>0.4</td>\n",
       "    </tr>\n",
       "    <tr>\n",
       "      <th>6</th>\n",
       "      <td>4.6</td>\n",
       "      <td>3.4</td>\n",
       "      <td>1.4</td>\n",
       "      <td>0.3</td>\n",
       "    </tr>\n",
       "    <tr>\n",
       "      <th>7</th>\n",
       "      <td>5.0</td>\n",
       "      <td>3.4</td>\n",
       "      <td>1.5</td>\n",
       "      <td>0.2</td>\n",
       "    </tr>\n",
       "    <tr>\n",
       "      <th>8</th>\n",
       "      <td>4.4</td>\n",
       "      <td>2.9</td>\n",
       "      <td>1.4</td>\n",
       "      <td>0.2</td>\n",
       "    </tr>\n",
       "    <tr>\n",
       "      <th>9</th>\n",
       "      <td>4.9</td>\n",
       "      <td>3.1</td>\n",
       "      <td>1.5</td>\n",
       "      <td>0.1</td>\n",
       "    </tr>\n",
       "  </tbody>\n",
       "</table>\n",
       "</div>"
      ],
      "text/plain": [
       "   sepal_length  sepal_width  petal_length  petal_width\n",
       "0           5.1          3.5           1.4          0.2\n",
       "1           4.9          3.0           1.4          0.2\n",
       "2           4.7          3.2           1.3          0.2\n",
       "3           4.6          3.1           1.5          0.2\n",
       "4           5.0          3.6           1.4          0.2\n",
       "5           5.4          3.9           1.7          0.4\n",
       "6           4.6          3.4           1.4          0.3\n",
       "7           5.0          3.4           1.5          0.2\n",
       "8           4.4          2.9           1.4          0.2\n",
       "9           4.9          3.1           1.5          0.1"
      ]
     },
     "execution_count": 56,
     "metadata": {},
     "output_type": "execute_result"
    }
   ],
   "source": [
    "# loading Data\n",
    "file_path = \"../Module_18_practice/new_iris_data.csv\"\n",
    "df_iris = pd.read_csv(file_path)\n",
    "df_iris.head(10)"
   ]
  },
  {
   "cell_type": "code",
   "execution_count": 57,
   "metadata": {},
   "outputs": [],
   "source": [
    "import plotly.figure_factory as ff"
   ]
  },
  {
   "cell_type": "code",
   "execution_count": 58,
   "metadata": {},
   "outputs": [
    {
     "data": {
      "application/vnd.plotly.v1+json": {
       "config": {
        "plotlyServerURL": "https://plot.ly"
       },
       "data": [
        {
         "hoverinfo": "text",
         "marker": {
          "color": "rgb(0,116,217)"
         },
         "mode": "lines",
         "type": "scatter",
         "x": [
          25,
          25,
          35,
          35
         ],
         "xaxis": "x",
         "y": [
          0,
          0.07485825263999064,
          0.07485825263999064,
          0
         ],
         "yaxis": "y"
        },
        {
         "hoverinfo": "text",
         "marker": {
          "color": "rgb(0,116,217)"
         },
         "mode": "lines",
         "type": "scatter",
         "x": [
          15,
          15,
          30,
          30
         ],
         "xaxis": "x",
         "y": [
          0,
          0.3572264654034564,
          0.3572264654034564,
          0.07485825263999064
         ],
         "yaxis": "y"
        },
        {
         "hoverinfo": "text",
         "marker": {
          "color": "rgb(0,116,217)"
         },
         "mode": "lines",
         "type": "scatter",
         "x": [
          5,
          5,
          22.5,
          22.5
         ],
         "xaxis": "x",
         "y": [
          0,
          0.5727707745592829,
          0.5727707745592829,
          0.3572264654034564
         ],
         "yaxis": "y"
        },
        {
         "hoverinfo": "text",
         "marker": {
          "color": "rgb(0,116,217)"
         },
         "mode": "lines",
         "type": "scatter",
         "x": [
          65,
          65,
          75,
          75
         ],
         "xaxis": "x",
         "y": [
          0,
          0.1742238526903768,
          0.1742238526903768,
          0
         ],
         "yaxis": "y"
        },
        {
         "hoverinfo": "text",
         "marker": {
          "color": "rgb(0,116,217)"
         },
         "mode": "lines",
         "type": "scatter",
         "x": [
          55,
          55,
          70,
          70
         ],
         "xaxis": "x",
         "y": [
          0,
          0.3837436953958543,
          0.3837436953958543,
          0.1742238526903768
         ],
         "yaxis": "y"
        },
        {
         "hoverinfo": "text",
         "marker": {
          "color": "rgb(0,116,217)"
         },
         "mode": "lines",
         "type": "scatter",
         "x": [
          95,
          95,
          105,
          105
         ],
         "xaxis": "x",
         "y": [
          0,
          0.07319361257252438,
          0.07319361257252438,
          0
         ],
         "yaxis": "y"
        },
        {
         "hoverinfo": "text",
         "marker": {
          "color": "rgb(0,116,217)"
         },
         "mode": "lines",
         "type": "scatter",
         "x": [
          85,
          85,
          100,
          100
         ],
         "xaxis": "x",
         "y": [
          0,
          0.45738576876521675,
          0.45738576876521675,
          0.07319361257252438
         ],
         "yaxis": "y"
        },
        {
         "hoverinfo": "text",
         "marker": {
          "color": "rgb(0,116,217)"
         },
         "mode": "lines",
         "type": "scatter",
         "x": [
          62.5,
          62.5,
          92.5,
          92.5
         ],
         "xaxis": "x",
         "y": [
          0.3837436953958543,
          0.7092374678608776,
          0.7092374678608776,
          0.45738576876521675
         ],
         "yaxis": "y"
        },
        {
         "hoverinfo": "text",
         "marker": {
          "color": "rgb(0,116,217)"
         },
         "mode": "lines",
         "type": "scatter",
         "x": [
          45,
          45,
          77.5,
          77.5
         ],
         "xaxis": "x",
         "y": [
          0,
          1.2353990195988582,
          1.2353990195988582,
          0.7092374678608776
         ],
         "yaxis": "y"
        },
        {
         "hoverinfo": "text",
         "marker": {
          "color": "rgb(0,116,217)"
         },
         "mode": "lines",
         "type": "scatter",
         "x": [
          13.75,
          13.75,
          61.25,
          61.25
         ],
         "xaxis": "x",
         "y": [
          0.5727707745592829,
          1.762311591008445,
          1.762311591008445,
          1.2353990195988582
         ],
         "yaxis": "y"
        },
        {
         "hoverinfo": "text",
         "marker": {
          "color": "rgb(0,116,217)"
         },
         "mode": "lines",
         "type": "scatter",
         "x": [
          125,
          125,
          135,
          135
         ],
         "xaxis": "x",
         "y": [
          0,
          0.1397597201570749,
          0.1397597201570749,
          0
         ],
         "yaxis": "y"
        },
        {
         "hoverinfo": "text",
         "marker": {
          "color": "rgb(0,116,217)"
         },
         "mode": "lines",
         "type": "scatter",
         "x": [
          115,
          115,
          130,
          130
         ],
         "xaxis": "x",
         "y": [
          0,
          0.7064096921199922,
          0.7064096921199922,
          0.1397597201570749
         ],
         "yaxis": "y"
        },
        {
         "hoverinfo": "text",
         "marker": {
          "color": "rgb(0,116,217)"
         },
         "mode": "lines",
         "type": "scatter",
         "x": [
          155,
          155,
          165,
          165
         ],
         "xaxis": "x",
         "y": [
          0,
          0.14692610447676577,
          0.14692610447676577,
          0
         ],
         "yaxis": "y"
        },
        {
         "hoverinfo": "text",
         "marker": {
          "color": "rgb(0,116,217)"
         },
         "mode": "lines",
         "type": "scatter",
         "x": [
          145,
          145,
          160,
          160
         ],
         "xaxis": "x",
         "y": [
          0,
          0.3117955583379417,
          0.3117955583379417,
          0.14692610447676577
         ],
         "yaxis": "y"
        },
        {
         "hoverinfo": "text",
         "marker": {
          "color": "rgb(0,116,217)"
         },
         "mode": "lines",
         "type": "scatter",
         "x": [
          195,
          195,
          205,
          205
         ],
         "xaxis": "x",
         "y": [
          0,
          0.13710992661168916,
          0.13710992661168916,
          0
         ],
         "yaxis": "y"
        },
        {
         "hoverinfo": "text",
         "marker": {
          "color": "rgb(0,116,217)"
         },
         "mode": "lines",
         "type": "scatter",
         "x": [
          185,
          185,
          200,
          200
         ],
         "xaxis": "x",
         "y": [
          0,
          0.32785699012283254,
          0.32785699012283254,
          0.13710992661168916
         ],
         "yaxis": "y"
        },
        {
         "hoverinfo": "text",
         "marker": {
          "color": "rgb(0,116,217)"
         },
         "mode": "lines",
         "type": "scatter",
         "x": [
          175,
          175,
          192.5,
          192.5
         ],
         "xaxis": "x",
         "y": [
          0,
          0.40192968961331743,
          0.40192968961331743,
          0.32785699012283254
         ],
         "yaxis": "y"
        },
        {
         "hoverinfo": "text",
         "marker": {
          "color": "rgb(0,116,217)"
         },
         "mode": "lines",
         "type": "scatter",
         "x": [
          152.5,
          152.5,
          183.75,
          183.75
         ],
         "xaxis": "x",
         "y": [
          0.3117955583379417,
          0.6189575064916498,
          0.6189575064916498,
          0.40192968961331743
         ],
         "yaxis": "y"
        },
        {
         "hoverinfo": "text",
         "marker": {
          "color": "rgb(0,116,217)"
         },
         "mode": "lines",
         "type": "scatter",
         "x": [
          225,
          225,
          235,
          235
         ],
         "xaxis": "x",
         "y": [
          0,
          0.042806358020715224,
          0.042806358020715224,
          0
         ],
         "yaxis": "y"
        },
        {
         "hoverinfo": "text",
         "marker": {
          "color": "rgb(0,116,217)"
         },
         "mode": "lines",
         "type": "scatter",
         "x": [
          245,
          245,
          255,
          255
         ],
         "xaxis": "x",
         "y": [
          0,
          0.06306517628686327,
          0.06306517628686327,
          0
         ],
         "yaxis": "y"
        },
        {
         "hoverinfo": "text",
         "marker": {
          "color": "rgb(0,116,217)"
         },
         "mode": "lines",
         "type": "scatter",
         "x": [
          230,
          230,
          250,
          250
         ],
         "xaxis": "x",
         "y": [
          0.042806358020715224,
          0.18851634764369568,
          0.18851634764369568,
          0.06306517628686327
         ],
         "yaxis": "y"
        },
        {
         "hoverinfo": "text",
         "marker": {
          "color": "rgb(0,116,217)"
         },
         "mode": "lines",
         "type": "scatter",
         "x": [
          215,
          215,
          240,
          240
         ],
         "xaxis": "x",
         "y": [
          0,
          0.23451818445284817,
          0.23451818445284817,
          0.18851634764369568
         ],
         "yaxis": "y"
        },
        {
         "hoverinfo": "text",
         "marker": {
          "color": "rgb(0,116,217)"
         },
         "mode": "lines",
         "type": "scatter",
         "x": [
          275,
          275,
          285,
          285
         ],
         "xaxis": "x",
         "y": [
          0,
          0.03437215474252751,
          0.03437215474252751,
          0
         ],
         "yaxis": "y"
        },
        {
         "hoverinfo": "text",
         "marker": {
          "color": "rgb(0,116,217)"
         },
         "mode": "lines",
         "type": "scatter",
         "x": [
          265,
          265,
          280,
          280
         ],
         "xaxis": "x",
         "y": [
          0,
          0.12422212395013325,
          0.12422212395013325,
          0.03437215474252751
         ],
         "yaxis": "y"
        },
        {
         "hoverinfo": "text",
         "marker": {
          "color": "rgb(0,116,217)"
         },
         "mode": "lines",
         "type": "scatter",
         "x": [
          315,
          315,
          325,
          325
         ],
         "xaxis": "x",
         "y": [
          0,
          0.051397412293108055,
          0.051397412293108055,
          0
         ],
         "yaxis": "y"
        },
        {
         "hoverinfo": "text",
         "marker": {
          "color": "rgb(0,116,217)"
         },
         "mode": "lines",
         "type": "scatter",
         "x": [
          305,
          305,
          320,
          320
         ],
         "xaxis": "x",
         "y": [
          0,
          0.13615265946754654,
          0.13615265946754654,
          0.051397412293108055
         ],
         "yaxis": "y"
        },
        {
         "hoverinfo": "text",
         "marker": {
          "color": "rgb(0,116,217)"
         },
         "mode": "lines",
         "type": "scatter",
         "x": [
          295,
          295,
          312.5,
          312.5
         ],
         "xaxis": "x",
         "y": [
          0,
          0.17403345329248465,
          0.17403345329248465,
          0.13615265946754654
         ],
         "yaxis": "y"
        },
        {
         "hoverinfo": "text",
         "marker": {
          "color": "rgb(0,116,217)"
         },
         "mode": "lines",
         "type": "scatter",
         "x": [
          272.5,
          272.5,
          303.75,
          303.75
         ],
         "xaxis": "x",
         "y": [
          0.12422212395013325,
          0.3964003204597171,
          0.3964003204597171,
          0.17403345329248465
         ],
         "yaxis": "y"
        },
        {
         "hoverinfo": "text",
         "marker": {
          "color": "rgb(0,116,217)"
         },
         "mode": "lines",
         "type": "scatter",
         "x": [
          227.5,
          227.5,
          288.125,
          288.125
         ],
         "xaxis": "x",
         "y": [
          0.23451818445284817,
          0.769085500509103,
          0.769085500509103,
          0.3964003204597171
         ],
         "yaxis": "y"
        },
        {
         "hoverinfo": "text",
         "marker": {
          "color": "rgb(0,116,217)"
         },
         "mode": "lines",
         "type": "scatter",
         "x": [
          168.125,
          168.125,
          257.8125,
          257.8125
         ],
         "xaxis": "x",
         "y": [
          0.6189575064916498,
          0.9542697637012869,
          0.9542697637012869,
          0.769085500509103
         ],
         "yaxis": "y"
        },
        {
         "hoverinfo": "text",
         "marker": {
          "color": "rgb(0,116,217)"
         },
         "mode": "lines",
         "type": "scatter",
         "x": [
          335,
          335,
          345,
          345
         ],
         "xaxis": "x",
         "y": [
          0,
          0.3260194072991158,
          0.3260194072991158,
          0
         ],
         "yaxis": "y"
        },
        {
         "hoverinfo": "text",
         "marker": {
          "color": "rgb(0,116,217)"
         },
         "mode": "lines",
         "type": "scatter",
         "x": [
          355,
          355,
          365,
          365
         ],
         "xaxis": "x",
         "y": [
          0,
          0.1873234129962439,
          0.1873234129962439,
          0
         ],
         "yaxis": "y"
        },
        {
         "hoverinfo": "text",
         "marker": {
          "color": "rgb(0,116,217)"
         },
         "mode": "lines",
         "type": "scatter",
         "x": [
          375,
          375,
          385,
          385
         ],
         "xaxis": "x",
         "y": [
          0,
          0.0513974122931087,
          0.0513974122931087,
          0
         ],
         "yaxis": "y"
        },
        {
         "hoverinfo": "text",
         "marker": {
          "color": "rgb(0,116,217)"
         },
         "mode": "lines",
         "type": "scatter",
         "x": [
          395,
          395,
          405,
          405
         ],
         "xaxis": "x",
         "y": [
          0,
          0.09410402468181787,
          0.09410402468181787,
          0
         ],
         "yaxis": "y"
        },
        {
         "hoverinfo": "text",
         "marker": {
          "color": "rgb(0,116,217)"
         },
         "mode": "lines",
         "type": "scatter",
         "x": [
          380,
          380,
          400,
          400
         ],
         "xaxis": "x",
         "y": [
          0.0513974122931087,
          0.23318427572456601,
          0.23318427572456601,
          0.09410402468181787
         ],
         "yaxis": "y"
        },
        {
         "hoverinfo": "text",
         "marker": {
          "color": "rgb(0,116,217)"
         },
         "mode": "lines",
         "type": "scatter",
         "x": [
          360,
          360,
          390,
          390
         ],
         "xaxis": "x",
         "y": [
          0.1873234129962439,
          0.5133379090025226,
          0.5133379090025226,
          0.23318427572456601
         ],
         "yaxis": "y"
        },
        {
         "hoverinfo": "text",
         "marker": {
          "color": "rgb(0,116,217)"
         },
         "mode": "lines",
         "type": "scatter",
         "x": [
          415,
          415,
          425,
          425
         ],
         "xaxis": "x",
         "y": [
          0,
          0.23595263025062058,
          0.23595263025062058,
          0
         ],
         "yaxis": "y"
        },
        {
         "hoverinfo": "text",
         "marker": {
          "color": "rgb(0,116,217)"
         },
         "mode": "lines",
         "type": "scatter",
         "x": [
          455,
          455,
          465,
          465
         ],
         "xaxis": "x",
         "y": [
          0,
          0.16859051404210923,
          0.16859051404210923,
          0
         ],
         "yaxis": "y"
        },
        {
         "hoverinfo": "text",
         "marker": {
          "color": "rgb(0,116,217)"
         },
         "mode": "lines",
         "type": "scatter",
         "x": [
          445,
          445,
          460,
          460
         ],
         "xaxis": "x",
         "y": [
          0,
          0.196250169916836,
          0.196250169916836,
          0.16859051404210923
         ],
         "yaxis": "y"
        },
        {
         "hoverinfo": "text",
         "marker": {
          "color": "rgb(0,116,217)"
         },
         "mode": "lines",
         "type": "scatter",
         "x": [
          435,
          435,
          452.5,
          452.5
         ],
         "xaxis": "x",
         "y": [
          0,
          0.33339670250867215,
          0.33339670250867215,
          0.196250169916836
         ],
         "yaxis": "y"
        },
        {
         "hoverinfo": "text",
         "marker": {
          "color": "rgb(0,116,217)"
         },
         "mode": "lines",
         "type": "scatter",
         "x": [
          420,
          420,
          443.75,
          443.75
         ],
         "xaxis": "x",
         "y": [
          0.23595263025062058,
          0.605581372416281,
          0.605581372416281,
          0.33339670250867215
         ],
         "yaxis": "y"
        },
        {
         "hoverinfo": "text",
         "marker": {
          "color": "rgb(0,116,217)"
         },
         "mode": "lines",
         "type": "scatter",
         "x": [
          375,
          375,
          431.875,
          431.875
         ],
         "xaxis": "x",
         "y": [
          0.5133379090025226,
          0.9588877899651145,
          0.9588877899651145,
          0.605581372416281
         ],
         "yaxis": "y"
        },
        {
         "hoverinfo": "text",
         "marker": {
          "color": "rgb(0,116,217)"
         },
         "mode": "lines",
         "type": "scatter",
         "x": [
          340,
          340,
          403.4375,
          403.4375
         ],
         "xaxis": "x",
         "y": [
          0.3260194072991158,
          1.353936489186148,
          1.353936489186148,
          0.9588877899651145
         ],
         "yaxis": "y"
        },
        {
         "hoverinfo": "text",
         "marker": {
          "color": "rgb(0,116,217)"
         },
         "mode": "lines",
         "type": "scatter",
         "x": [
          212.96875,
          212.96875,
          371.71875,
          371.71875
         ],
         "xaxis": "x",
         "y": [
          0.9542697637012869,
          1.6115535631620233,
          1.6115535631620233,
          1.353936489186148
         ],
         "yaxis": "y"
        },
        {
         "hoverinfo": "text",
         "marker": {
          "color": "rgb(0,116,217)"
         },
         "mode": "lines",
         "type": "scatter",
         "x": [
          122.5,
          122.5,
          292.34375,
          292.34375
         ],
         "xaxis": "x",
         "y": [
          0.7064096921199922,
          2.9094958448937716,
          2.9094958448937716,
          1.6115535631620233
         ],
         "yaxis": "y"
        },
        {
         "hoverinfo": "text",
         "marker": {
          "color": "rgb(0,116,217)"
         },
         "mode": "lines",
         "type": "scatter",
         "x": [
          37.5,
          37.5,
          207.421875,
          207.421875
         ],
         "xaxis": "x",
         "y": [
          1.762311591008445,
          3.3647650645415412,
          3.3647650645415412,
          2.9094958448937716
         ],
         "yaxis": "y"
        },
        {
         "hoverinfo": "text",
         "marker": {
          "color": "rgb(0,116,217)"
         },
         "mode": "lines",
         "type": "scatter",
         "x": [
          495,
          495,
          505,
          505
         ],
         "xaxis": "x",
         "y": [
          0,
          0.38421012238807406,
          0.38421012238807406,
          0
         ],
         "yaxis": "y"
        },
        {
         "hoverinfo": "text",
         "marker": {
          "color": "rgb(0,116,217)"
         },
         "mode": "lines",
         "type": "scatter",
         "x": [
          485,
          485,
          500,
          500
         ],
         "xaxis": "x",
         "y": [
          0,
          0.4204342005618245,
          0.4204342005618245,
          0.38421012238807406
         ],
         "yaxis": "y"
        },
        {
         "hoverinfo": "text",
         "marker": {
          "color": "rgb(0,116,217)"
         },
         "mode": "lines",
         "type": "scatter",
         "x": [
          475,
          475,
          492.5,
          492.5
         ],
         "xaxis": "x",
         "y": [
          0,
          0.9624508321318387,
          0.9624508321318387,
          0.4204342005618245
         ],
         "yaxis": "y"
        },
        {
         "hoverinfo": "text",
         "marker": {
          "color": "rgb(0,116,217)"
         },
         "mode": "lines",
         "type": "scatter",
         "x": [
          515,
          515,
          525,
          525
         ],
         "xaxis": "x",
         "y": [
          0,
          0.041966867284866385,
          0.041966867284866385,
          0
         ],
         "yaxis": "y"
        },
        {
         "hoverinfo": "text",
         "marker": {
          "color": "rgb(0,116,217)"
         },
         "mode": "lines",
         "type": "scatter",
         "x": [
          535,
          535,
          545,
          545
         ],
         "xaxis": "x",
         "y": [
          0,
          0.07630648304882541,
          0.07630648304882541,
          0
         ],
         "yaxis": "y"
        },
        {
         "hoverinfo": "text",
         "marker": {
          "color": "rgb(0,116,217)"
         },
         "mode": "lines",
         "type": "scatter",
         "x": [
          555,
          555,
          565,
          565
         ],
         "xaxis": "x",
         "y": [
          0,
          0.1052370812647477,
          0.1052370812647477,
          0
         ],
         "yaxis": "y"
        },
        {
         "hoverinfo": "text",
         "marker": {
          "color": "rgb(0,116,217)"
         },
         "mode": "lines",
         "type": "scatter",
         "x": [
          540,
          540,
          560,
          560
         ],
         "xaxis": "x",
         "y": [
          0.07630648304882541,
          0.23028186877490872,
          0.23028186877490872,
          0.1052370812647477
         ],
         "yaxis": "y"
        },
        {
         "hoverinfo": "text",
         "marker": {
          "color": "rgb(0,116,217)"
         },
         "mode": "lines",
         "type": "scatter",
         "x": [
          520,
          520,
          550,
          550
         ],
         "xaxis": "x",
         "y": [
          0.041966867284866385,
          0.2654534380697451,
          0.2654534380697451,
          0.23028186877490872
         ],
         "yaxis": "y"
        },
        {
         "hoverinfo": "text",
         "marker": {
          "color": "rgb(0,116,217)"
         },
         "mode": "lines",
         "type": "scatter",
         "x": [
          585,
          585,
          595,
          595
         ],
         "xaxis": "x",
         "y": [
          0,
          0.1323007134033603,
          0.1323007134033603,
          0
         ],
         "yaxis": "y"
        },
        {
         "hoverinfo": "text",
         "marker": {
          "color": "rgb(0,116,217)"
         },
         "mode": "lines",
         "type": "scatter",
         "x": [
          575,
          575,
          590,
          590
         ],
         "xaxis": "x",
         "y": [
          0,
          0.3195470042292059,
          0.3195470042292059,
          0.1323007134033603
         ],
         "yaxis": "y"
        },
        {
         "hoverinfo": "text",
         "marker": {
          "color": "rgb(0,116,217)"
         },
         "mode": "lines",
         "type": "scatter",
         "x": [
          535,
          535,
          582.5,
          582.5
         ],
         "xaxis": "x",
         "y": [
          0.2654534380697451,
          0.5817597519203282,
          0.5817597519203282,
          0.3195470042292059
         ],
         "yaxis": "y"
        },
        {
         "hoverinfo": "text",
         "marker": {
          "color": "rgb(0,116,217)"
         },
         "mode": "lines",
         "type": "scatter",
         "x": [
          625,
          625,
          635,
          635
         ],
         "xaxis": "x",
         "y": [
          0,
          0.04365285472512029,
          0.04365285472512029,
          0
         ],
         "yaxis": "y"
        },
        {
         "hoverinfo": "text",
         "marker": {
          "color": "rgb(0,116,217)"
         },
         "mode": "lines",
         "type": "scatter",
         "x": [
          645,
          645,
          655,
          655
         ],
         "xaxis": "x",
         "y": [
          0,
          0.04365285472512273,
          0.04365285472512273,
          0
         ],
         "yaxis": "y"
        },
        {
         "hoverinfo": "text",
         "marker": {
          "color": "rgb(0,116,217)"
         },
         "mode": "lines",
         "type": "scatter",
         "x": [
          630,
          630,
          650,
          650
         ],
         "xaxis": "x",
         "y": [
          0.04365285472512029,
          0.14513097895344743,
          0.14513097895344743,
          0.04365285472512273
         ],
         "yaxis": "y"
        },
        {
         "hoverinfo": "text",
         "marker": {
          "color": "rgb(0,116,217)"
         },
         "mode": "lines",
         "type": "scatter",
         "x": [
          615,
          615,
          640,
          640
         ],
         "xaxis": "x",
         "y": [
          0,
          0.2553227356318865,
          0.2553227356318865,
          0.14513097895344743
         ],
         "yaxis": "y"
        },
        {
         "hoverinfo": "text",
         "marker": {
          "color": "rgb(0,116,217)"
         },
         "mode": "lines",
         "type": "scatter",
         "x": [
          685,
          685,
          695,
          695
         ],
         "xaxis": "x",
         "y": [
          0,
          0.08337577355010849,
          0.08337577355010849,
          0
         ],
         "yaxis": "y"
        },
        {
         "hoverinfo": "text",
         "marker": {
          "color": "rgb(0,116,217)"
         },
         "mode": "lines",
         "type": "scatter",
         "x": [
          675,
          675,
          690,
          690
         ],
         "xaxis": "x",
         "y": [
          0,
          0.14223637132454792,
          0.14223637132454792,
          0.08337577355010849
         ],
         "yaxis": "y"
        },
        {
         "hoverinfo": "text",
         "marker": {
          "color": "rgb(0,116,217)"
         },
         "mode": "lines",
         "type": "scatter",
         "x": [
          665,
          665,
          682.5,
          682.5
         ],
         "xaxis": "x",
         "y": [
          0,
          0.3203095029423258,
          0.3203095029423258,
          0.14223637132454792
         ],
         "yaxis": "y"
        },
        {
         "hoverinfo": "text",
         "marker": {
          "color": "rgb(0,116,217)"
         },
         "mode": "lines",
         "type": "scatter",
         "x": [
          627.5,
          627.5,
          673.75,
          673.75
         ],
         "xaxis": "x",
         "y": [
          0.2553227356318865,
          0.6022795159216789,
          0.6022795159216789,
          0.3203095029423258
         ],
         "yaxis": "y"
        },
        {
         "hoverinfo": "text",
         "marker": {
          "color": "rgb(0,116,217)"
         },
         "mode": "lines",
         "type": "scatter",
         "x": [
          725,
          725,
          735,
          735
         ],
         "xaxis": "x",
         "y": [
          0,
          0.05331907673260634,
          0.05331907673260634,
          0
         ],
         "yaxis": "y"
        },
        {
         "hoverinfo": "text",
         "marker": {
          "color": "rgb(0,116,217)"
         },
         "mode": "lines",
         "type": "scatter",
         "x": [
          715,
          715,
          730,
          730
         ],
         "xaxis": "x",
         "y": [
          0,
          0.1214578018438616,
          0.1214578018438616,
          0.05331907673260634
         ],
         "yaxis": "y"
        },
        {
         "hoverinfo": "text",
         "marker": {
          "color": "rgb(0,116,217)"
         },
         "mode": "lines",
         "type": "scatter",
         "x": [
          705,
          705,
          722.5,
          722.5
         ],
         "xaxis": "x",
         "y": [
          0,
          0.39646197580820547,
          0.39646197580820547,
          0.1214578018438616
         ],
         "yaxis": "y"
        },
        {
         "hoverinfo": "text",
         "marker": {
          "color": "rgb(0,116,217)"
         },
         "mode": "lines",
         "type": "scatter",
         "x": [
          745,
          745,
          755,
          755
         ],
         "xaxis": "x",
         "y": [
          0,
          0.21663725311855775,
          0.21663725311855775,
          0
         ],
         "yaxis": "y"
        },
        {
         "hoverinfo": "text",
         "marker": {
          "color": "rgb(0,116,217)"
         },
         "mode": "lines",
         "type": "scatter",
         "x": [
          785,
          785,
          795,
          795
         ],
         "xaxis": "x",
         "y": [
          0,
          0.08561271604142967,
          0.08561271604142967,
          0
         ],
         "yaxis": "y"
        },
        {
         "hoverinfo": "text",
         "marker": {
          "color": "rgb(0,116,217)"
         },
         "mode": "lines",
         "type": "scatter",
         "x": [
          775,
          775,
          790,
          790
         ],
         "xaxis": "x",
         "y": [
          0,
          0.1291304664149004,
          0.1291304664149004,
          0.08561271604142967
         ],
         "yaxis": "y"
        },
        {
         "hoverinfo": "text",
         "marker": {
          "color": "rgb(0,116,217)"
         },
         "mode": "lines",
         "type": "scatter",
         "x": [
          765,
          765,
          782.5,
          782.5
         ],
         "xaxis": "x",
         "y": [
          0,
          0.2735606229099889,
          0.2735606229099889,
          0.1291304664149004
         ],
         "yaxis": "y"
        },
        {
         "hoverinfo": "text",
         "marker": {
          "color": "rgb(0,116,217)"
         },
         "mode": "lines",
         "type": "scatter",
         "x": [
          750,
          750,
          773.75,
          773.75
         ],
         "xaxis": "x",
         "y": [
          0.21663725311855775,
          0.43254895124367837,
          0.43254895124367837,
          0.2735606229099889
         ],
         "yaxis": "y"
        },
        {
         "hoverinfo": "text",
         "marker": {
          "color": "rgb(0,116,217)"
         },
         "mode": "lines",
         "type": "scatter",
         "x": [
          713.75,
          713.75,
          761.875,
          761.875
         ],
         "xaxis": "x",
         "y": [
          0.39646197580820547,
          0.6261276907800097,
          0.6261276907800097,
          0.43254895124367837
         ],
         "yaxis": "y"
        },
        {
         "hoverinfo": "text",
         "marker": {
          "color": "rgb(0,116,217)"
         },
         "mode": "lines",
         "type": "scatter",
         "x": [
          650.625,
          650.625,
          737.8125,
          737.8125
         ],
         "xaxis": "x",
         "y": [
          0.6022795159216789,
          0.8851341628602796,
          0.8851341628602796,
          0.6261276907800097
         ],
         "yaxis": "y"
        },
        {
         "hoverinfo": "text",
         "marker": {
          "color": "rgb(0,116,217)"
         },
         "mode": "lines",
         "type": "scatter",
         "x": [
          605,
          605,
          694.21875,
          694.21875
         ],
         "xaxis": "x",
         "y": [
          0,
          1.027698765023606,
          1.027698765023606,
          0.8851341628602796
         ],
         "yaxis": "y"
        },
        {
         "hoverinfo": "text",
         "marker": {
          "color": "rgb(0,116,217)"
         },
         "mode": "lines",
         "type": "scatter",
         "x": [
          558.75,
          558.75,
          649.609375,
          649.609375
         ],
         "xaxis": "x",
         "y": [
          0.5817597519203282,
          1.708679488869282,
          1.708679488869282,
          1.027698765023606
         ],
         "yaxis": "y"
        },
        {
         "hoverinfo": "text",
         "marker": {
          "color": "rgb(0,116,217)"
         },
         "mode": "lines",
         "type": "scatter",
         "x": [
          483.75,
          483.75,
          604.1796875,
          604.1796875
         ],
         "xaxis": "x",
         "y": [
          0.9624508321318387,
          2.906988871512575,
          2.906988871512575,
          1.708679488869282
         ],
         "yaxis": "y"
        },
        {
         "hoverinfo": "text",
         "marker": {
          "color": "rgb(0,116,217)"
         },
         "mode": "lines",
         "type": "scatter",
         "x": [
          825,
          825,
          835,
          835
         ],
         "xaxis": "x",
         "y": [
          0,
          0.2113490276669664,
          0.2113490276669664,
          0
         ],
         "yaxis": "y"
        },
        {
         "hoverinfo": "text",
         "marker": {
          "color": "rgb(0,116,217)"
         },
         "mode": "lines",
         "type": "scatter",
         "x": [
          815,
          815,
          830,
          830
         ],
         "xaxis": "x",
         "y": [
          0,
          0.3365510487865421,
          0.3365510487865421,
          0.2113490276669664
         ],
         "yaxis": "y"
        },
        {
         "hoverinfo": "text",
         "marker": {
          "color": "rgb(0,116,217)"
         },
         "mode": "lines",
         "type": "scatter",
         "x": [
          865,
          865,
          875,
          875
         ],
         "xaxis": "x",
         "y": [
          0,
          0.053319076732606725,
          0.053319076732606725,
          0
         ],
         "yaxis": "y"
        },
        {
         "hoverinfo": "text",
         "marker": {
          "color": "rgb(0,116,217)"
         },
         "mode": "lines",
         "type": "scatter",
         "x": [
          855,
          855,
          870,
          870
         ],
         "xaxis": "x",
         "y": [
          0,
          0.13784829338354485,
          0.13784829338354485,
          0.053319076732606725
         ],
         "yaxis": "y"
        },
        {
         "hoverinfo": "text",
         "marker": {
          "color": "rgb(0,116,217)"
         },
         "mode": "lines",
         "type": "scatter",
         "x": [
          845,
          845,
          862.5,
          862.5
         ],
         "xaxis": "x",
         "y": [
          0,
          0.3207027754018824,
          0.3207027754018824,
          0.13784829338354485
         ],
         "yaxis": "y"
        },
        {
         "hoverinfo": "text",
         "marker": {
          "color": "rgb(0,116,217)"
         },
         "mode": "lines",
         "type": "scatter",
         "x": [
          895,
          895,
          905,
          905
         ],
         "xaxis": "x",
         "y": [
          0,
          0.038153241524412095,
          0.038153241524412095,
          0
         ],
         "yaxis": "y"
        },
        {
         "hoverinfo": "text",
         "marker": {
          "color": "rgb(0,116,217)"
         },
         "mode": "lines",
         "type": "scatter",
         "x": [
          885,
          885,
          900,
          900
         ],
         "xaxis": "x",
         "y": [
          0,
          0.1451309789534472,
          0.1451309789534472,
          0.038153241524412095
         ],
         "yaxis": "y"
        },
        {
         "hoverinfo": "text",
         "marker": {
          "color": "rgb(0,116,217)"
         },
         "mode": "lines",
         "type": "scatter",
         "x": [
          935,
          935,
          945,
          945
         ],
         "xaxis": "x",
         "y": [
          0,
          0,
          0,
          0
         ],
         "yaxis": "y"
        },
        {
         "hoverinfo": "text",
         "marker": {
          "color": "rgb(0,116,217)"
         },
         "mode": "lines",
         "type": "scatter",
         "x": [
          925,
          925,
          940,
          940
         ],
         "xaxis": "x",
         "y": [
          0,
          0,
          0,
          0
         ],
         "yaxis": "y"
        },
        {
         "hoverinfo": "text",
         "marker": {
          "color": "rgb(0,116,217)"
         },
         "mode": "lines",
         "type": "scatter",
         "x": [
          915,
          915,
          932.5,
          932.5
         ],
         "xaxis": "x",
         "y": [
          0,
          0.05651285515586215,
          0.05651285515586215,
          0
         ],
         "yaxis": "y"
        },
        {
         "hoverinfo": "text",
         "marker": {
          "color": "rgb(0,116,217)"
         },
         "mode": "lines",
         "type": "scatter",
         "x": [
          955,
          955,
          965,
          965
         ],
         "xaxis": "x",
         "y": [
          0,
          0.15590864319878062,
          0.15590864319878062,
          0
         ],
         "yaxis": "y"
        },
        {
         "hoverinfo": "text",
         "marker": {
          "color": "rgb(0,116,217)"
         },
         "mode": "lines",
         "type": "scatter",
         "x": [
          923.75,
          923.75,
          960,
          960
         ],
         "xaxis": "x",
         "y": [
          0.05651285515586215,
          0.26288444146414375,
          0.26288444146414375,
          0.15590864319878062
         ],
         "yaxis": "y"
        },
        {
         "hoverinfo": "text",
         "marker": {
          "color": "rgb(0,116,217)"
         },
         "mode": "lines",
         "type": "scatter",
         "x": [
          892.5,
          892.5,
          941.875,
          941.875
         ],
         "xaxis": "x",
         "y": [
          0.1451309789534472,
          0.34869336804184475,
          0.34869336804184475,
          0.26288444146414375
         ],
         "yaxis": "y"
        },
        {
         "hoverinfo": "text",
         "marker": {
          "color": "rgb(0,116,217)"
         },
         "mode": "lines",
         "type": "scatter",
         "x": [
          853.75,
          853.75,
          917.1875,
          917.1875
         ],
         "xaxis": "x",
         "y": [
          0.3207027754018824,
          0.6202520639239198,
          0.6202520639239198,
          0.34869336804184475
         ],
         "yaxis": "y"
        },
        {
         "hoverinfo": "text",
         "marker": {
          "color": "rgb(0,116,217)"
         },
         "mode": "lines",
         "type": "scatter",
         "x": [
          822.5,
          822.5,
          885.46875,
          885.46875
         ],
         "xaxis": "x",
         "y": [
          0.3365510487865421,
          0.7836907919106658,
          0.7836907919106658,
          0.6202520639239198
         ],
         "yaxis": "y"
        },
        {
         "hoverinfo": "text",
         "marker": {
          "color": "rgb(0,116,217)"
         },
         "mode": "lines",
         "type": "scatter",
         "x": [
          805,
          805,
          853.984375,
          853.984375
         ],
         "xaxis": "x",
         "y": [
          0,
          2.0695891918900124,
          2.0695891918900124,
          0.7836907919106658
         ],
         "yaxis": "y"
        },
        {
         "hoverinfo": "text",
         "marker": {
          "color": "rgb(0,116,217)"
         },
         "mode": "lines",
         "type": "scatter",
         "x": [
          995,
          995,
          1005,
          1005
         ],
         "xaxis": "x",
         "y": [
          0,
          0.20980226479244998,
          0.20980226479244998,
          0
         ],
         "yaxis": "y"
        },
        {
         "hoverinfo": "text",
         "marker": {
          "color": "rgb(0,116,217)"
         },
         "mode": "lines",
         "type": "scatter",
         "x": [
          985,
          985,
          1000,
          1000
         ],
         "xaxis": "x",
         "y": [
          0,
          0.4856794131982551,
          0.4856794131982551,
          0.20980226479244998
         ],
         "yaxis": "y"
        },
        {
         "hoverinfo": "text",
         "marker": {
          "color": "rgb(0,116,217)"
         },
         "mode": "lines",
         "type": "scatter",
         "x": [
          1025,
          1025,
          1035,
          1035
         ],
         "xaxis": "x",
         "y": [
          0,
          0.15499823689709535,
          0.15499823689709535,
          0
         ],
         "yaxis": "y"
        },
        {
         "hoverinfo": "text",
         "marker": {
          "color": "rgb(0,116,217)"
         },
         "mode": "lines",
         "type": "scatter",
         "x": [
          1015,
          1015,
          1030,
          1030
         ],
         "xaxis": "x",
         "y": [
          0,
          0.28722805212396685,
          0.28722805212396685,
          0.15499823689709535
         ],
         "yaxis": "y"
        },
        {
         "hoverinfo": "text",
         "marker": {
          "color": "rgb(0,116,217)"
         },
         "mode": "lines",
         "type": "scatter",
         "x": [
          1045,
          1045,
          1055,
          1055
         ],
         "xaxis": "x",
         "y": [
          0,
          0.10786210118850596,
          0.10786210118850596,
          0
         ],
         "yaxis": "y"
        },
        {
         "hoverinfo": "text",
         "marker": {
          "color": "rgb(0,116,217)"
         },
         "mode": "lines",
         "type": "scatter",
         "x": [
          1065,
          1065,
          1075,
          1075
         ],
         "xaxis": "x",
         "y": [
          0,
          0.12145780184386139,
          0.12145780184386139,
          0
         ],
         "yaxis": "y"
        },
        {
         "hoverinfo": "text",
         "marker": {
          "color": "rgb(0,116,217)"
         },
         "mode": "lines",
         "type": "scatter",
         "x": [
          1050,
          1050,
          1070,
          1070
         ],
         "xaxis": "x",
         "y": [
          0.10786210118850596,
          0.3572264654034572,
          0.3572264654034572,
          0.12145780184386139
         ],
         "yaxis": "y"
        },
        {
         "hoverinfo": "text",
         "marker": {
          "color": "rgb(0,116,217)"
         },
         "mode": "lines",
         "type": "scatter",
         "x": [
          1022.5,
          1022.5,
          1060,
          1060
         ],
         "xaxis": "x",
         "y": [
          0.28722805212396685,
          0.6133451557743764,
          0.6133451557743764,
          0.3572264654034572
         ],
         "yaxis": "y"
        },
        {
         "hoverinfo": "text",
         "marker": {
          "color": "rgb(0,116,217)"
         },
         "mode": "lines",
         "type": "scatter",
         "x": [
          992.5,
          992.5,
          1041.25,
          1041.25
         ],
         "xaxis": "x",
         "y": [
          0.4856794131982551,
          1.052266347397017,
          1.052266347397017,
          0.6133451557743764
         ],
         "yaxis": "y"
        },
        {
         "hoverinfo": "text",
         "marker": {
          "color": "rgb(0,116,217)"
         },
         "mode": "lines",
         "type": "scatter",
         "x": [
          975,
          975,
          1016.875,
          1016.875
         ],
         "xaxis": "x",
         "y": [
          0,
          1.3872049254999188,
          1.3872049254999188,
          1.052266347397017
         ],
         "yaxis": "y"
        },
        {
         "hoverinfo": "text",
         "marker": {
          "color": "rgb(0,116,217)"
         },
         "mode": "lines",
         "type": "scatter",
         "x": [
          1095,
          1095,
          1105,
          1105
         ],
         "xaxis": "x",
         "y": [
          0,
          0.09268419554363223,
          0.09268419554363223,
          0
         ],
         "yaxis": "y"
        },
        {
         "hoverinfo": "text",
         "marker": {
          "color": "rgb(0,116,217)"
         },
         "mode": "lines",
         "type": "scatter",
         "x": [
          1085,
          1085,
          1100,
          1100
         ],
         "xaxis": "x",
         "y": [
          0,
          0.39149727809205925,
          0.39149727809205925,
          0.09268419554363223
         ],
         "yaxis": "y"
        },
        {
         "hoverinfo": "text",
         "marker": {
          "color": "rgb(0,116,217)"
         },
         "mode": "lines",
         "type": "scatter",
         "x": [
          1125,
          1125,
          1135,
          1135
         ],
         "xaxis": "x",
         "y": [
          0,
          0.22786300506616317,
          0.22786300506616317,
          0
         ],
         "yaxis": "y"
        },
        {
         "hoverinfo": "text",
         "marker": {
          "color": "rgb(0,116,217)"
         },
         "mode": "lines",
         "type": "scatter",
         "x": [
          1115,
          1115,
          1130,
          1130
         ],
         "xaxis": "x",
         "y": [
          0,
          0.40243904193663227,
          0.40243904193663227,
          0.22786300506616317
         ],
         "yaxis": "y"
        },
        {
         "hoverinfo": "text",
         "marker": {
          "color": "rgb(0,116,217)"
         },
         "mode": "lines",
         "type": "scatter",
         "x": [
          1145,
          1145,
          1155,
          1155
         ],
         "xaxis": "x",
         "y": [
          0,
          0.14143973075520244,
          0.14143973075520244,
          0
         ],
         "yaxis": "y"
        },
        {
         "hoverinfo": "text",
         "marker": {
          "color": "rgb(0,116,217)"
         },
         "mode": "lines",
         "type": "scatter",
         "x": [
          1165,
          1165,
          1175,
          1175
         ],
         "xaxis": "x",
         "y": [
          0,
          0.10569741933109342,
          0.10569741933109342,
          0
         ],
         "yaxis": "y"
        },
        {
         "hoverinfo": "text",
         "marker": {
          "color": "rgb(0,116,217)"
         },
         "mode": "lines",
         "type": "scatter",
         "x": [
          1195,
          1195,
          1205,
          1205
         ],
         "xaxis": "x",
         "y": [
          0,
          0,
          0,
          0
         ],
         "yaxis": "y"
        },
        {
         "hoverinfo": "text",
         "marker": {
          "color": "rgb(0,116,217)"
         },
         "mode": "lines",
         "type": "scatter",
         "x": [
          1185,
          1185,
          1200,
          1200
         ],
         "xaxis": "x",
         "y": [
          0,
          0.12401589958459815,
          0.12401589958459815,
          0
         ],
         "yaxis": "y"
        },
        {
         "hoverinfo": "text",
         "marker": {
          "color": "rgb(0,116,217)"
         },
         "mode": "lines",
         "type": "scatter",
         "x": [
          1170,
          1170,
          1192.5,
          1192.5
         ],
         "xaxis": "x",
         "y": [
          0.10569741933109342,
          0.33239907488313647,
          0.33239907488313647,
          0.12401589958459815
         ],
         "yaxis": "y"
        },
        {
         "hoverinfo": "text",
         "marker": {
          "color": "rgb(0,116,217)"
         },
         "mode": "lines",
         "type": "scatter",
         "x": [
          1150,
          1150,
          1181.25,
          1181.25
         ],
         "xaxis": "x",
         "y": [
          0.14143973075520244,
          0.5063391269181589,
          0.5063391269181589,
          0.33239907488313647
         ],
         "yaxis": "y"
        },
        {
         "hoverinfo": "text",
         "marker": {
          "color": "rgb(0,116,217)"
         },
         "mode": "lines",
         "type": "scatter",
         "x": [
          1122.5,
          1122.5,
          1165.625,
          1165.625
         ],
         "xaxis": "x",
         "y": [
          0.40243904193663227,
          0.7533870180569352,
          0.7533870180569352,
          0.5063391269181589
         ],
         "yaxis": "y"
        },
        {
         "hoverinfo": "text",
         "marker": {
          "color": "rgb(0,116,217)"
         },
         "mode": "lines",
         "type": "scatter",
         "x": [
          1092.5,
          1092.5,
          1144.0625,
          1144.0625
         ],
         "xaxis": "x",
         "y": [
          0.39149727809205925,
          1.290648587987077,
          1.290648587987077,
          0.7533870180569352
         ],
         "yaxis": "y"
        },
        {
         "hoverinfo": "text",
         "marker": {
          "color": "rgb(0,116,217)"
         },
         "mode": "lines",
         "type": "scatter",
         "x": [
          1215,
          1215,
          1225,
          1225
         ],
         "xaxis": "x",
         "y": [
          0,
          0.13230071340336036,
          0.13230071340336036,
          0
         ],
         "yaxis": "y"
        },
        {
         "hoverinfo": "text",
         "marker": {
          "color": "rgb(0,116,217)"
         },
         "mode": "lines",
         "type": "scatter",
         "x": [
          1245,
          1245,
          1255,
          1255
         ],
         "xaxis": "x",
         "y": [
          0,
          0.08393373456973276,
          0.08393373456973276,
          0
         ],
         "yaxis": "y"
        },
        {
         "hoverinfo": "text",
         "marker": {
          "color": "rgb(0,116,217)"
         },
         "mode": "lines",
         "type": "scatter",
         "x": [
          1235,
          1235,
          1250,
          1250
         ],
         "xaxis": "x",
         "y": [
          0,
          0.14415651931954457,
          0.14415651931954457,
          0.08393373456973276
         ],
         "yaxis": "y"
        },
        {
         "hoverinfo": "text",
         "marker": {
          "color": "rgb(0,116,217)"
         },
         "mode": "lines",
         "type": "scatter",
         "x": [
          1220,
          1220,
          1242.5,
          1242.5
         ],
         "xaxis": "x",
         "y": [
          0.13230071340336036,
          0.30537947027423773,
          0.30537947027423773,
          0.14415651931954457
         ],
         "yaxis": "y"
        },
        {
         "hoverinfo": "text",
         "marker": {
          "color": "rgb(0,116,217)"
         },
         "mode": "lines",
         "type": "scatter",
         "x": [
          1265,
          1265,
          1275,
          1275
         ],
         "xaxis": "x",
         "y": [
          0,
          0.0591902249921673,
          0.0591902249921673,
          0
         ],
         "yaxis": "y"
        },
        {
         "hoverinfo": "text",
         "marker": {
          "color": "rgb(0,116,217)"
         },
         "mode": "lines",
         "type": "scatter",
         "x": [
          1285,
          1285,
          1295,
          1295
         ],
         "xaxis": "x",
         "y": [
          0,
          0.14271216373112094,
          0.14271216373112094,
          0
         ],
         "yaxis": "y"
        },
        {
         "hoverinfo": "text",
         "marker": {
          "color": "rgb(0,116,217)"
         },
         "mode": "lines",
         "type": "scatter",
         "x": [
          1270,
          1270,
          1290,
          1290
         ],
         "xaxis": "x",
         "y": [
          0.0591902249921673,
          0.3834212740664656,
          0.3834212740664656,
          0.14271216373112094
         ],
         "yaxis": "y"
        },
        {
         "hoverinfo": "text",
         "marker": {
          "color": "rgb(0,116,217)"
         },
         "mode": "lines",
         "type": "scatter",
         "x": [
          1231.25,
          1231.25,
          1280,
          1280
         ],
         "xaxis": "x",
         "y": [
          0.30537947027423773,
          0.6353698952974259,
          0.6353698952974259,
          0.3834212740664656
         ],
         "yaxis": "y"
        },
        {
         "hoverinfo": "text",
         "marker": {
          "color": "rgb(0,116,217)"
         },
         "mode": "lines",
         "type": "scatter",
         "x": [
          1315,
          1315,
          1325,
          1325
         ],
         "xaxis": "x",
         "y": [
          0,
          0.011445559135701,
          0.011445559135701,
          0
         ],
         "yaxis": "y"
        },
        {
         "hoverinfo": "text",
         "marker": {
          "color": "rgb(0,116,217)"
         },
         "mode": "lines",
         "type": "scatter",
         "x": [
          1305,
          1305,
          1320,
          1320
         ],
         "xaxis": "x",
         "y": [
          0,
          0.06214780539363216,
          0.06214780539363216,
          0.011445559135701
         ],
         "yaxis": "y"
        },
        {
         "hoverinfo": "text",
         "marker": {
          "color": "rgb(0,116,217)"
         },
         "mode": "lines",
         "type": "scatter",
         "x": [
          1345,
          1345,
          1355,
          1355
         ],
         "xaxis": "x",
         "y": [
          0,
          0.06481686495779497,
          0.06481686495779497,
          0
         ],
         "yaxis": "y"
        },
        {
         "hoverinfo": "text",
         "marker": {
          "color": "rgb(0,116,217)"
         },
         "mode": "lines",
         "type": "scatter",
         "x": [
          1335,
          1335,
          1350,
          1350
         ],
         "xaxis": "x",
         "y": [
          0,
          0.1460865889046132,
          0.1460865889046132,
          0.06481686495779497
         ],
         "yaxis": "y"
        },
        {
         "hoverinfo": "text",
         "marker": {
          "color": "rgb(0,116,217)"
         },
         "mode": "lines",
         "type": "scatter",
         "x": [
          1312.5,
          1312.5,
          1342.5,
          1342.5
         ],
         "xaxis": "x",
         "y": [
          0.06214780539363216,
          0.4269889013157481,
          0.4269889013157481,
          0.1460865889046132
         ],
         "yaxis": "y"
        },
        {
         "hoverinfo": "text",
         "marker": {
          "color": "rgb(0,116,217)"
         },
         "mode": "lines",
         "type": "scatter",
         "x": [
          1375,
          1375,
          1385,
          1385
         ],
         "xaxis": "x",
         "y": [
          0,
          0.04365285472512301,
          0.04365285472512301,
          0
         ],
         "yaxis": "y"
        },
        {
         "hoverinfo": "text",
         "marker": {
          "color": "rgb(0,116,217)"
         },
         "mode": "lines",
         "type": "scatter",
         "x": [
          1395,
          1395,
          1405,
          1405
         ],
         "xaxis": "x",
         "y": [
          0,
          0.09968032343222591,
          0.09968032343222591,
          0
         ],
         "yaxis": "y"
        },
        {
         "hoverinfo": "text",
         "marker": {
          "color": "rgb(0,116,217)"
         },
         "mode": "lines",
         "type": "scatter",
         "x": [
          1380,
          1380,
          1400,
          1400
         ],
         "xaxis": "x",
         "y": [
          0.04365285472512301,
          0.2461069312259658,
          0.2461069312259658,
          0.09968032343222591
         ],
         "yaxis": "y"
        },
        {
         "hoverinfo": "text",
         "marker": {
          "color": "rgb(0,116,217)"
         },
         "mode": "lines",
         "type": "scatter",
         "x": [
          1365,
          1365,
          1390,
          1390
         ],
         "xaxis": "x",
         "y": [
          0,
          0.30000168920757736,
          0.30000168920757736,
          0.2461069312259658
         ],
         "yaxis": "y"
        },
        {
         "hoverinfo": "text",
         "marker": {
          "color": "rgb(0,116,217)"
         },
         "mode": "lines",
         "type": "scatter",
         "x": [
          1415,
          1415,
          1425,
          1425
         ],
         "xaxis": "x",
         "y": [
          0,
          0.15701149474334036,
          0.15701149474334036,
          0
         ],
         "yaxis": "y"
        },
        {
         "hoverinfo": "text",
         "marker": {
          "color": "rgb(0,116,217)"
         },
         "mode": "lines",
         "type": "scatter",
         "x": [
          1435,
          1435,
          1445,
          1445
         ],
         "xaxis": "x",
         "y": [
          0,
          0.15995723019781913,
          0.15995723019781913,
          0
         ],
         "yaxis": "y"
        },
        {
         "hoverinfo": "text",
         "marker": {
          "color": "rgb(0,116,217)"
         },
         "mode": "lines",
         "type": "scatter",
         "x": [
          1455,
          1455,
          1465,
          1465
         ],
         "xaxis": "x",
         "y": [
          0,
          0.11942903646680691,
          0.11942903646680691,
          0
         ],
         "yaxis": "y"
        },
        {
         "hoverinfo": "text",
         "marker": {
          "color": "rgb(0,116,217)"
         },
         "mode": "lines",
         "type": "scatter",
         "x": [
          1485,
          1485,
          1495,
          1495
         ],
         "xaxis": "x",
         "y": [
          0,
          0.06740481035033688,
          0.06740481035033688,
          0
         ],
         "yaxis": "y"
        },
        {
         "hoverinfo": "text",
         "marker": {
          "color": "rgb(0,116,217)"
         },
         "mode": "lines",
         "type": "scatter",
         "x": [
          1475,
          1475,
          1490,
          1490
         ],
         "xaxis": "x",
         "y": [
          0,
          0.14674948296429455,
          0.14674948296429455,
          0.06740481035033688
         ],
         "yaxis": "y"
        },
        {
         "hoverinfo": "text",
         "marker": {
          "color": "rgb(0,116,217)"
         },
         "mode": "lines",
         "type": "scatter",
         "x": [
          1460,
          1460,
          1482.5,
          1482.5
         ],
         "xaxis": "x",
         "y": [
          0.11942903646680691,
          0.254883224104014,
          0.254883224104014,
          0.14674948296429455
         ],
         "yaxis": "y"
        },
        {
         "hoverinfo": "text",
         "marker": {
          "color": "rgb(0,116,217)"
         },
         "mode": "lines",
         "type": "scatter",
         "x": [
          1440,
          1440,
          1471.25,
          1471.25
         ],
         "xaxis": "x",
         "y": [
          0.15995723019781913,
          0.3746918975833656,
          0.3746918975833656,
          0.254883224104014
         ],
         "yaxis": "y"
        },
        {
         "hoverinfo": "text",
         "marker": {
          "color": "rgb(0,116,217)"
         },
         "mode": "lines",
         "type": "scatter",
         "x": [
          1420,
          1420,
          1455.625,
          1455.625
         ],
         "xaxis": "x",
         "y": [
          0.15701149474334036,
          0.46905317528730217,
          0.46905317528730217,
          0.3746918975833656
         ],
         "yaxis": "y"
        },
        {
         "hoverinfo": "text",
         "marker": {
          "color": "rgb(0,116,217)"
         },
         "mode": "lines",
         "type": "scatter",
         "x": [
          1377.5,
          1377.5,
          1437.8125,
          1437.8125
         ],
         "xaxis": "x",
         "y": [
          0.30000168920757736,
          0.8250034255081454,
          0.8250034255081454,
          0.46905317528730217
         ],
         "yaxis": "y"
        },
        {
         "hoverinfo": "text",
         "marker": {
          "color": "rgb(0,116,217)"
         },
         "mode": "lines",
         "type": "scatter",
         "x": [
          1327.5,
          1327.5,
          1407.65625,
          1407.65625
         ],
         "xaxis": "x",
         "y": [
          0.4269889013157481,
          1.2145154428516798,
          1.2145154428516798,
          0.8250034255081454
         ],
         "yaxis": "y"
        },
        {
         "hoverinfo": "text",
         "marker": {
          "color": "rgb(0,116,217)"
         },
         "mode": "lines",
         "type": "scatter",
         "x": [
          1255.625,
          1255.625,
          1367.578125,
          1367.578125
         ],
         "xaxis": "x",
         "y": [
          0.6353698952974259,
          1.4596095723087148,
          1.4596095723087148,
          1.2145154428516798
         ],
         "yaxis": "y"
        },
        {
         "hoverinfo": "text",
         "marker": {
          "color": "rgb(0,116,217)"
         },
         "mode": "lines",
         "type": "scatter",
         "x": [
          1118.28125,
          1118.28125,
          1311.6015625,
          1311.6015625
         ],
         "xaxis": "x",
         "y": [
          1.290648587987077,
          1.933107350227386,
          1.933107350227386,
          1.4596095723087148
         ],
         "yaxis": "y"
        },
        {
         "hoverinfo": "text",
         "marker": {
          "color": "rgb(0,116,217)"
         },
         "mode": "lines",
         "type": "scatter",
         "x": [
          995.9375,
          995.9375,
          1214.94140625,
          1214.94140625
         ],
         "xaxis": "x",
         "y": [
          1.3872049254999188,
          2.886501710229771,
          2.886501710229771,
          1.933107350227386
         ],
         "yaxis": "y"
        },
        {
         "hoverinfo": "text",
         "marker": {
          "color": "rgb(0,116,217)"
         },
         "mode": "lines",
         "type": "scatter",
         "x": [
          829.4921875,
          829.4921875,
          1105.439453125,
          1105.439453125
         ],
         "xaxis": "x",
         "y": [
          2.0695891918900124,
          4.315789452466484,
          4.315789452466484,
          2.886501710229771
         ],
         "yaxis": "y"
        },
        {
         "hoverinfo": "text",
         "marker": {
          "color": "rgb(0,116,217)"
         },
         "mode": "lines",
         "type": "scatter",
         "x": [
          543.96484375,
          543.96484375,
          967.4658203125,
          967.4658203125
         ],
         "xaxis": "x",
         "y": [
          2.906988871512575,
          5.871303812869842,
          5.871303812869842,
          4.315789452466484
         ],
         "yaxis": "y"
        },
        {
         "hoverinfo": "text",
         "marker": {
          "color": "rgb(0,116,217)"
         },
         "mode": "lines",
         "type": "scatter",
         "x": [
          122.4609375,
          122.4609375,
          755.71533203125,
          755.71533203125
         ],
         "xaxis": "x",
         "y": [
          3.3647650645415412,
          6.81366723146473,
          6.81366723146473,
          5.871303812869842
         ],
         "yaxis": "y"
        }
       ],
       "layout": {
        "autosize": false,
        "height": 500,
        "hovermode": "closest",
        "showlegend": false,
        "template": {
         "data": {
          "bar": [
           {
            "error_x": {
             "color": "#2a3f5f"
            },
            "error_y": {
             "color": "#2a3f5f"
            },
            "marker": {
             "line": {
              "color": "#E5ECF6",
              "width": 0.5
             }
            },
            "type": "bar"
           }
          ],
          "barpolar": [
           {
            "marker": {
             "line": {
              "color": "#E5ECF6",
              "width": 0.5
             }
            },
            "type": "barpolar"
           }
          ],
          "carpet": [
           {
            "aaxis": {
             "endlinecolor": "#2a3f5f",
             "gridcolor": "white",
             "linecolor": "white",
             "minorgridcolor": "white",
             "startlinecolor": "#2a3f5f"
            },
            "baxis": {
             "endlinecolor": "#2a3f5f",
             "gridcolor": "white",
             "linecolor": "white",
             "minorgridcolor": "white",
             "startlinecolor": "#2a3f5f"
            },
            "type": "carpet"
           }
          ],
          "choropleth": [
           {
            "colorbar": {
             "outlinewidth": 0,
             "ticks": ""
            },
            "type": "choropleth"
           }
          ],
          "contour": [
           {
            "colorbar": {
             "outlinewidth": 0,
             "ticks": ""
            },
            "colorscale": [
             [
              0,
              "#0d0887"
             ],
             [
              0.1111111111111111,
              "#46039f"
             ],
             [
              0.2222222222222222,
              "#7201a8"
             ],
             [
              0.3333333333333333,
              "#9c179e"
             ],
             [
              0.4444444444444444,
              "#bd3786"
             ],
             [
              0.5555555555555556,
              "#d8576b"
             ],
             [
              0.6666666666666666,
              "#ed7953"
             ],
             [
              0.7777777777777778,
              "#fb9f3a"
             ],
             [
              0.8888888888888888,
              "#fdca26"
             ],
             [
              1,
              "#f0f921"
             ]
            ],
            "type": "contour"
           }
          ],
          "contourcarpet": [
           {
            "colorbar": {
             "outlinewidth": 0,
             "ticks": ""
            },
            "type": "contourcarpet"
           }
          ],
          "heatmap": [
           {
            "colorbar": {
             "outlinewidth": 0,
             "ticks": ""
            },
            "colorscale": [
             [
              0,
              "#0d0887"
             ],
             [
              0.1111111111111111,
              "#46039f"
             ],
             [
              0.2222222222222222,
              "#7201a8"
             ],
             [
              0.3333333333333333,
              "#9c179e"
             ],
             [
              0.4444444444444444,
              "#bd3786"
             ],
             [
              0.5555555555555556,
              "#d8576b"
             ],
             [
              0.6666666666666666,
              "#ed7953"
             ],
             [
              0.7777777777777778,
              "#fb9f3a"
             ],
             [
              0.8888888888888888,
              "#fdca26"
             ],
             [
              1,
              "#f0f921"
             ]
            ],
            "type": "heatmap"
           }
          ],
          "heatmapgl": [
           {
            "colorbar": {
             "outlinewidth": 0,
             "ticks": ""
            },
            "colorscale": [
             [
              0,
              "#0d0887"
             ],
             [
              0.1111111111111111,
              "#46039f"
             ],
             [
              0.2222222222222222,
              "#7201a8"
             ],
             [
              0.3333333333333333,
              "#9c179e"
             ],
             [
              0.4444444444444444,
              "#bd3786"
             ],
             [
              0.5555555555555556,
              "#d8576b"
             ],
             [
              0.6666666666666666,
              "#ed7953"
             ],
             [
              0.7777777777777778,
              "#fb9f3a"
             ],
             [
              0.8888888888888888,
              "#fdca26"
             ],
             [
              1,
              "#f0f921"
             ]
            ],
            "type": "heatmapgl"
           }
          ],
          "histogram": [
           {
            "marker": {
             "colorbar": {
              "outlinewidth": 0,
              "ticks": ""
             }
            },
            "type": "histogram"
           }
          ],
          "histogram2d": [
           {
            "colorbar": {
             "outlinewidth": 0,
             "ticks": ""
            },
            "colorscale": [
             [
              0,
              "#0d0887"
             ],
             [
              0.1111111111111111,
              "#46039f"
             ],
             [
              0.2222222222222222,
              "#7201a8"
             ],
             [
              0.3333333333333333,
              "#9c179e"
             ],
             [
              0.4444444444444444,
              "#bd3786"
             ],
             [
              0.5555555555555556,
              "#d8576b"
             ],
             [
              0.6666666666666666,
              "#ed7953"
             ],
             [
              0.7777777777777778,
              "#fb9f3a"
             ],
             [
              0.8888888888888888,
              "#fdca26"
             ],
             [
              1,
              "#f0f921"
             ]
            ],
            "type": "histogram2d"
           }
          ],
          "histogram2dcontour": [
           {
            "colorbar": {
             "outlinewidth": 0,
             "ticks": ""
            },
            "colorscale": [
             [
              0,
              "#0d0887"
             ],
             [
              0.1111111111111111,
              "#46039f"
             ],
             [
              0.2222222222222222,
              "#7201a8"
             ],
             [
              0.3333333333333333,
              "#9c179e"
             ],
             [
              0.4444444444444444,
              "#bd3786"
             ],
             [
              0.5555555555555556,
              "#d8576b"
             ],
             [
              0.6666666666666666,
              "#ed7953"
             ],
             [
              0.7777777777777778,
              "#fb9f3a"
             ],
             [
              0.8888888888888888,
              "#fdca26"
             ],
             [
              1,
              "#f0f921"
             ]
            ],
            "type": "histogram2dcontour"
           }
          ],
          "mesh3d": [
           {
            "colorbar": {
             "outlinewidth": 0,
             "ticks": ""
            },
            "type": "mesh3d"
           }
          ],
          "parcoords": [
           {
            "line": {
             "colorbar": {
              "outlinewidth": 0,
              "ticks": ""
             }
            },
            "type": "parcoords"
           }
          ],
          "pie": [
           {
            "automargin": true,
            "type": "pie"
           }
          ],
          "scatter": [
           {
            "marker": {
             "colorbar": {
              "outlinewidth": 0,
              "ticks": ""
             }
            },
            "type": "scatter"
           }
          ],
          "scatter3d": [
           {
            "line": {
             "colorbar": {
              "outlinewidth": 0,
              "ticks": ""
             }
            },
            "marker": {
             "colorbar": {
              "outlinewidth": 0,
              "ticks": ""
             }
            },
            "type": "scatter3d"
           }
          ],
          "scattercarpet": [
           {
            "marker": {
             "colorbar": {
              "outlinewidth": 0,
              "ticks": ""
             }
            },
            "type": "scattercarpet"
           }
          ],
          "scattergeo": [
           {
            "marker": {
             "colorbar": {
              "outlinewidth": 0,
              "ticks": ""
             }
            },
            "type": "scattergeo"
           }
          ],
          "scattergl": [
           {
            "marker": {
             "colorbar": {
              "outlinewidth": 0,
              "ticks": ""
             }
            },
            "type": "scattergl"
           }
          ],
          "scattermapbox": [
           {
            "marker": {
             "colorbar": {
              "outlinewidth": 0,
              "ticks": ""
             }
            },
            "type": "scattermapbox"
           }
          ],
          "scatterpolar": [
           {
            "marker": {
             "colorbar": {
              "outlinewidth": 0,
              "ticks": ""
             }
            },
            "type": "scatterpolar"
           }
          ],
          "scatterpolargl": [
           {
            "marker": {
             "colorbar": {
              "outlinewidth": 0,
              "ticks": ""
             }
            },
            "type": "scatterpolargl"
           }
          ],
          "scatterternary": [
           {
            "marker": {
             "colorbar": {
              "outlinewidth": 0,
              "ticks": ""
             }
            },
            "type": "scatterternary"
           }
          ],
          "surface": [
           {
            "colorbar": {
             "outlinewidth": 0,
             "ticks": ""
            },
            "colorscale": [
             [
              0,
              "#0d0887"
             ],
             [
              0.1111111111111111,
              "#46039f"
             ],
             [
              0.2222222222222222,
              "#7201a8"
             ],
             [
              0.3333333333333333,
              "#9c179e"
             ],
             [
              0.4444444444444444,
              "#bd3786"
             ],
             [
              0.5555555555555556,
              "#d8576b"
             ],
             [
              0.6666666666666666,
              "#ed7953"
             ],
             [
              0.7777777777777778,
              "#fb9f3a"
             ],
             [
              0.8888888888888888,
              "#fdca26"
             ],
             [
              1,
              "#f0f921"
             ]
            ],
            "type": "surface"
           }
          ],
          "table": [
           {
            "cells": {
             "fill": {
              "color": "#EBF0F8"
             },
             "line": {
              "color": "white"
             }
            },
            "header": {
             "fill": {
              "color": "#C8D4E3"
             },
             "line": {
              "color": "white"
             }
            },
            "type": "table"
           }
          ]
         },
         "layout": {
          "annotationdefaults": {
           "arrowcolor": "#2a3f5f",
           "arrowhead": 0,
           "arrowwidth": 1
          },
          "autotypenumbers": "strict",
          "coloraxis": {
           "colorbar": {
            "outlinewidth": 0,
            "ticks": ""
           }
          },
          "colorscale": {
           "diverging": [
            [
             0,
             "#8e0152"
            ],
            [
             0.1,
             "#c51b7d"
            ],
            [
             0.2,
             "#de77ae"
            ],
            [
             0.3,
             "#f1b6da"
            ],
            [
             0.4,
             "#fde0ef"
            ],
            [
             0.5,
             "#f7f7f7"
            ],
            [
             0.6,
             "#e6f5d0"
            ],
            [
             0.7,
             "#b8e186"
            ],
            [
             0.8,
             "#7fbc41"
            ],
            [
             0.9,
             "#4d9221"
            ],
            [
             1,
             "#276419"
            ]
           ],
           "sequential": [
            [
             0,
             "#0d0887"
            ],
            [
             0.1111111111111111,
             "#46039f"
            ],
            [
             0.2222222222222222,
             "#7201a8"
            ],
            [
             0.3333333333333333,
             "#9c179e"
            ],
            [
             0.4444444444444444,
             "#bd3786"
            ],
            [
             0.5555555555555556,
             "#d8576b"
            ],
            [
             0.6666666666666666,
             "#ed7953"
            ],
            [
             0.7777777777777778,
             "#fb9f3a"
            ],
            [
             0.8888888888888888,
             "#fdca26"
            ],
            [
             1,
             "#f0f921"
            ]
           ],
           "sequentialminus": [
            [
             0,
             "#0d0887"
            ],
            [
             0.1111111111111111,
             "#46039f"
            ],
            [
             0.2222222222222222,
             "#7201a8"
            ],
            [
             0.3333333333333333,
             "#9c179e"
            ],
            [
             0.4444444444444444,
             "#bd3786"
            ],
            [
             0.5555555555555556,
             "#d8576b"
            ],
            [
             0.6666666666666666,
             "#ed7953"
            ],
            [
             0.7777777777777778,
             "#fb9f3a"
            ],
            [
             0.8888888888888888,
             "#fdca26"
            ],
            [
             1,
             "#f0f921"
            ]
           ]
          },
          "colorway": [
           "#636efa",
           "#EF553B",
           "#00cc96",
           "#ab63fa",
           "#FFA15A",
           "#19d3f3",
           "#FF6692",
           "#B6E880",
           "#FF97FF",
           "#FECB52"
          ],
          "font": {
           "color": "#2a3f5f"
          },
          "geo": {
           "bgcolor": "white",
           "lakecolor": "white",
           "landcolor": "#E5ECF6",
           "showlakes": true,
           "showland": true,
           "subunitcolor": "white"
          },
          "hoverlabel": {
           "align": "left"
          },
          "hovermode": "closest",
          "mapbox": {
           "style": "light"
          },
          "paper_bgcolor": "white",
          "plot_bgcolor": "#E5ECF6",
          "polar": {
           "angularaxis": {
            "gridcolor": "white",
            "linecolor": "white",
            "ticks": ""
           },
           "bgcolor": "#E5ECF6",
           "radialaxis": {
            "gridcolor": "white",
            "linecolor": "white",
            "ticks": ""
           }
          },
          "scene": {
           "xaxis": {
            "backgroundcolor": "#E5ECF6",
            "gridcolor": "white",
            "gridwidth": 2,
            "linecolor": "white",
            "showbackground": true,
            "ticks": "",
            "zerolinecolor": "white"
           },
           "yaxis": {
            "backgroundcolor": "#E5ECF6",
            "gridcolor": "white",
            "gridwidth": 2,
            "linecolor": "white",
            "showbackground": true,
            "ticks": "",
            "zerolinecolor": "white"
           },
           "zaxis": {
            "backgroundcolor": "#E5ECF6",
            "gridcolor": "white",
            "gridwidth": 2,
            "linecolor": "white",
            "showbackground": true,
            "ticks": "",
            "zerolinecolor": "white"
           }
          },
          "shapedefaults": {
           "line": {
            "color": "#2a3f5f"
           }
          },
          "ternary": {
           "aaxis": {
            "gridcolor": "white",
            "linecolor": "white",
            "ticks": ""
           },
           "baxis": {
            "gridcolor": "white",
            "linecolor": "white",
            "ticks": ""
           },
           "bgcolor": "#E5ECF6",
           "caxis": {
            "gridcolor": "white",
            "linecolor": "white",
            "ticks": ""
           }
          },
          "title": {
           "x": 0.05
          },
          "xaxis": {
           "automargin": true,
           "gridcolor": "white",
           "linecolor": "white",
           "ticks": "",
           "title": {
            "standoff": 15
           },
           "zerolinecolor": "white",
           "zerolinewidth": 2
          },
          "yaxis": {
           "automargin": true,
           "gridcolor": "white",
           "linecolor": "white",
           "ticks": "",
           "title": {
            "standoff": 15
           },
           "zerolinecolor": "white",
           "zerolinewidth": 2
          }
         }
        },
        "width": 800,
        "xaxis": {
         "mirror": "allticks",
         "rangemode": "tozero",
         "showgrid": false,
         "showline": true,
         "showticklabels": true,
         "tickmode": "array",
         "ticks": "outside",
         "ticktext": [
          "108",
          "111",
          "128",
          "132",
          "118",
          "130",
          "102",
          "107",
          "122",
          "105",
          "135",
          "109",
          "117",
          "131",
          "50",
          "52",
          "110",
          "115",
          "148",
          "124",
          "136",
          "100",
          "120",
          "143",
          "125",
          "144",
          "104",
          "112",
          "145",
          "140",
          "129",
          "139",
          "141",
          "56",
          "85",
          "76",
          "103",
          "116",
          "147",
          "77",
          "137",
          "75",
          "127",
          "86",
          "70",
          "51",
          "65",
          "15",
          "32",
          "14",
          "33",
          "19",
          "46",
          "21",
          "48",
          "10",
          "44",
          "18",
          "5",
          "16",
          "22",
          "4",
          "0",
          "40",
          "17",
          "27",
          "36",
          "31",
          "20",
          "43",
          "23",
          "26",
          "28",
          "39",
          "35",
          "49",
          "6",
          "11",
          "7",
          "24",
          "41",
          "8",
          "13",
          "38",
          "42",
          "29",
          "2",
          "47",
          "25",
          "1",
          "45",
          "30",
          "37",
          "9",
          "34",
          "3",
          "12",
          "60",
          "98",
          "57",
          "93",
          "106",
          "53",
          "62",
          "80",
          "81",
          "69",
          "89",
          "87",
          "68",
          "119",
          "146",
          "72",
          "113",
          "114",
          "123",
          "83",
          "121",
          "134",
          "101",
          "142",
          "55",
          "99",
          "94",
          "67",
          "82",
          "59",
          "79",
          "90",
          "92",
          "149",
          "58",
          "138",
          "54",
          "126",
          "133",
          "64",
          "88",
          "95",
          "84",
          "96",
          "71",
          "73",
          "61",
          "66",
          "74",
          "91",
          "97",
          "63",
          "78"
         ],
         "tickvals": [
          5,
          15,
          25,
          35,
          45,
          55,
          65,
          75,
          85,
          95,
          105,
          115,
          125,
          135,
          145,
          155,
          165,
          175,
          185,
          195,
          205,
          215,
          225,
          235,
          245,
          255,
          265,
          275,
          285,
          295,
          305,
          315,
          325,
          335,
          345,
          355,
          365,
          375,
          385,
          395,
          405,
          415,
          425,
          435,
          445,
          455,
          465,
          475,
          485,
          495,
          505,
          515,
          525,
          535,
          545,
          555,
          565,
          575,
          585,
          595,
          605,
          615,
          625,
          635,
          645,
          655,
          665,
          675,
          685,
          695,
          705,
          715,
          725,
          735,
          745,
          755,
          765,
          775,
          785,
          795,
          805,
          815,
          825,
          835,
          845,
          855,
          865,
          875,
          885,
          895,
          905,
          915,
          925,
          935,
          945,
          955,
          965,
          975,
          985,
          995,
          1005,
          1015,
          1025,
          1035,
          1045,
          1055,
          1065,
          1075,
          1085,
          1095,
          1105,
          1115,
          1125,
          1135,
          1145,
          1155,
          1165,
          1175,
          1185,
          1195,
          1205,
          1215,
          1225,
          1235,
          1245,
          1255,
          1265,
          1275,
          1285,
          1295,
          1305,
          1315,
          1325,
          1335,
          1345,
          1355,
          1365,
          1375,
          1385,
          1395,
          1405,
          1415,
          1425,
          1435,
          1445,
          1455,
          1465,
          1475,
          1485,
          1495
         ],
         "type": "linear",
         "zeroline": false
        },
        "yaxis": {
         "mirror": "allticks",
         "rangemode": "tozero",
         "showgrid": false,
         "showline": true,
         "showticklabels": true,
         "ticks": "outside",
         "type": "linear",
         "zeroline": false
        }
       }
      },
      "text/html": [
       "<div>                            <div id=\"dc7ba89b-0743-428e-9e10-e4c3ef052049\" class=\"plotly-graph-div\" style=\"height:500px; width:800px;\"></div>            <script type=\"text/javascript\">                require([\"plotly\"], function(Plotly) {                    window.PLOTLYENV=window.PLOTLYENV || {};                                    if (document.getElementById(\"dc7ba89b-0743-428e-9e10-e4c3ef052049\")) {                    Plotly.newPlot(                        \"dc7ba89b-0743-428e-9e10-e4c3ef052049\",                        [{\"hoverinfo\": \"text\", \"marker\": {\"color\": \"rgb(0,116,217)\"}, \"mode\": \"lines\", \"type\": \"scatter\", \"x\": [25.0, 25.0, 35.0, 35.0], \"xaxis\": \"x\", \"y\": [0.0, 0.07485825263999064, 0.07485825263999064, 0.0], \"yaxis\": \"y\"}, {\"hoverinfo\": \"text\", \"marker\": {\"color\": \"rgb(0,116,217)\"}, \"mode\": \"lines\", \"type\": \"scatter\", \"x\": [15.0, 15.0, 30.0, 30.0], \"xaxis\": \"x\", \"y\": [0.0, 0.3572264654034564, 0.3572264654034564, 0.07485825263999064], \"yaxis\": \"y\"}, {\"hoverinfo\": \"text\", \"marker\": {\"color\": \"rgb(0,116,217)\"}, \"mode\": \"lines\", \"type\": \"scatter\", \"x\": [5.0, 5.0, 22.5, 22.5], \"xaxis\": \"x\", \"y\": [0.0, 0.5727707745592829, 0.5727707745592829, 0.3572264654034564], \"yaxis\": \"y\"}, {\"hoverinfo\": \"text\", \"marker\": {\"color\": \"rgb(0,116,217)\"}, \"mode\": \"lines\", \"type\": \"scatter\", \"x\": [65.0, 65.0, 75.0, 75.0], \"xaxis\": \"x\", \"y\": [0.0, 0.1742238526903768, 0.1742238526903768, 0.0], \"yaxis\": \"y\"}, {\"hoverinfo\": \"text\", \"marker\": {\"color\": \"rgb(0,116,217)\"}, \"mode\": \"lines\", \"type\": \"scatter\", \"x\": [55.0, 55.0, 70.0, 70.0], \"xaxis\": \"x\", \"y\": [0.0, 0.3837436953958543, 0.3837436953958543, 0.1742238526903768], \"yaxis\": \"y\"}, {\"hoverinfo\": \"text\", \"marker\": {\"color\": \"rgb(0,116,217)\"}, \"mode\": \"lines\", \"type\": \"scatter\", \"x\": [95.0, 95.0, 105.0, 105.0], \"xaxis\": \"x\", \"y\": [0.0, 0.07319361257252438, 0.07319361257252438, 0.0], \"yaxis\": \"y\"}, {\"hoverinfo\": \"text\", \"marker\": {\"color\": \"rgb(0,116,217)\"}, \"mode\": \"lines\", \"type\": \"scatter\", \"x\": [85.0, 85.0, 100.0, 100.0], \"xaxis\": \"x\", \"y\": [0.0, 0.45738576876521675, 0.45738576876521675, 0.07319361257252438], \"yaxis\": \"y\"}, {\"hoverinfo\": \"text\", \"marker\": {\"color\": \"rgb(0,116,217)\"}, \"mode\": \"lines\", \"type\": \"scatter\", \"x\": [62.5, 62.5, 92.5, 92.5], \"xaxis\": \"x\", \"y\": [0.3837436953958543, 0.7092374678608776, 0.7092374678608776, 0.45738576876521675], \"yaxis\": \"y\"}, {\"hoverinfo\": \"text\", \"marker\": {\"color\": \"rgb(0,116,217)\"}, \"mode\": \"lines\", \"type\": \"scatter\", \"x\": [45.0, 45.0, 77.5, 77.5], \"xaxis\": \"x\", \"y\": [0.0, 1.2353990195988582, 1.2353990195988582, 0.7092374678608776], \"yaxis\": \"y\"}, {\"hoverinfo\": \"text\", \"marker\": {\"color\": \"rgb(0,116,217)\"}, \"mode\": \"lines\", \"type\": \"scatter\", \"x\": [13.75, 13.75, 61.25, 61.25], \"xaxis\": \"x\", \"y\": [0.5727707745592829, 1.762311591008445, 1.762311591008445, 1.2353990195988582], \"yaxis\": \"y\"}, {\"hoverinfo\": \"text\", \"marker\": {\"color\": \"rgb(0,116,217)\"}, \"mode\": \"lines\", \"type\": \"scatter\", \"x\": [125.0, 125.0, 135.0, 135.0], \"xaxis\": \"x\", \"y\": [0.0, 0.1397597201570749, 0.1397597201570749, 0.0], \"yaxis\": \"y\"}, {\"hoverinfo\": \"text\", \"marker\": {\"color\": \"rgb(0,116,217)\"}, \"mode\": \"lines\", \"type\": \"scatter\", \"x\": [115.0, 115.0, 130.0, 130.0], \"xaxis\": \"x\", \"y\": [0.0, 0.7064096921199922, 0.7064096921199922, 0.1397597201570749], \"yaxis\": \"y\"}, {\"hoverinfo\": \"text\", \"marker\": {\"color\": \"rgb(0,116,217)\"}, \"mode\": \"lines\", \"type\": \"scatter\", \"x\": [155.0, 155.0, 165.0, 165.0], \"xaxis\": \"x\", \"y\": [0.0, 0.14692610447676577, 0.14692610447676577, 0.0], \"yaxis\": \"y\"}, {\"hoverinfo\": \"text\", \"marker\": {\"color\": \"rgb(0,116,217)\"}, \"mode\": \"lines\", \"type\": \"scatter\", \"x\": [145.0, 145.0, 160.0, 160.0], \"xaxis\": \"x\", \"y\": [0.0, 0.3117955583379417, 0.3117955583379417, 0.14692610447676577], \"yaxis\": \"y\"}, {\"hoverinfo\": \"text\", \"marker\": {\"color\": \"rgb(0,116,217)\"}, \"mode\": \"lines\", \"type\": \"scatter\", \"x\": [195.0, 195.0, 205.0, 205.0], \"xaxis\": \"x\", \"y\": [0.0, 0.13710992661168916, 0.13710992661168916, 0.0], \"yaxis\": \"y\"}, {\"hoverinfo\": \"text\", \"marker\": {\"color\": \"rgb(0,116,217)\"}, \"mode\": \"lines\", \"type\": \"scatter\", \"x\": [185.0, 185.0, 200.0, 200.0], \"xaxis\": \"x\", \"y\": [0.0, 0.32785699012283254, 0.32785699012283254, 0.13710992661168916], \"yaxis\": \"y\"}, {\"hoverinfo\": \"text\", \"marker\": {\"color\": \"rgb(0,116,217)\"}, \"mode\": \"lines\", \"type\": \"scatter\", \"x\": [175.0, 175.0, 192.5, 192.5], \"xaxis\": \"x\", \"y\": [0.0, 0.40192968961331743, 0.40192968961331743, 0.32785699012283254], \"yaxis\": \"y\"}, {\"hoverinfo\": \"text\", \"marker\": {\"color\": \"rgb(0,116,217)\"}, \"mode\": \"lines\", \"type\": \"scatter\", \"x\": [152.5, 152.5, 183.75, 183.75], \"xaxis\": \"x\", \"y\": [0.3117955583379417, 0.6189575064916498, 0.6189575064916498, 0.40192968961331743], \"yaxis\": \"y\"}, {\"hoverinfo\": \"text\", \"marker\": {\"color\": \"rgb(0,116,217)\"}, \"mode\": \"lines\", \"type\": \"scatter\", \"x\": [225.0, 225.0, 235.0, 235.0], \"xaxis\": \"x\", \"y\": [0.0, 0.042806358020715224, 0.042806358020715224, 0.0], \"yaxis\": \"y\"}, {\"hoverinfo\": \"text\", \"marker\": {\"color\": \"rgb(0,116,217)\"}, \"mode\": \"lines\", \"type\": \"scatter\", \"x\": [245.0, 245.0, 255.0, 255.0], \"xaxis\": \"x\", \"y\": [0.0, 0.06306517628686327, 0.06306517628686327, 0.0], \"yaxis\": \"y\"}, {\"hoverinfo\": \"text\", \"marker\": {\"color\": \"rgb(0,116,217)\"}, \"mode\": \"lines\", \"type\": \"scatter\", \"x\": [230.0, 230.0, 250.0, 250.0], \"xaxis\": \"x\", \"y\": [0.042806358020715224, 0.18851634764369568, 0.18851634764369568, 0.06306517628686327], \"yaxis\": \"y\"}, {\"hoverinfo\": \"text\", \"marker\": {\"color\": \"rgb(0,116,217)\"}, \"mode\": \"lines\", \"type\": \"scatter\", \"x\": [215.0, 215.0, 240.0, 240.0], \"xaxis\": \"x\", \"y\": [0.0, 0.23451818445284817, 0.23451818445284817, 0.18851634764369568], \"yaxis\": \"y\"}, {\"hoverinfo\": \"text\", \"marker\": {\"color\": \"rgb(0,116,217)\"}, \"mode\": \"lines\", \"type\": \"scatter\", \"x\": [275.0, 275.0, 285.0, 285.0], \"xaxis\": \"x\", \"y\": [0.0, 0.03437215474252751, 0.03437215474252751, 0.0], \"yaxis\": \"y\"}, {\"hoverinfo\": \"text\", \"marker\": {\"color\": \"rgb(0,116,217)\"}, \"mode\": \"lines\", \"type\": \"scatter\", \"x\": [265.0, 265.0, 280.0, 280.0], \"xaxis\": \"x\", \"y\": [0.0, 0.12422212395013325, 0.12422212395013325, 0.03437215474252751], \"yaxis\": \"y\"}, {\"hoverinfo\": \"text\", \"marker\": {\"color\": \"rgb(0,116,217)\"}, \"mode\": \"lines\", \"type\": \"scatter\", \"x\": [315.0, 315.0, 325.0, 325.0], \"xaxis\": \"x\", \"y\": [0.0, 0.051397412293108055, 0.051397412293108055, 0.0], \"yaxis\": \"y\"}, {\"hoverinfo\": \"text\", \"marker\": {\"color\": \"rgb(0,116,217)\"}, \"mode\": \"lines\", \"type\": \"scatter\", \"x\": [305.0, 305.0, 320.0, 320.0], \"xaxis\": \"x\", \"y\": [0.0, 0.13615265946754654, 0.13615265946754654, 0.051397412293108055], \"yaxis\": \"y\"}, {\"hoverinfo\": \"text\", \"marker\": {\"color\": \"rgb(0,116,217)\"}, \"mode\": \"lines\", \"type\": \"scatter\", \"x\": [295.0, 295.0, 312.5, 312.5], \"xaxis\": \"x\", \"y\": [0.0, 0.17403345329248465, 0.17403345329248465, 0.13615265946754654], \"yaxis\": \"y\"}, {\"hoverinfo\": \"text\", \"marker\": {\"color\": \"rgb(0,116,217)\"}, \"mode\": \"lines\", \"type\": \"scatter\", \"x\": [272.5, 272.5, 303.75, 303.75], \"xaxis\": \"x\", \"y\": [0.12422212395013325, 0.3964003204597171, 0.3964003204597171, 0.17403345329248465], \"yaxis\": \"y\"}, {\"hoverinfo\": \"text\", \"marker\": {\"color\": \"rgb(0,116,217)\"}, \"mode\": \"lines\", \"type\": \"scatter\", \"x\": [227.5, 227.5, 288.125, 288.125], \"xaxis\": \"x\", \"y\": [0.23451818445284817, 0.769085500509103, 0.769085500509103, 0.3964003204597171], \"yaxis\": \"y\"}, {\"hoverinfo\": \"text\", \"marker\": {\"color\": \"rgb(0,116,217)\"}, \"mode\": \"lines\", \"type\": \"scatter\", \"x\": [168.125, 168.125, 257.8125, 257.8125], \"xaxis\": \"x\", \"y\": [0.6189575064916498, 0.9542697637012869, 0.9542697637012869, 0.769085500509103], \"yaxis\": \"y\"}, {\"hoverinfo\": \"text\", \"marker\": {\"color\": \"rgb(0,116,217)\"}, \"mode\": \"lines\", \"type\": \"scatter\", \"x\": [335.0, 335.0, 345.0, 345.0], \"xaxis\": \"x\", \"y\": [0.0, 0.3260194072991158, 0.3260194072991158, 0.0], \"yaxis\": \"y\"}, {\"hoverinfo\": \"text\", \"marker\": {\"color\": \"rgb(0,116,217)\"}, \"mode\": \"lines\", \"type\": \"scatter\", \"x\": [355.0, 355.0, 365.0, 365.0], \"xaxis\": \"x\", \"y\": [0.0, 0.1873234129962439, 0.1873234129962439, 0.0], \"yaxis\": \"y\"}, {\"hoverinfo\": \"text\", \"marker\": {\"color\": \"rgb(0,116,217)\"}, \"mode\": \"lines\", \"type\": \"scatter\", \"x\": [375.0, 375.0, 385.0, 385.0], \"xaxis\": \"x\", \"y\": [0.0, 0.0513974122931087, 0.0513974122931087, 0.0], \"yaxis\": \"y\"}, {\"hoverinfo\": \"text\", \"marker\": {\"color\": \"rgb(0,116,217)\"}, \"mode\": \"lines\", \"type\": \"scatter\", \"x\": [395.0, 395.0, 405.0, 405.0], \"xaxis\": \"x\", \"y\": [0.0, 0.09410402468181787, 0.09410402468181787, 0.0], \"yaxis\": \"y\"}, {\"hoverinfo\": \"text\", \"marker\": {\"color\": \"rgb(0,116,217)\"}, \"mode\": \"lines\", \"type\": \"scatter\", \"x\": [380.0, 380.0, 400.0, 400.0], \"xaxis\": \"x\", \"y\": [0.0513974122931087, 0.23318427572456601, 0.23318427572456601, 0.09410402468181787], \"yaxis\": \"y\"}, {\"hoverinfo\": \"text\", \"marker\": {\"color\": \"rgb(0,116,217)\"}, \"mode\": \"lines\", \"type\": \"scatter\", \"x\": [360.0, 360.0, 390.0, 390.0], \"xaxis\": \"x\", \"y\": [0.1873234129962439, 0.5133379090025226, 0.5133379090025226, 0.23318427572456601], \"yaxis\": \"y\"}, {\"hoverinfo\": \"text\", \"marker\": {\"color\": \"rgb(0,116,217)\"}, \"mode\": \"lines\", \"type\": \"scatter\", \"x\": [415.0, 415.0, 425.0, 425.0], \"xaxis\": \"x\", \"y\": [0.0, 0.23595263025062058, 0.23595263025062058, 0.0], \"yaxis\": \"y\"}, {\"hoverinfo\": \"text\", \"marker\": {\"color\": \"rgb(0,116,217)\"}, \"mode\": \"lines\", \"type\": \"scatter\", \"x\": [455.0, 455.0, 465.0, 465.0], \"xaxis\": \"x\", \"y\": [0.0, 0.16859051404210923, 0.16859051404210923, 0.0], \"yaxis\": \"y\"}, {\"hoverinfo\": \"text\", \"marker\": {\"color\": \"rgb(0,116,217)\"}, \"mode\": \"lines\", \"type\": \"scatter\", \"x\": [445.0, 445.0, 460.0, 460.0], \"xaxis\": \"x\", \"y\": [0.0, 0.196250169916836, 0.196250169916836, 0.16859051404210923], \"yaxis\": \"y\"}, {\"hoverinfo\": \"text\", \"marker\": {\"color\": \"rgb(0,116,217)\"}, \"mode\": \"lines\", \"type\": \"scatter\", \"x\": [435.0, 435.0, 452.5, 452.5], \"xaxis\": \"x\", \"y\": [0.0, 0.33339670250867215, 0.33339670250867215, 0.196250169916836], \"yaxis\": \"y\"}, {\"hoverinfo\": \"text\", \"marker\": {\"color\": \"rgb(0,116,217)\"}, \"mode\": \"lines\", \"type\": \"scatter\", \"x\": [420.0, 420.0, 443.75, 443.75], \"xaxis\": \"x\", \"y\": [0.23595263025062058, 0.605581372416281, 0.605581372416281, 0.33339670250867215], \"yaxis\": \"y\"}, {\"hoverinfo\": \"text\", \"marker\": {\"color\": \"rgb(0,116,217)\"}, \"mode\": \"lines\", \"type\": \"scatter\", \"x\": [375.0, 375.0, 431.875, 431.875], \"xaxis\": \"x\", \"y\": [0.5133379090025226, 0.9588877899651145, 0.9588877899651145, 0.605581372416281], \"yaxis\": \"y\"}, {\"hoverinfo\": \"text\", \"marker\": {\"color\": \"rgb(0,116,217)\"}, \"mode\": \"lines\", \"type\": \"scatter\", \"x\": [340.0, 340.0, 403.4375, 403.4375], \"xaxis\": \"x\", \"y\": [0.3260194072991158, 1.353936489186148, 1.353936489186148, 0.9588877899651145], \"yaxis\": \"y\"}, {\"hoverinfo\": \"text\", \"marker\": {\"color\": \"rgb(0,116,217)\"}, \"mode\": \"lines\", \"type\": \"scatter\", \"x\": [212.96875, 212.96875, 371.71875, 371.71875], \"xaxis\": \"x\", \"y\": [0.9542697637012869, 1.6115535631620233, 1.6115535631620233, 1.353936489186148], \"yaxis\": \"y\"}, {\"hoverinfo\": \"text\", \"marker\": {\"color\": \"rgb(0,116,217)\"}, \"mode\": \"lines\", \"type\": \"scatter\", \"x\": [122.5, 122.5, 292.34375, 292.34375], \"xaxis\": \"x\", \"y\": [0.7064096921199922, 2.9094958448937716, 2.9094958448937716, 1.6115535631620233], \"yaxis\": \"y\"}, {\"hoverinfo\": \"text\", \"marker\": {\"color\": \"rgb(0,116,217)\"}, \"mode\": \"lines\", \"type\": \"scatter\", \"x\": [37.5, 37.5, 207.421875, 207.421875], \"xaxis\": \"x\", \"y\": [1.762311591008445, 3.3647650645415412, 3.3647650645415412, 2.9094958448937716], \"yaxis\": \"y\"}, {\"hoverinfo\": \"text\", \"marker\": {\"color\": \"rgb(0,116,217)\"}, \"mode\": \"lines\", \"type\": \"scatter\", \"x\": [495.0, 495.0, 505.0, 505.0], \"xaxis\": \"x\", \"y\": [0.0, 0.38421012238807406, 0.38421012238807406, 0.0], \"yaxis\": \"y\"}, {\"hoverinfo\": \"text\", \"marker\": {\"color\": \"rgb(0,116,217)\"}, \"mode\": \"lines\", \"type\": \"scatter\", \"x\": [485.0, 485.0, 500.0, 500.0], \"xaxis\": \"x\", \"y\": [0.0, 0.4204342005618245, 0.4204342005618245, 0.38421012238807406], \"yaxis\": \"y\"}, {\"hoverinfo\": \"text\", \"marker\": {\"color\": \"rgb(0,116,217)\"}, \"mode\": \"lines\", \"type\": \"scatter\", \"x\": [475.0, 475.0, 492.5, 492.5], \"xaxis\": \"x\", \"y\": [0.0, 0.9624508321318387, 0.9624508321318387, 0.4204342005618245], \"yaxis\": \"y\"}, {\"hoverinfo\": \"text\", \"marker\": {\"color\": \"rgb(0,116,217)\"}, \"mode\": \"lines\", \"type\": \"scatter\", \"x\": [515.0, 515.0, 525.0, 525.0], \"xaxis\": \"x\", \"y\": [0.0, 0.041966867284866385, 0.041966867284866385, 0.0], \"yaxis\": \"y\"}, {\"hoverinfo\": \"text\", \"marker\": {\"color\": \"rgb(0,116,217)\"}, \"mode\": \"lines\", \"type\": \"scatter\", \"x\": [535.0, 535.0, 545.0, 545.0], \"xaxis\": \"x\", \"y\": [0.0, 0.07630648304882541, 0.07630648304882541, 0.0], \"yaxis\": \"y\"}, {\"hoverinfo\": \"text\", \"marker\": {\"color\": \"rgb(0,116,217)\"}, \"mode\": \"lines\", \"type\": \"scatter\", \"x\": [555.0, 555.0, 565.0, 565.0], \"xaxis\": \"x\", \"y\": [0.0, 0.1052370812647477, 0.1052370812647477, 0.0], \"yaxis\": \"y\"}, {\"hoverinfo\": \"text\", \"marker\": {\"color\": \"rgb(0,116,217)\"}, \"mode\": \"lines\", \"type\": \"scatter\", \"x\": [540.0, 540.0, 560.0, 560.0], \"xaxis\": \"x\", \"y\": [0.07630648304882541, 0.23028186877490872, 0.23028186877490872, 0.1052370812647477], \"yaxis\": \"y\"}, {\"hoverinfo\": \"text\", \"marker\": {\"color\": \"rgb(0,116,217)\"}, \"mode\": \"lines\", \"type\": \"scatter\", \"x\": [520.0, 520.0, 550.0, 550.0], \"xaxis\": \"x\", \"y\": [0.041966867284866385, 0.2654534380697451, 0.2654534380697451, 0.23028186877490872], \"yaxis\": \"y\"}, {\"hoverinfo\": \"text\", \"marker\": {\"color\": \"rgb(0,116,217)\"}, \"mode\": \"lines\", \"type\": \"scatter\", \"x\": [585.0, 585.0, 595.0, 595.0], \"xaxis\": \"x\", \"y\": [0.0, 0.1323007134033603, 0.1323007134033603, 0.0], \"yaxis\": \"y\"}, {\"hoverinfo\": \"text\", \"marker\": {\"color\": \"rgb(0,116,217)\"}, \"mode\": \"lines\", \"type\": \"scatter\", \"x\": [575.0, 575.0, 590.0, 590.0], \"xaxis\": \"x\", \"y\": [0.0, 0.3195470042292059, 0.3195470042292059, 0.1323007134033603], \"yaxis\": \"y\"}, {\"hoverinfo\": \"text\", \"marker\": {\"color\": \"rgb(0,116,217)\"}, \"mode\": \"lines\", \"type\": \"scatter\", \"x\": [535.0, 535.0, 582.5, 582.5], \"xaxis\": \"x\", \"y\": [0.2654534380697451, 0.5817597519203282, 0.5817597519203282, 0.3195470042292059], \"yaxis\": \"y\"}, {\"hoverinfo\": \"text\", \"marker\": {\"color\": \"rgb(0,116,217)\"}, \"mode\": \"lines\", \"type\": \"scatter\", \"x\": [625.0, 625.0, 635.0, 635.0], \"xaxis\": \"x\", \"y\": [0.0, 0.04365285472512029, 0.04365285472512029, 0.0], \"yaxis\": \"y\"}, {\"hoverinfo\": \"text\", \"marker\": {\"color\": \"rgb(0,116,217)\"}, \"mode\": \"lines\", \"type\": \"scatter\", \"x\": [645.0, 645.0, 655.0, 655.0], \"xaxis\": \"x\", \"y\": [0.0, 0.04365285472512273, 0.04365285472512273, 0.0], \"yaxis\": \"y\"}, {\"hoverinfo\": \"text\", \"marker\": {\"color\": \"rgb(0,116,217)\"}, \"mode\": \"lines\", \"type\": \"scatter\", \"x\": [630.0, 630.0, 650.0, 650.0], \"xaxis\": \"x\", \"y\": [0.04365285472512029, 0.14513097895344743, 0.14513097895344743, 0.04365285472512273], \"yaxis\": \"y\"}, {\"hoverinfo\": \"text\", \"marker\": {\"color\": \"rgb(0,116,217)\"}, \"mode\": \"lines\", \"type\": \"scatter\", \"x\": [615.0, 615.0, 640.0, 640.0], \"xaxis\": \"x\", \"y\": [0.0, 0.2553227356318865, 0.2553227356318865, 0.14513097895344743], \"yaxis\": \"y\"}, {\"hoverinfo\": \"text\", \"marker\": {\"color\": \"rgb(0,116,217)\"}, \"mode\": \"lines\", \"type\": \"scatter\", \"x\": [685.0, 685.0, 695.0, 695.0], \"xaxis\": \"x\", \"y\": [0.0, 0.08337577355010849, 0.08337577355010849, 0.0], \"yaxis\": \"y\"}, {\"hoverinfo\": \"text\", \"marker\": {\"color\": \"rgb(0,116,217)\"}, \"mode\": \"lines\", \"type\": \"scatter\", \"x\": [675.0, 675.0, 690.0, 690.0], \"xaxis\": \"x\", \"y\": [0.0, 0.14223637132454792, 0.14223637132454792, 0.08337577355010849], \"yaxis\": \"y\"}, {\"hoverinfo\": \"text\", \"marker\": {\"color\": \"rgb(0,116,217)\"}, \"mode\": \"lines\", \"type\": \"scatter\", \"x\": [665.0, 665.0, 682.5, 682.5], \"xaxis\": \"x\", \"y\": [0.0, 0.3203095029423258, 0.3203095029423258, 0.14223637132454792], \"yaxis\": \"y\"}, {\"hoverinfo\": \"text\", \"marker\": {\"color\": \"rgb(0,116,217)\"}, \"mode\": \"lines\", \"type\": \"scatter\", \"x\": [627.5, 627.5, 673.75, 673.75], \"xaxis\": \"x\", \"y\": [0.2553227356318865, 0.6022795159216789, 0.6022795159216789, 0.3203095029423258], \"yaxis\": \"y\"}, {\"hoverinfo\": \"text\", \"marker\": {\"color\": \"rgb(0,116,217)\"}, \"mode\": \"lines\", \"type\": \"scatter\", \"x\": [725.0, 725.0, 735.0, 735.0], \"xaxis\": \"x\", \"y\": [0.0, 0.05331907673260634, 0.05331907673260634, 0.0], \"yaxis\": \"y\"}, {\"hoverinfo\": \"text\", \"marker\": {\"color\": \"rgb(0,116,217)\"}, \"mode\": \"lines\", \"type\": \"scatter\", \"x\": [715.0, 715.0, 730.0, 730.0], \"xaxis\": \"x\", \"y\": [0.0, 0.1214578018438616, 0.1214578018438616, 0.05331907673260634], \"yaxis\": \"y\"}, {\"hoverinfo\": \"text\", \"marker\": {\"color\": \"rgb(0,116,217)\"}, \"mode\": \"lines\", \"type\": \"scatter\", \"x\": [705.0, 705.0, 722.5, 722.5], \"xaxis\": \"x\", \"y\": [0.0, 0.39646197580820547, 0.39646197580820547, 0.1214578018438616], \"yaxis\": \"y\"}, {\"hoverinfo\": \"text\", \"marker\": {\"color\": \"rgb(0,116,217)\"}, \"mode\": \"lines\", \"type\": \"scatter\", \"x\": [745.0, 745.0, 755.0, 755.0], \"xaxis\": \"x\", \"y\": [0.0, 0.21663725311855775, 0.21663725311855775, 0.0], \"yaxis\": \"y\"}, {\"hoverinfo\": \"text\", \"marker\": {\"color\": \"rgb(0,116,217)\"}, \"mode\": \"lines\", \"type\": \"scatter\", \"x\": [785.0, 785.0, 795.0, 795.0], \"xaxis\": \"x\", \"y\": [0.0, 0.08561271604142967, 0.08561271604142967, 0.0], \"yaxis\": \"y\"}, {\"hoverinfo\": \"text\", \"marker\": {\"color\": \"rgb(0,116,217)\"}, \"mode\": \"lines\", \"type\": \"scatter\", \"x\": [775.0, 775.0, 790.0, 790.0], \"xaxis\": \"x\", \"y\": [0.0, 0.1291304664149004, 0.1291304664149004, 0.08561271604142967], \"yaxis\": \"y\"}, {\"hoverinfo\": \"text\", \"marker\": {\"color\": \"rgb(0,116,217)\"}, \"mode\": \"lines\", \"type\": \"scatter\", \"x\": [765.0, 765.0, 782.5, 782.5], \"xaxis\": \"x\", \"y\": [0.0, 0.2735606229099889, 0.2735606229099889, 0.1291304664149004], \"yaxis\": \"y\"}, {\"hoverinfo\": \"text\", \"marker\": {\"color\": \"rgb(0,116,217)\"}, \"mode\": \"lines\", \"type\": \"scatter\", \"x\": [750.0, 750.0, 773.75, 773.75], \"xaxis\": \"x\", \"y\": [0.21663725311855775, 0.43254895124367837, 0.43254895124367837, 0.2735606229099889], \"yaxis\": \"y\"}, {\"hoverinfo\": \"text\", \"marker\": {\"color\": \"rgb(0,116,217)\"}, \"mode\": \"lines\", \"type\": \"scatter\", \"x\": [713.75, 713.75, 761.875, 761.875], \"xaxis\": \"x\", \"y\": [0.39646197580820547, 0.6261276907800097, 0.6261276907800097, 0.43254895124367837], \"yaxis\": \"y\"}, {\"hoverinfo\": \"text\", \"marker\": {\"color\": \"rgb(0,116,217)\"}, \"mode\": \"lines\", \"type\": \"scatter\", \"x\": [650.625, 650.625, 737.8125, 737.8125], \"xaxis\": \"x\", \"y\": [0.6022795159216789, 0.8851341628602796, 0.8851341628602796, 0.6261276907800097], \"yaxis\": \"y\"}, {\"hoverinfo\": \"text\", \"marker\": {\"color\": \"rgb(0,116,217)\"}, \"mode\": \"lines\", \"type\": \"scatter\", \"x\": [605.0, 605.0, 694.21875, 694.21875], \"xaxis\": \"x\", \"y\": [0.0, 1.027698765023606, 1.027698765023606, 0.8851341628602796], \"yaxis\": \"y\"}, {\"hoverinfo\": \"text\", \"marker\": {\"color\": \"rgb(0,116,217)\"}, \"mode\": \"lines\", \"type\": \"scatter\", \"x\": [558.75, 558.75, 649.609375, 649.609375], \"xaxis\": \"x\", \"y\": [0.5817597519203282, 1.708679488869282, 1.708679488869282, 1.027698765023606], \"yaxis\": \"y\"}, {\"hoverinfo\": \"text\", \"marker\": {\"color\": \"rgb(0,116,217)\"}, \"mode\": \"lines\", \"type\": \"scatter\", \"x\": [483.75, 483.75, 604.1796875, 604.1796875], \"xaxis\": \"x\", \"y\": [0.9624508321318387, 2.906988871512575, 2.906988871512575, 1.708679488869282], \"yaxis\": \"y\"}, {\"hoverinfo\": \"text\", \"marker\": {\"color\": \"rgb(0,116,217)\"}, \"mode\": \"lines\", \"type\": \"scatter\", \"x\": [825.0, 825.0, 835.0, 835.0], \"xaxis\": \"x\", \"y\": [0.0, 0.2113490276669664, 0.2113490276669664, 0.0], \"yaxis\": \"y\"}, {\"hoverinfo\": \"text\", \"marker\": {\"color\": \"rgb(0,116,217)\"}, \"mode\": \"lines\", \"type\": \"scatter\", \"x\": [815.0, 815.0, 830.0, 830.0], \"xaxis\": \"x\", \"y\": [0.0, 0.3365510487865421, 0.3365510487865421, 0.2113490276669664], \"yaxis\": \"y\"}, {\"hoverinfo\": \"text\", \"marker\": {\"color\": \"rgb(0,116,217)\"}, \"mode\": \"lines\", \"type\": \"scatter\", \"x\": [865.0, 865.0, 875.0, 875.0], \"xaxis\": \"x\", \"y\": [0.0, 0.053319076732606725, 0.053319076732606725, 0.0], \"yaxis\": \"y\"}, {\"hoverinfo\": \"text\", \"marker\": {\"color\": \"rgb(0,116,217)\"}, \"mode\": \"lines\", \"type\": \"scatter\", \"x\": [855.0, 855.0, 870.0, 870.0], \"xaxis\": \"x\", \"y\": [0.0, 0.13784829338354485, 0.13784829338354485, 0.053319076732606725], \"yaxis\": \"y\"}, {\"hoverinfo\": \"text\", \"marker\": {\"color\": \"rgb(0,116,217)\"}, \"mode\": \"lines\", \"type\": \"scatter\", \"x\": [845.0, 845.0, 862.5, 862.5], \"xaxis\": \"x\", \"y\": [0.0, 0.3207027754018824, 0.3207027754018824, 0.13784829338354485], \"yaxis\": \"y\"}, {\"hoverinfo\": \"text\", \"marker\": {\"color\": \"rgb(0,116,217)\"}, \"mode\": \"lines\", \"type\": \"scatter\", \"x\": [895.0, 895.0, 905.0, 905.0], \"xaxis\": \"x\", \"y\": [0.0, 0.038153241524412095, 0.038153241524412095, 0.0], \"yaxis\": \"y\"}, {\"hoverinfo\": \"text\", \"marker\": {\"color\": \"rgb(0,116,217)\"}, \"mode\": \"lines\", \"type\": \"scatter\", \"x\": [885.0, 885.0, 900.0, 900.0], \"xaxis\": \"x\", \"y\": [0.0, 0.1451309789534472, 0.1451309789534472, 0.038153241524412095], \"yaxis\": \"y\"}, {\"hoverinfo\": \"text\", \"marker\": {\"color\": \"rgb(0,116,217)\"}, \"mode\": \"lines\", \"type\": \"scatter\", \"x\": [935.0, 935.0, 945.0, 945.0], \"xaxis\": \"x\", \"y\": [0.0, 0.0, 0.0, 0.0], \"yaxis\": \"y\"}, {\"hoverinfo\": \"text\", \"marker\": {\"color\": \"rgb(0,116,217)\"}, \"mode\": \"lines\", \"type\": \"scatter\", \"x\": [925.0, 925.0, 940.0, 940.0], \"xaxis\": \"x\", \"y\": [0.0, 0.0, 0.0, 0.0], \"yaxis\": \"y\"}, {\"hoverinfo\": \"text\", \"marker\": {\"color\": \"rgb(0,116,217)\"}, \"mode\": \"lines\", \"type\": \"scatter\", \"x\": [915.0, 915.0, 932.5, 932.5], \"xaxis\": \"x\", \"y\": [0.0, 0.05651285515586215, 0.05651285515586215, 0.0], \"yaxis\": \"y\"}, {\"hoverinfo\": \"text\", \"marker\": {\"color\": \"rgb(0,116,217)\"}, \"mode\": \"lines\", \"type\": \"scatter\", \"x\": [955.0, 955.0, 965.0, 965.0], \"xaxis\": \"x\", \"y\": [0.0, 0.15590864319878062, 0.15590864319878062, 0.0], \"yaxis\": \"y\"}, {\"hoverinfo\": \"text\", \"marker\": {\"color\": \"rgb(0,116,217)\"}, \"mode\": \"lines\", \"type\": \"scatter\", \"x\": [923.75, 923.75, 960.0, 960.0], \"xaxis\": \"x\", \"y\": [0.05651285515586215, 0.26288444146414375, 0.26288444146414375, 0.15590864319878062], \"yaxis\": \"y\"}, {\"hoverinfo\": \"text\", \"marker\": {\"color\": \"rgb(0,116,217)\"}, \"mode\": \"lines\", \"type\": \"scatter\", \"x\": [892.5, 892.5, 941.875, 941.875], \"xaxis\": \"x\", \"y\": [0.1451309789534472, 0.34869336804184475, 0.34869336804184475, 0.26288444146414375], \"yaxis\": \"y\"}, {\"hoverinfo\": \"text\", \"marker\": {\"color\": \"rgb(0,116,217)\"}, \"mode\": \"lines\", \"type\": \"scatter\", \"x\": [853.75, 853.75, 917.1875, 917.1875], \"xaxis\": \"x\", \"y\": [0.3207027754018824, 0.6202520639239198, 0.6202520639239198, 0.34869336804184475], \"yaxis\": \"y\"}, {\"hoverinfo\": \"text\", \"marker\": {\"color\": \"rgb(0,116,217)\"}, \"mode\": \"lines\", \"type\": \"scatter\", \"x\": [822.5, 822.5, 885.46875, 885.46875], \"xaxis\": \"x\", \"y\": [0.3365510487865421, 0.7836907919106658, 0.7836907919106658, 0.6202520639239198], \"yaxis\": \"y\"}, {\"hoverinfo\": \"text\", \"marker\": {\"color\": \"rgb(0,116,217)\"}, \"mode\": \"lines\", \"type\": \"scatter\", \"x\": [805.0, 805.0, 853.984375, 853.984375], \"xaxis\": \"x\", \"y\": [0.0, 2.0695891918900124, 2.0695891918900124, 0.7836907919106658], \"yaxis\": \"y\"}, {\"hoverinfo\": \"text\", \"marker\": {\"color\": \"rgb(0,116,217)\"}, \"mode\": \"lines\", \"type\": \"scatter\", \"x\": [995.0, 995.0, 1005.0, 1005.0], \"xaxis\": \"x\", \"y\": [0.0, 0.20980226479244998, 0.20980226479244998, 0.0], \"yaxis\": \"y\"}, {\"hoverinfo\": \"text\", \"marker\": {\"color\": \"rgb(0,116,217)\"}, \"mode\": \"lines\", \"type\": \"scatter\", \"x\": [985.0, 985.0, 1000.0, 1000.0], \"xaxis\": \"x\", \"y\": [0.0, 0.4856794131982551, 0.4856794131982551, 0.20980226479244998], \"yaxis\": \"y\"}, {\"hoverinfo\": \"text\", \"marker\": {\"color\": \"rgb(0,116,217)\"}, \"mode\": \"lines\", \"type\": \"scatter\", \"x\": [1025.0, 1025.0, 1035.0, 1035.0], \"xaxis\": \"x\", \"y\": [0.0, 0.15499823689709535, 0.15499823689709535, 0.0], \"yaxis\": \"y\"}, {\"hoverinfo\": \"text\", \"marker\": {\"color\": \"rgb(0,116,217)\"}, \"mode\": \"lines\", \"type\": \"scatter\", \"x\": [1015.0, 1015.0, 1030.0, 1030.0], \"xaxis\": \"x\", \"y\": [0.0, 0.28722805212396685, 0.28722805212396685, 0.15499823689709535], \"yaxis\": \"y\"}, {\"hoverinfo\": \"text\", \"marker\": {\"color\": \"rgb(0,116,217)\"}, \"mode\": \"lines\", \"type\": \"scatter\", \"x\": [1045.0, 1045.0, 1055.0, 1055.0], \"xaxis\": \"x\", \"y\": [0.0, 0.10786210118850596, 0.10786210118850596, 0.0], \"yaxis\": \"y\"}, {\"hoverinfo\": \"text\", \"marker\": {\"color\": \"rgb(0,116,217)\"}, \"mode\": \"lines\", \"type\": \"scatter\", \"x\": [1065.0, 1065.0, 1075.0, 1075.0], \"xaxis\": \"x\", \"y\": [0.0, 0.12145780184386139, 0.12145780184386139, 0.0], \"yaxis\": \"y\"}, {\"hoverinfo\": \"text\", \"marker\": {\"color\": \"rgb(0,116,217)\"}, \"mode\": \"lines\", \"type\": \"scatter\", \"x\": [1050.0, 1050.0, 1070.0, 1070.0], \"xaxis\": \"x\", \"y\": [0.10786210118850596, 0.3572264654034572, 0.3572264654034572, 0.12145780184386139], \"yaxis\": \"y\"}, {\"hoverinfo\": \"text\", \"marker\": {\"color\": \"rgb(0,116,217)\"}, \"mode\": \"lines\", \"type\": \"scatter\", \"x\": [1022.5, 1022.5, 1060.0, 1060.0], \"xaxis\": \"x\", \"y\": [0.28722805212396685, 0.6133451557743764, 0.6133451557743764, 0.3572264654034572], \"yaxis\": \"y\"}, {\"hoverinfo\": \"text\", \"marker\": {\"color\": \"rgb(0,116,217)\"}, \"mode\": \"lines\", \"type\": \"scatter\", \"x\": [992.5, 992.5, 1041.25, 1041.25], \"xaxis\": \"x\", \"y\": [0.4856794131982551, 1.052266347397017, 1.052266347397017, 0.6133451557743764], \"yaxis\": \"y\"}, {\"hoverinfo\": \"text\", \"marker\": {\"color\": \"rgb(0,116,217)\"}, \"mode\": \"lines\", \"type\": \"scatter\", \"x\": [975.0, 975.0, 1016.875, 1016.875], \"xaxis\": \"x\", \"y\": [0.0, 1.3872049254999188, 1.3872049254999188, 1.052266347397017], \"yaxis\": \"y\"}, {\"hoverinfo\": \"text\", \"marker\": {\"color\": \"rgb(0,116,217)\"}, \"mode\": \"lines\", \"type\": \"scatter\", \"x\": [1095.0, 1095.0, 1105.0, 1105.0], \"xaxis\": \"x\", \"y\": [0.0, 0.09268419554363223, 0.09268419554363223, 0.0], \"yaxis\": \"y\"}, {\"hoverinfo\": \"text\", \"marker\": {\"color\": \"rgb(0,116,217)\"}, \"mode\": \"lines\", \"type\": \"scatter\", \"x\": [1085.0, 1085.0, 1100.0, 1100.0], \"xaxis\": \"x\", \"y\": [0.0, 0.39149727809205925, 0.39149727809205925, 0.09268419554363223], \"yaxis\": \"y\"}, {\"hoverinfo\": \"text\", \"marker\": {\"color\": \"rgb(0,116,217)\"}, \"mode\": \"lines\", \"type\": \"scatter\", \"x\": [1125.0, 1125.0, 1135.0, 1135.0], \"xaxis\": \"x\", \"y\": [0.0, 0.22786300506616317, 0.22786300506616317, 0.0], \"yaxis\": \"y\"}, {\"hoverinfo\": \"text\", \"marker\": {\"color\": \"rgb(0,116,217)\"}, \"mode\": \"lines\", \"type\": \"scatter\", \"x\": [1115.0, 1115.0, 1130.0, 1130.0], \"xaxis\": \"x\", \"y\": [0.0, 0.40243904193663227, 0.40243904193663227, 0.22786300506616317], \"yaxis\": \"y\"}, {\"hoverinfo\": \"text\", \"marker\": {\"color\": \"rgb(0,116,217)\"}, \"mode\": \"lines\", \"type\": \"scatter\", \"x\": [1145.0, 1145.0, 1155.0, 1155.0], \"xaxis\": \"x\", \"y\": [0.0, 0.14143973075520244, 0.14143973075520244, 0.0], \"yaxis\": \"y\"}, {\"hoverinfo\": \"text\", \"marker\": {\"color\": \"rgb(0,116,217)\"}, \"mode\": \"lines\", \"type\": \"scatter\", \"x\": [1165.0, 1165.0, 1175.0, 1175.0], \"xaxis\": \"x\", \"y\": [0.0, 0.10569741933109342, 0.10569741933109342, 0.0], \"yaxis\": \"y\"}, {\"hoverinfo\": \"text\", \"marker\": {\"color\": \"rgb(0,116,217)\"}, \"mode\": \"lines\", \"type\": \"scatter\", \"x\": [1195.0, 1195.0, 1205.0, 1205.0], \"xaxis\": \"x\", \"y\": [0.0, 0.0, 0.0, 0.0], \"yaxis\": \"y\"}, {\"hoverinfo\": \"text\", \"marker\": {\"color\": \"rgb(0,116,217)\"}, \"mode\": \"lines\", \"type\": \"scatter\", \"x\": [1185.0, 1185.0, 1200.0, 1200.0], \"xaxis\": \"x\", \"y\": [0.0, 0.12401589958459815, 0.12401589958459815, 0.0], \"yaxis\": \"y\"}, {\"hoverinfo\": \"text\", \"marker\": {\"color\": \"rgb(0,116,217)\"}, \"mode\": \"lines\", \"type\": \"scatter\", \"x\": [1170.0, 1170.0, 1192.5, 1192.5], \"xaxis\": \"x\", \"y\": [0.10569741933109342, 0.33239907488313647, 0.33239907488313647, 0.12401589958459815], \"yaxis\": \"y\"}, {\"hoverinfo\": \"text\", \"marker\": {\"color\": \"rgb(0,116,217)\"}, \"mode\": \"lines\", \"type\": \"scatter\", \"x\": [1150.0, 1150.0, 1181.25, 1181.25], \"xaxis\": \"x\", \"y\": [0.14143973075520244, 0.5063391269181589, 0.5063391269181589, 0.33239907488313647], \"yaxis\": \"y\"}, {\"hoverinfo\": \"text\", \"marker\": {\"color\": \"rgb(0,116,217)\"}, \"mode\": \"lines\", \"type\": \"scatter\", \"x\": [1122.5, 1122.5, 1165.625, 1165.625], \"xaxis\": \"x\", \"y\": [0.40243904193663227, 0.7533870180569352, 0.7533870180569352, 0.5063391269181589], \"yaxis\": \"y\"}, {\"hoverinfo\": \"text\", \"marker\": {\"color\": \"rgb(0,116,217)\"}, \"mode\": \"lines\", \"type\": \"scatter\", \"x\": [1092.5, 1092.5, 1144.0625, 1144.0625], \"xaxis\": \"x\", \"y\": [0.39149727809205925, 1.290648587987077, 1.290648587987077, 0.7533870180569352], \"yaxis\": \"y\"}, {\"hoverinfo\": \"text\", \"marker\": {\"color\": \"rgb(0,116,217)\"}, \"mode\": \"lines\", \"type\": \"scatter\", \"x\": [1215.0, 1215.0, 1225.0, 1225.0], \"xaxis\": \"x\", \"y\": [0.0, 0.13230071340336036, 0.13230071340336036, 0.0], \"yaxis\": \"y\"}, {\"hoverinfo\": \"text\", \"marker\": {\"color\": \"rgb(0,116,217)\"}, \"mode\": \"lines\", \"type\": \"scatter\", \"x\": [1245.0, 1245.0, 1255.0, 1255.0], \"xaxis\": \"x\", \"y\": [0.0, 0.08393373456973276, 0.08393373456973276, 0.0], \"yaxis\": \"y\"}, {\"hoverinfo\": \"text\", \"marker\": {\"color\": \"rgb(0,116,217)\"}, \"mode\": \"lines\", \"type\": \"scatter\", \"x\": [1235.0, 1235.0, 1250.0, 1250.0], \"xaxis\": \"x\", \"y\": [0.0, 0.14415651931954457, 0.14415651931954457, 0.08393373456973276], \"yaxis\": \"y\"}, {\"hoverinfo\": \"text\", \"marker\": {\"color\": \"rgb(0,116,217)\"}, \"mode\": \"lines\", \"type\": \"scatter\", \"x\": [1220.0, 1220.0, 1242.5, 1242.5], \"xaxis\": \"x\", \"y\": [0.13230071340336036, 0.30537947027423773, 0.30537947027423773, 0.14415651931954457], \"yaxis\": \"y\"}, {\"hoverinfo\": \"text\", \"marker\": {\"color\": \"rgb(0,116,217)\"}, \"mode\": \"lines\", \"type\": \"scatter\", \"x\": [1265.0, 1265.0, 1275.0, 1275.0], \"xaxis\": \"x\", \"y\": [0.0, 0.0591902249921673, 0.0591902249921673, 0.0], \"yaxis\": \"y\"}, {\"hoverinfo\": \"text\", \"marker\": {\"color\": \"rgb(0,116,217)\"}, \"mode\": \"lines\", \"type\": \"scatter\", \"x\": [1285.0, 1285.0, 1295.0, 1295.0], \"xaxis\": \"x\", \"y\": [0.0, 0.14271216373112094, 0.14271216373112094, 0.0], \"yaxis\": \"y\"}, {\"hoverinfo\": \"text\", \"marker\": {\"color\": \"rgb(0,116,217)\"}, \"mode\": \"lines\", \"type\": \"scatter\", \"x\": [1270.0, 1270.0, 1290.0, 1290.0], \"xaxis\": \"x\", \"y\": [0.0591902249921673, 0.3834212740664656, 0.3834212740664656, 0.14271216373112094], \"yaxis\": \"y\"}, {\"hoverinfo\": \"text\", \"marker\": {\"color\": \"rgb(0,116,217)\"}, \"mode\": \"lines\", \"type\": \"scatter\", \"x\": [1231.25, 1231.25, 1280.0, 1280.0], \"xaxis\": \"x\", \"y\": [0.30537947027423773, 0.6353698952974259, 0.6353698952974259, 0.3834212740664656], \"yaxis\": \"y\"}, {\"hoverinfo\": \"text\", \"marker\": {\"color\": \"rgb(0,116,217)\"}, \"mode\": \"lines\", \"type\": \"scatter\", \"x\": [1315.0, 1315.0, 1325.0, 1325.0], \"xaxis\": \"x\", \"y\": [0.0, 0.011445559135701, 0.011445559135701, 0.0], \"yaxis\": \"y\"}, {\"hoverinfo\": \"text\", \"marker\": {\"color\": \"rgb(0,116,217)\"}, \"mode\": \"lines\", \"type\": \"scatter\", \"x\": [1305.0, 1305.0, 1320.0, 1320.0], \"xaxis\": \"x\", \"y\": [0.0, 0.06214780539363216, 0.06214780539363216, 0.011445559135701], \"yaxis\": \"y\"}, {\"hoverinfo\": \"text\", \"marker\": {\"color\": \"rgb(0,116,217)\"}, \"mode\": \"lines\", \"type\": \"scatter\", \"x\": [1345.0, 1345.0, 1355.0, 1355.0], \"xaxis\": \"x\", \"y\": [0.0, 0.06481686495779497, 0.06481686495779497, 0.0], \"yaxis\": \"y\"}, {\"hoverinfo\": \"text\", \"marker\": {\"color\": \"rgb(0,116,217)\"}, \"mode\": \"lines\", \"type\": \"scatter\", \"x\": [1335.0, 1335.0, 1350.0, 1350.0], \"xaxis\": \"x\", \"y\": [0.0, 0.1460865889046132, 0.1460865889046132, 0.06481686495779497], \"yaxis\": \"y\"}, {\"hoverinfo\": \"text\", \"marker\": {\"color\": \"rgb(0,116,217)\"}, \"mode\": \"lines\", \"type\": \"scatter\", \"x\": [1312.5, 1312.5, 1342.5, 1342.5], \"xaxis\": \"x\", \"y\": [0.06214780539363216, 0.4269889013157481, 0.4269889013157481, 0.1460865889046132], \"yaxis\": \"y\"}, {\"hoverinfo\": \"text\", \"marker\": {\"color\": \"rgb(0,116,217)\"}, \"mode\": \"lines\", \"type\": \"scatter\", \"x\": [1375.0, 1375.0, 1385.0, 1385.0], \"xaxis\": \"x\", \"y\": [0.0, 0.04365285472512301, 0.04365285472512301, 0.0], \"yaxis\": \"y\"}, {\"hoverinfo\": \"text\", \"marker\": {\"color\": \"rgb(0,116,217)\"}, \"mode\": \"lines\", \"type\": \"scatter\", \"x\": [1395.0, 1395.0, 1405.0, 1405.0], \"xaxis\": \"x\", \"y\": [0.0, 0.09968032343222591, 0.09968032343222591, 0.0], \"yaxis\": \"y\"}, {\"hoverinfo\": \"text\", \"marker\": {\"color\": \"rgb(0,116,217)\"}, \"mode\": \"lines\", \"type\": \"scatter\", \"x\": [1380.0, 1380.0, 1400.0, 1400.0], \"xaxis\": \"x\", \"y\": [0.04365285472512301, 0.2461069312259658, 0.2461069312259658, 0.09968032343222591], \"yaxis\": \"y\"}, {\"hoverinfo\": \"text\", \"marker\": {\"color\": \"rgb(0,116,217)\"}, \"mode\": \"lines\", \"type\": \"scatter\", \"x\": [1365.0, 1365.0, 1390.0, 1390.0], \"xaxis\": \"x\", \"y\": [0.0, 0.30000168920757736, 0.30000168920757736, 0.2461069312259658], \"yaxis\": \"y\"}, {\"hoverinfo\": \"text\", \"marker\": {\"color\": \"rgb(0,116,217)\"}, \"mode\": \"lines\", \"type\": \"scatter\", \"x\": [1415.0, 1415.0, 1425.0, 1425.0], \"xaxis\": \"x\", \"y\": [0.0, 0.15701149474334036, 0.15701149474334036, 0.0], \"yaxis\": \"y\"}, {\"hoverinfo\": \"text\", \"marker\": {\"color\": \"rgb(0,116,217)\"}, \"mode\": \"lines\", \"type\": \"scatter\", \"x\": [1435.0, 1435.0, 1445.0, 1445.0], \"xaxis\": \"x\", \"y\": [0.0, 0.15995723019781913, 0.15995723019781913, 0.0], \"yaxis\": \"y\"}, {\"hoverinfo\": \"text\", \"marker\": {\"color\": \"rgb(0,116,217)\"}, \"mode\": \"lines\", \"type\": \"scatter\", \"x\": [1455.0, 1455.0, 1465.0, 1465.0], \"xaxis\": \"x\", \"y\": [0.0, 0.11942903646680691, 0.11942903646680691, 0.0], \"yaxis\": \"y\"}, {\"hoverinfo\": \"text\", \"marker\": {\"color\": \"rgb(0,116,217)\"}, \"mode\": \"lines\", \"type\": \"scatter\", \"x\": [1485.0, 1485.0, 1495.0, 1495.0], \"xaxis\": \"x\", \"y\": [0.0, 0.06740481035033688, 0.06740481035033688, 0.0], \"yaxis\": \"y\"}, {\"hoverinfo\": \"text\", \"marker\": {\"color\": \"rgb(0,116,217)\"}, \"mode\": \"lines\", \"type\": \"scatter\", \"x\": [1475.0, 1475.0, 1490.0, 1490.0], \"xaxis\": \"x\", \"y\": [0.0, 0.14674948296429455, 0.14674948296429455, 0.06740481035033688], \"yaxis\": \"y\"}, {\"hoverinfo\": \"text\", \"marker\": {\"color\": \"rgb(0,116,217)\"}, \"mode\": \"lines\", \"type\": \"scatter\", \"x\": [1460.0, 1460.0, 1482.5, 1482.5], \"xaxis\": \"x\", \"y\": [0.11942903646680691, 0.254883224104014, 0.254883224104014, 0.14674948296429455], \"yaxis\": \"y\"}, {\"hoverinfo\": \"text\", \"marker\": {\"color\": \"rgb(0,116,217)\"}, \"mode\": \"lines\", \"type\": \"scatter\", \"x\": [1440.0, 1440.0, 1471.25, 1471.25], \"xaxis\": \"x\", \"y\": [0.15995723019781913, 0.3746918975833656, 0.3746918975833656, 0.254883224104014], \"yaxis\": \"y\"}, {\"hoverinfo\": \"text\", \"marker\": {\"color\": \"rgb(0,116,217)\"}, \"mode\": \"lines\", \"type\": \"scatter\", \"x\": [1420.0, 1420.0, 1455.625, 1455.625], \"xaxis\": \"x\", \"y\": [0.15701149474334036, 0.46905317528730217, 0.46905317528730217, 0.3746918975833656], \"yaxis\": \"y\"}, {\"hoverinfo\": \"text\", \"marker\": {\"color\": \"rgb(0,116,217)\"}, \"mode\": \"lines\", \"type\": \"scatter\", \"x\": [1377.5, 1377.5, 1437.8125, 1437.8125], \"xaxis\": \"x\", \"y\": [0.30000168920757736, 0.8250034255081454, 0.8250034255081454, 0.46905317528730217], \"yaxis\": \"y\"}, {\"hoverinfo\": \"text\", \"marker\": {\"color\": \"rgb(0,116,217)\"}, \"mode\": \"lines\", \"type\": \"scatter\", \"x\": [1327.5, 1327.5, 1407.65625, 1407.65625], \"xaxis\": \"x\", \"y\": [0.4269889013157481, 1.2145154428516798, 1.2145154428516798, 0.8250034255081454], \"yaxis\": \"y\"}, {\"hoverinfo\": \"text\", \"marker\": {\"color\": \"rgb(0,116,217)\"}, \"mode\": \"lines\", \"type\": \"scatter\", \"x\": [1255.625, 1255.625, 1367.578125, 1367.578125], \"xaxis\": \"x\", \"y\": [0.6353698952974259, 1.4596095723087148, 1.4596095723087148, 1.2145154428516798], \"yaxis\": \"y\"}, {\"hoverinfo\": \"text\", \"marker\": {\"color\": \"rgb(0,116,217)\"}, \"mode\": \"lines\", \"type\": \"scatter\", \"x\": [1118.28125, 1118.28125, 1311.6015625, 1311.6015625], \"xaxis\": \"x\", \"y\": [1.290648587987077, 1.933107350227386, 1.933107350227386, 1.4596095723087148], \"yaxis\": \"y\"}, {\"hoverinfo\": \"text\", \"marker\": {\"color\": \"rgb(0,116,217)\"}, \"mode\": \"lines\", \"type\": \"scatter\", \"x\": [995.9375, 995.9375, 1214.94140625, 1214.94140625], \"xaxis\": \"x\", \"y\": [1.3872049254999188, 2.886501710229771, 2.886501710229771, 1.933107350227386], \"yaxis\": \"y\"}, {\"hoverinfo\": \"text\", \"marker\": {\"color\": \"rgb(0,116,217)\"}, \"mode\": \"lines\", \"type\": \"scatter\", \"x\": [829.4921875, 829.4921875, 1105.439453125, 1105.439453125], \"xaxis\": \"x\", \"y\": [2.0695891918900124, 4.315789452466484, 4.315789452466484, 2.886501710229771], \"yaxis\": \"y\"}, {\"hoverinfo\": \"text\", \"marker\": {\"color\": \"rgb(0,116,217)\"}, \"mode\": \"lines\", \"type\": \"scatter\", \"x\": [543.96484375, 543.96484375, 967.4658203125, 967.4658203125], \"xaxis\": \"x\", \"y\": [2.906988871512575, 5.871303812869842, 5.871303812869842, 4.315789452466484], \"yaxis\": \"y\"}, {\"hoverinfo\": \"text\", \"marker\": {\"color\": \"rgb(0,116,217)\"}, \"mode\": \"lines\", \"type\": \"scatter\", \"x\": [122.4609375, 122.4609375, 755.71533203125, 755.71533203125], \"xaxis\": \"x\", \"y\": [3.3647650645415412, 6.81366723146473, 6.81366723146473, 5.871303812869842], \"yaxis\": \"y\"}],                        {\"autosize\": false, \"height\": 500, \"hovermode\": \"closest\", \"showlegend\": false, \"template\": {\"data\": {\"bar\": [{\"error_x\": {\"color\": \"#2a3f5f\"}, \"error_y\": {\"color\": \"#2a3f5f\"}, \"marker\": {\"line\": {\"color\": \"#E5ECF6\", \"width\": 0.5}}, \"type\": \"bar\"}], \"barpolar\": [{\"marker\": {\"line\": {\"color\": \"#E5ECF6\", \"width\": 0.5}}, \"type\": \"barpolar\"}], \"carpet\": [{\"aaxis\": {\"endlinecolor\": \"#2a3f5f\", \"gridcolor\": \"white\", \"linecolor\": \"white\", \"minorgridcolor\": \"white\", \"startlinecolor\": \"#2a3f5f\"}, \"baxis\": {\"endlinecolor\": \"#2a3f5f\", \"gridcolor\": \"white\", \"linecolor\": \"white\", \"minorgridcolor\": \"white\", \"startlinecolor\": \"#2a3f5f\"}, \"type\": \"carpet\"}], \"choropleth\": [{\"colorbar\": {\"outlinewidth\": 0, \"ticks\": \"\"}, \"type\": \"choropleth\"}], \"contour\": [{\"colorbar\": {\"outlinewidth\": 0, \"ticks\": \"\"}, \"colorscale\": [[0.0, \"#0d0887\"], [0.1111111111111111, \"#46039f\"], [0.2222222222222222, \"#7201a8\"], [0.3333333333333333, \"#9c179e\"], [0.4444444444444444, \"#bd3786\"], [0.5555555555555556, \"#d8576b\"], [0.6666666666666666, \"#ed7953\"], [0.7777777777777778, \"#fb9f3a\"], [0.8888888888888888, \"#fdca26\"], [1.0, \"#f0f921\"]], \"type\": \"contour\"}], \"contourcarpet\": [{\"colorbar\": {\"outlinewidth\": 0, \"ticks\": \"\"}, \"type\": \"contourcarpet\"}], \"heatmap\": [{\"colorbar\": {\"outlinewidth\": 0, \"ticks\": \"\"}, \"colorscale\": [[0.0, \"#0d0887\"], [0.1111111111111111, \"#46039f\"], [0.2222222222222222, \"#7201a8\"], [0.3333333333333333, \"#9c179e\"], [0.4444444444444444, \"#bd3786\"], [0.5555555555555556, \"#d8576b\"], [0.6666666666666666, \"#ed7953\"], [0.7777777777777778, \"#fb9f3a\"], [0.8888888888888888, \"#fdca26\"], [1.0, \"#f0f921\"]], \"type\": \"heatmap\"}], \"heatmapgl\": [{\"colorbar\": {\"outlinewidth\": 0, \"ticks\": \"\"}, \"colorscale\": [[0.0, \"#0d0887\"], [0.1111111111111111, \"#46039f\"], [0.2222222222222222, \"#7201a8\"], [0.3333333333333333, \"#9c179e\"], [0.4444444444444444, \"#bd3786\"], [0.5555555555555556, \"#d8576b\"], [0.6666666666666666, \"#ed7953\"], [0.7777777777777778, \"#fb9f3a\"], [0.8888888888888888, \"#fdca26\"], [1.0, \"#f0f921\"]], \"type\": \"heatmapgl\"}], \"histogram\": [{\"marker\": {\"colorbar\": {\"outlinewidth\": 0, \"ticks\": \"\"}}, \"type\": \"histogram\"}], \"histogram2d\": [{\"colorbar\": {\"outlinewidth\": 0, \"ticks\": \"\"}, \"colorscale\": [[0.0, \"#0d0887\"], [0.1111111111111111, \"#46039f\"], [0.2222222222222222, \"#7201a8\"], [0.3333333333333333, \"#9c179e\"], [0.4444444444444444, \"#bd3786\"], [0.5555555555555556, \"#d8576b\"], [0.6666666666666666, \"#ed7953\"], [0.7777777777777778, \"#fb9f3a\"], [0.8888888888888888, \"#fdca26\"], [1.0, \"#f0f921\"]], \"type\": \"histogram2d\"}], \"histogram2dcontour\": [{\"colorbar\": {\"outlinewidth\": 0, \"ticks\": \"\"}, \"colorscale\": [[0.0, \"#0d0887\"], [0.1111111111111111, \"#46039f\"], [0.2222222222222222, \"#7201a8\"], [0.3333333333333333, \"#9c179e\"], [0.4444444444444444, \"#bd3786\"], [0.5555555555555556, \"#d8576b\"], [0.6666666666666666, \"#ed7953\"], [0.7777777777777778, \"#fb9f3a\"], [0.8888888888888888, \"#fdca26\"], [1.0, \"#f0f921\"]], \"type\": \"histogram2dcontour\"}], \"mesh3d\": [{\"colorbar\": {\"outlinewidth\": 0, \"ticks\": \"\"}, \"type\": \"mesh3d\"}], \"parcoords\": [{\"line\": {\"colorbar\": {\"outlinewidth\": 0, \"ticks\": \"\"}}, \"type\": \"parcoords\"}], \"pie\": [{\"automargin\": true, \"type\": \"pie\"}], \"scatter\": [{\"marker\": {\"colorbar\": {\"outlinewidth\": 0, \"ticks\": \"\"}}, \"type\": \"scatter\"}], \"scatter3d\": [{\"line\": {\"colorbar\": {\"outlinewidth\": 0, \"ticks\": \"\"}}, \"marker\": {\"colorbar\": {\"outlinewidth\": 0, \"ticks\": \"\"}}, \"type\": \"scatter3d\"}], \"scattercarpet\": [{\"marker\": {\"colorbar\": {\"outlinewidth\": 0, \"ticks\": \"\"}}, \"type\": \"scattercarpet\"}], \"scattergeo\": [{\"marker\": {\"colorbar\": {\"outlinewidth\": 0, \"ticks\": \"\"}}, \"type\": \"scattergeo\"}], \"scattergl\": [{\"marker\": {\"colorbar\": {\"outlinewidth\": 0, \"ticks\": \"\"}}, \"type\": \"scattergl\"}], \"scattermapbox\": [{\"marker\": {\"colorbar\": {\"outlinewidth\": 0, \"ticks\": \"\"}}, \"type\": \"scattermapbox\"}], \"scatterpolar\": [{\"marker\": {\"colorbar\": {\"outlinewidth\": 0, \"ticks\": \"\"}}, \"type\": \"scatterpolar\"}], \"scatterpolargl\": [{\"marker\": {\"colorbar\": {\"outlinewidth\": 0, \"ticks\": \"\"}}, \"type\": \"scatterpolargl\"}], \"scatterternary\": [{\"marker\": {\"colorbar\": {\"outlinewidth\": 0, \"ticks\": \"\"}}, \"type\": \"scatterternary\"}], \"surface\": [{\"colorbar\": {\"outlinewidth\": 0, \"ticks\": \"\"}, \"colorscale\": [[0.0, \"#0d0887\"], [0.1111111111111111, \"#46039f\"], [0.2222222222222222, \"#7201a8\"], [0.3333333333333333, \"#9c179e\"], [0.4444444444444444, \"#bd3786\"], [0.5555555555555556, \"#d8576b\"], [0.6666666666666666, \"#ed7953\"], [0.7777777777777778, \"#fb9f3a\"], [0.8888888888888888, \"#fdca26\"], [1.0, \"#f0f921\"]], \"type\": \"surface\"}], \"table\": [{\"cells\": {\"fill\": {\"color\": \"#EBF0F8\"}, \"line\": {\"color\": \"white\"}}, \"header\": {\"fill\": {\"color\": \"#C8D4E3\"}, \"line\": {\"color\": \"white\"}}, \"type\": \"table\"}]}, \"layout\": {\"annotationdefaults\": {\"arrowcolor\": \"#2a3f5f\", \"arrowhead\": 0, \"arrowwidth\": 1}, \"autotypenumbers\": \"strict\", \"coloraxis\": {\"colorbar\": {\"outlinewidth\": 0, \"ticks\": \"\"}}, \"colorscale\": {\"diverging\": [[0, \"#8e0152\"], [0.1, \"#c51b7d\"], [0.2, \"#de77ae\"], [0.3, \"#f1b6da\"], [0.4, \"#fde0ef\"], [0.5, \"#f7f7f7\"], [0.6, \"#e6f5d0\"], [0.7, \"#b8e186\"], [0.8, \"#7fbc41\"], [0.9, \"#4d9221\"], [1, \"#276419\"]], \"sequential\": [[0.0, \"#0d0887\"], [0.1111111111111111, \"#46039f\"], [0.2222222222222222, \"#7201a8\"], [0.3333333333333333, \"#9c179e\"], [0.4444444444444444, \"#bd3786\"], [0.5555555555555556, \"#d8576b\"], [0.6666666666666666, \"#ed7953\"], [0.7777777777777778, \"#fb9f3a\"], [0.8888888888888888, \"#fdca26\"], [1.0, \"#f0f921\"]], \"sequentialminus\": [[0.0, \"#0d0887\"], [0.1111111111111111, \"#46039f\"], [0.2222222222222222, \"#7201a8\"], [0.3333333333333333, \"#9c179e\"], [0.4444444444444444, \"#bd3786\"], [0.5555555555555556, \"#d8576b\"], [0.6666666666666666, \"#ed7953\"], [0.7777777777777778, \"#fb9f3a\"], [0.8888888888888888, \"#fdca26\"], [1.0, \"#f0f921\"]]}, \"colorway\": [\"#636efa\", \"#EF553B\", \"#00cc96\", \"#ab63fa\", \"#FFA15A\", \"#19d3f3\", \"#FF6692\", \"#B6E880\", \"#FF97FF\", \"#FECB52\"], \"font\": {\"color\": \"#2a3f5f\"}, \"geo\": {\"bgcolor\": \"white\", \"lakecolor\": \"white\", \"landcolor\": \"#E5ECF6\", \"showlakes\": true, \"showland\": true, \"subunitcolor\": \"white\"}, \"hoverlabel\": {\"align\": \"left\"}, \"hovermode\": \"closest\", \"mapbox\": {\"style\": \"light\"}, \"paper_bgcolor\": \"white\", \"plot_bgcolor\": \"#E5ECF6\", \"polar\": {\"angularaxis\": {\"gridcolor\": \"white\", \"linecolor\": \"white\", \"ticks\": \"\"}, \"bgcolor\": \"#E5ECF6\", \"radialaxis\": {\"gridcolor\": \"white\", \"linecolor\": \"white\", \"ticks\": \"\"}}, \"scene\": {\"xaxis\": {\"backgroundcolor\": \"#E5ECF6\", \"gridcolor\": \"white\", \"gridwidth\": 2, \"linecolor\": \"white\", \"showbackground\": true, \"ticks\": \"\", \"zerolinecolor\": \"white\"}, \"yaxis\": {\"backgroundcolor\": \"#E5ECF6\", \"gridcolor\": \"white\", \"gridwidth\": 2, \"linecolor\": \"white\", \"showbackground\": true, \"ticks\": \"\", \"zerolinecolor\": \"white\"}, \"zaxis\": {\"backgroundcolor\": \"#E5ECF6\", \"gridcolor\": \"white\", \"gridwidth\": 2, \"linecolor\": \"white\", \"showbackground\": true, \"ticks\": \"\", \"zerolinecolor\": \"white\"}}, \"shapedefaults\": {\"line\": {\"color\": \"#2a3f5f\"}}, \"ternary\": {\"aaxis\": {\"gridcolor\": \"white\", \"linecolor\": \"white\", \"ticks\": \"\"}, \"baxis\": {\"gridcolor\": \"white\", \"linecolor\": \"white\", \"ticks\": \"\"}, \"bgcolor\": \"#E5ECF6\", \"caxis\": {\"gridcolor\": \"white\", \"linecolor\": \"white\", \"ticks\": \"\"}}, \"title\": {\"x\": 0.05}, \"xaxis\": {\"automargin\": true, \"gridcolor\": \"white\", \"linecolor\": \"white\", \"ticks\": \"\", \"title\": {\"standoff\": 15}, \"zerolinecolor\": \"white\", \"zerolinewidth\": 2}, \"yaxis\": {\"automargin\": true, \"gridcolor\": \"white\", \"linecolor\": \"white\", \"ticks\": \"\", \"title\": {\"standoff\": 15}, \"zerolinecolor\": \"white\", \"zerolinewidth\": 2}}}, \"width\": 800, \"xaxis\": {\"mirror\": \"allticks\", \"rangemode\": \"tozero\", \"showgrid\": false, \"showline\": true, \"showticklabels\": true, \"tickmode\": \"array\", \"ticks\": \"outside\", \"ticktext\": [\"108\", \"111\", \"128\", \"132\", \"118\", \"130\", \"102\", \"107\", \"122\", \"105\", \"135\", \"109\", \"117\", \"131\", \"50\", \"52\", \"110\", \"115\", \"148\", \"124\", \"136\", \"100\", \"120\", \"143\", \"125\", \"144\", \"104\", \"112\", \"145\", \"140\", \"129\", \"139\", \"141\", \"56\", \"85\", \"76\", \"103\", \"116\", \"147\", \"77\", \"137\", \"75\", \"127\", \"86\", \"70\", \"51\", \"65\", \"15\", \"32\", \"14\", \"33\", \"19\", \"46\", \"21\", \"48\", \"10\", \"44\", \"18\", \"5\", \"16\", \"22\", \"4\", \"0\", \"40\", \"17\", \"27\", \"36\", \"31\", \"20\", \"43\", \"23\", \"26\", \"28\", \"39\", \"35\", \"49\", \"6\", \"11\", \"7\", \"24\", \"41\", \"8\", \"13\", \"38\", \"42\", \"29\", \"2\", \"47\", \"25\", \"1\", \"45\", \"30\", \"37\", \"9\", \"34\", \"3\", \"12\", \"60\", \"98\", \"57\", \"93\", \"106\", \"53\", \"62\", \"80\", \"81\", \"69\", \"89\", \"87\", \"68\", \"119\", \"146\", \"72\", \"113\", \"114\", \"123\", \"83\", \"121\", \"134\", \"101\", \"142\", \"55\", \"99\", \"94\", \"67\", \"82\", \"59\", \"79\", \"90\", \"92\", \"149\", \"58\", \"138\", \"54\", \"126\", \"133\", \"64\", \"88\", \"95\", \"84\", \"96\", \"71\", \"73\", \"61\", \"66\", \"74\", \"91\", \"97\", \"63\", \"78\"], \"tickvals\": [5, 15, 25, 35, 45, 55, 65, 75, 85, 95, 105, 115, 125, 135, 145, 155, 165, 175, 185, 195, 205, 215, 225, 235, 245, 255, 265, 275, 285, 295, 305, 315, 325, 335, 345, 355, 365, 375, 385, 395, 405, 415, 425, 435, 445, 455, 465, 475, 485, 495, 505, 515, 525, 535, 545, 555, 565, 575, 585, 595, 605, 615, 625, 635, 645, 655, 665, 675, 685, 695, 705, 715, 725, 735, 745, 755, 765, 775, 785, 795, 805, 815, 825, 835, 845, 855, 865, 875, 885, 895, 905, 915, 925, 935, 945, 955, 965, 975, 985, 995, 1005, 1015, 1025, 1035, 1045, 1055, 1065, 1075, 1085, 1095, 1105, 1115, 1125, 1135, 1145, 1155, 1165, 1175, 1185, 1195, 1205, 1215, 1225, 1235, 1245, 1255, 1265, 1275, 1285, 1295, 1305, 1315, 1325, 1335, 1345, 1355, 1365, 1375, 1385, 1395, 1405, 1415, 1425, 1435, 1445, 1455, 1465, 1475, 1485, 1495], \"type\": \"linear\", \"zeroline\": false}, \"yaxis\": {\"mirror\": \"allticks\", \"rangemode\": \"tozero\", \"showgrid\": false, \"showline\": true, \"showticklabels\": true, \"ticks\": \"outside\", \"type\": \"linear\", \"zeroline\": false}},                        {\"responsive\": true}                    ).then(function(){\n",
       "                            \n",
       "var gd = document.getElementById('dc7ba89b-0743-428e-9e10-e4c3ef052049');\n",
       "var x = new MutationObserver(function (mutations, observer) {{\n",
       "        var display = window.getComputedStyle(gd).display;\n",
       "        if (!display || display === 'none') {{\n",
       "            console.log([gd, 'removed!']);\n",
       "            Plotly.purge(gd);\n",
       "            observer.disconnect();\n",
       "        }}\n",
       "}});\n",
       "\n",
       "// Listen for the removal of the full notebook cells\n",
       "var notebookContainer = gd.closest('#notebook-container');\n",
       "if (notebookContainer) {{\n",
       "    x.observe(notebookContainer, {childList: true});\n",
       "}}\n",
       "\n",
       "// Listen for the clearing of the current output cell\n",
       "var outputEl = gd.closest('.output');\n",
       "if (outputEl) {{\n",
       "    x.observe(outputEl, {childList: true});\n",
       "}}\n",
       "\n",
       "                        })                };                });            </script>        </div>"
      ]
     },
     "metadata": {},
     "output_type": "display_data"
    }
   ],
   "source": [
    "# Create the dendrogram\n",
    "fig = ff.create_dendrogram(df_iris_pca, color_threshold=0)\n",
    "fig.update_layout(width=800, height=500)\n",
    "fig.show()"
   ]
  },
  {
   "cell_type": "code",
   "execution_count": 59,
   "metadata": {},
   "outputs": [
    {
     "ename": "NameError",
     "evalue": "name 'AgglomerativeClustering' is not defined",
     "output_type": "error",
     "traceback": [
      "\u001b[0;31m---------------------------------------------------------------------------\u001b[0m",
      "\u001b[0;31mNameError\u001b[0m                                 Traceback (most recent call last)",
      "\u001b[0;32m<ipython-input-59-6999c210acc8>\u001b[0m in \u001b[0;36m<module>\u001b[0;34m\u001b[0m\n\u001b[0;32m----> 1\u001b[0;31m \u001b[0magg\u001b[0m \u001b[0;34m=\u001b[0m \u001b[0mAgglomerativeClustering\u001b[0m\u001b[0;34m(\u001b[0m\u001b[0mn_clusters\u001b[0m\u001b[0;34m=\u001b[0m\u001b[0;36m3\u001b[0m\u001b[0;34m)\u001b[0m\u001b[0;34m\u001b[0m\u001b[0;34m\u001b[0m\u001b[0m\n\u001b[0m\u001b[1;32m      2\u001b[0m \u001b[0mmodel\u001b[0m \u001b[0;34m=\u001b[0m \u001b[0magg\u001b[0m\u001b[0;34m.\u001b[0m\u001b[0mfit\u001b[0m\u001b[0;34m(\u001b[0m\u001b[0mdf_iris_pca\u001b[0m\u001b[0;34m)\u001b[0m\u001b[0;34m\u001b[0m\u001b[0;34m\u001b[0m\u001b[0m\n",
      "\u001b[0;31mNameError\u001b[0m: name 'AgglomerativeClustering' is not defined"
     ]
    }
   ],
   "source": [
    "agg = AgglomerativeClustering(n_clusters=3)\n",
    "model = agg.fit(df_iris_pca)"
   ]
  },
  {
   "cell_type": "code",
   "execution_count": 60,
   "metadata": {},
   "outputs": [
    {
     "data": {
      "text/html": [
       "<div>\n",
       "<style scoped>\n",
       "    .dataframe tbody tr th:only-of-type {\n",
       "        vertical-align: middle;\n",
       "    }\n",
       "\n",
       "    .dataframe tbody tr th {\n",
       "        vertical-align: top;\n",
       "    }\n",
       "\n",
       "    .dataframe thead th {\n",
       "        text-align: right;\n",
       "    }\n",
       "</style>\n",
       "<table border=\"1\" class=\"dataframe\">\n",
       "  <thead>\n",
       "    <tr style=\"text-align: right;\">\n",
       "      <th></th>\n",
       "      <th>principal component 1</th>\n",
       "      <th>principal component 2</th>\n",
       "      <th>class</th>\n",
       "    </tr>\n",
       "  </thead>\n",
       "  <tbody>\n",
       "    <tr>\n",
       "      <th>0</th>\n",
       "      <td>-2.264542</td>\n",
       "      <td>0.505704</td>\n",
       "      <td>0</td>\n",
       "    </tr>\n",
       "    <tr>\n",
       "      <th>1</th>\n",
       "      <td>-2.086426</td>\n",
       "      <td>-0.655405</td>\n",
       "      <td>0</td>\n",
       "    </tr>\n",
       "    <tr>\n",
       "      <th>2</th>\n",
       "      <td>-2.367950</td>\n",
       "      <td>-0.318477</td>\n",
       "      <td>0</td>\n",
       "    </tr>\n",
       "    <tr>\n",
       "      <th>3</th>\n",
       "      <td>-2.304197</td>\n",
       "      <td>-0.575368</td>\n",
       "      <td>0</td>\n",
       "    </tr>\n",
       "    <tr>\n",
       "      <th>4</th>\n",
       "      <td>-2.388777</td>\n",
       "      <td>0.674767</td>\n",
       "      <td>0</td>\n",
       "    </tr>\n",
       "  </tbody>\n",
       "</table>\n",
       "</div>"
      ],
      "text/plain": [
       "   principal component 1  principal component 2  class\n",
       "0              -2.264542               0.505704      0\n",
       "1              -2.086426              -0.655405      0\n",
       "2              -2.367950              -0.318477      0\n",
       "3              -2.304197              -0.575368      0\n",
       "4              -2.388777               0.674767      0"
      ]
     },
     "execution_count": 60,
     "metadata": {},
     "output_type": "execute_result"
    }
   ],
   "source": [
    "# add a nw class column to df_iris\n",
    "df_iris_pca[\"class\"] = model.labels_\n",
    "df_iris_pca.head()"
   ]
  },
  {
   "cell_type": "code",
   "execution_count": 61,
   "metadata": {},
   "outputs": [
    {
     "data": {},
     "metadata": {},
     "output_type": "display_data"
    },
    {
     "data": {
      "application/vnd.holoviews_exec.v0+json": "",
      "text/html": [
       "<div id='2162'>\n",
       "\n",
       "\n",
       "\n",
       "\n",
       "\n",
       "  <div class=\"bk-root\" id=\"cc3d8057-657b-4d39-855a-a355055d965c\" data-root-id=\"2162\"></div>\n",
       "</div>\n",
       "<script type=\"application/javascript\">(function(root) {\n",
       "  function embed_document(root) {\n",
       "    var docs_json = {\"1f93f547-fe6c-4bec-a640-468cf5c2de6d\":{\"defs\":[{\"extends\":null,\"module\":null,\"name\":\"DataModel\",\"overrides\":[],\"properties\":[]}],\"roots\":{\"references\":[{\"attributes\":{},\"id\":\"2176\",\"type\":\"LinearScale\"},{\"attributes\":{},\"id\":\"2227\",\"type\":\"Selection\"},{\"attributes\":{\"bottom_units\":\"screen\",\"fill_alpha\":0.5,\"fill_color\":\"lightgrey\",\"left_units\":\"screen\",\"level\":\"overlay\",\"line_alpha\":1.0,\"line_color\":\"black\",\"line_dash\":[4,4],\"line_width\":2,\"right_units\":\"screen\",\"syncable\":false,\"top_units\":\"screen\"},\"id\":\"2191\",\"type\":\"BoxAnnotation\"},{\"attributes\":{},\"id\":\"2222\",\"type\":\"UnionRenderers\"},{\"attributes\":{\"text_color\":\"black\",\"text_font_size\":\"12pt\"},\"id\":\"2170\",\"type\":\"Title\"},{\"attributes\":{\"angle\":{\"value\":0.0},\"fill_alpha\":{\"value\":1.0},\"fill_color\":{\"value\":\"#30a2da\"},\"hatch_alpha\":{\"value\":1.0},\"hatch_color\":{\"value\":\"black\"},\"hatch_scale\":{\"value\":12.0},\"hatch_weight\":{\"value\":1.0},\"line_alpha\":{\"value\":1.0},\"line_cap\":{\"value\":\"butt\"},\"line_color\":{\"value\":\"#30a2da\"},\"line_dash\":{\"value\":[]},\"line_dash_offset\":{\"value\":0},\"line_join\":{\"value\":\"bevel\"},\"line_width\":{\"value\":1},\"marker\":{\"value\":\"circle\"},\"size\":{\"value\":5.477225575051661},\"x\":{\"field\":\"principal component 1\"},\"y\":{\"field\":\"principal component 2\"}},\"id\":\"2225\",\"type\":\"Scatter\"},{\"attributes\":{},\"id\":\"2269\",\"type\":\"UnionRenderers\"},{\"attributes\":{\"data_source\":{\"id\":\"2226\"},\"glyph\":{\"id\":\"2229\"},\"hover_glyph\":null,\"muted_glyph\":{\"id\":\"2231\"},\"nonselection_glyph\":{\"id\":\"2230\"},\"selection_glyph\":{\"id\":\"2247\"},\"view\":{\"id\":\"2233\"}},\"id\":\"2232\",\"type\":\"GlyphRenderer\"},{\"attributes\":{},\"id\":\"2174\",\"type\":\"LinearScale\"},{\"attributes\":{\"angle\":{\"value\":0.0},\"fill_alpha\":{\"value\":1.0},\"fill_color\":{\"value\":\"#fc4f30\"},\"hatch_alpha\":{\"value\":1.0},\"hatch_color\":{\"value\":\"black\"},\"hatch_scale\":{\"value\":12.0},\"hatch_weight\":{\"value\":1.0},\"line_alpha\":{\"value\":1.0},\"line_cap\":{\"value\":\"butt\"},\"line_color\":{\"value\":\"#fc4f30\"},\"line_dash\":{\"value\":[]},\"line_dash_offset\":{\"value\":0},\"line_join\":{\"value\":\"bevel\"},\"line_width\":{\"value\":1},\"marker\":{\"value\":\"circle\"},\"size\":{\"value\":5.477225575051661},\"x\":{\"field\":\"principal component 1\"},\"y\":{\"field\":\"principal component 2\"}},\"id\":\"2247\",\"type\":\"Scatter\"},{\"attributes\":{\"label\":{\"value\":\"1\"},\"renderers\":[{\"id\":\"2232\"}]},\"id\":\"2246\",\"type\":\"LegendItem\"},{\"attributes\":{},\"id\":\"2179\",\"type\":\"BasicTicker\"},{\"attributes\":{\"axis_label\":\"principal component 1\",\"formatter\":{\"id\":\"2199\"},\"major_label_policy\":{\"id\":\"2201\"},\"ticker\":{\"id\":\"2179\"}},\"id\":\"2178\",\"type\":\"LinearAxis\"},{\"attributes\":{\"source\":{\"id\":\"2248\"}},\"id\":\"2255\",\"type\":\"CDSView\"},{\"attributes\":{\"axis\":{\"id\":\"2182\"},\"dimension\":1,\"grid_line_color\":null,\"ticker\":null},\"id\":\"2185\",\"type\":\"Grid\"},{\"attributes\":{\"fill_color\":{\"value\":\"#fc4f30\"},\"line_color\":{\"value\":\"#fc4f30\"},\"size\":{\"value\":5.477225575051661},\"x\":{\"field\":\"principal component 1\"},\"y\":{\"field\":\"principal component 2\"}},\"id\":\"2229\",\"type\":\"Scatter\"},{\"attributes\":{\"fill_alpha\":{\"value\":0.1},\"fill_color\":{\"value\":\"#fc4f30\"},\"line_alpha\":{\"value\":0.1},\"line_color\":{\"value\":\"#fc4f30\"},\"size\":{\"value\":5.477225575051661},\"x\":{\"field\":\"principal component 1\"},\"y\":{\"field\":\"principal component 2\"}},\"id\":\"2230\",\"type\":\"Scatter\"},{\"attributes\":{},\"id\":\"2188\",\"type\":\"WheelZoomTool\"},{\"attributes\":{\"source\":{\"id\":\"2226\"}},\"id\":\"2233\",\"type\":\"CDSView\"},{\"attributes\":{\"axis\":{\"id\":\"2178\"},\"grid_line_color\":null,\"ticker\":null},\"id\":\"2181\",\"type\":\"Grid\"},{\"attributes\":{\"fill_alpha\":{\"value\":0.2},\"fill_color\":{\"value\":\"#fc4f30\"},\"line_alpha\":{\"value\":0.2},\"line_color\":{\"value\":\"#fc4f30\"},\"size\":{\"value\":5.477225575051661},\"x\":{\"field\":\"principal component 1\"},\"y\":{\"field\":\"principal component 2\"}},\"id\":\"2231\",\"type\":\"Scatter\"},{\"attributes\":{},\"id\":\"2183\",\"type\":\"BasicTicker\"},{\"attributes\":{\"angle\":{\"value\":0.0},\"fill_alpha\":{\"value\":1.0},\"fill_color\":{\"value\":\"#e5ae38\"},\"hatch_alpha\":{\"value\":1.0},\"hatch_color\":{\"value\":\"black\"},\"hatch_scale\":{\"value\":12.0},\"hatch_weight\":{\"value\":1.0},\"line_alpha\":{\"value\":1.0},\"line_cap\":{\"value\":\"butt\"},\"line_color\":{\"value\":\"#e5ae38\"},\"line_dash\":{\"value\":[]},\"line_dash_offset\":{\"value\":0},\"line_join\":{\"value\":\"bevel\"},\"line_width\":{\"value\":1},\"marker\":{\"value\":\"circle\"},\"size\":{\"value\":5.477225575051661},\"x\":{\"field\":\"principal component 1\"},\"y\":{\"field\":\"principal component 2\"}},\"id\":\"2271\",\"type\":\"Scatter\"},{\"attributes\":{},\"id\":\"2187\",\"type\":\"PanTool\"},{\"attributes\":{\"axis_label\":\"principal component 2\",\"formatter\":{\"id\":\"2202\"},\"major_label_policy\":{\"id\":\"2204\"},\"ticker\":{\"id\":\"2183\"}},\"id\":\"2182\",\"type\":\"LinearAxis\"},{\"attributes\":{},\"id\":\"2249\",\"type\":\"Selection\"},{\"attributes\":{\"fill_alpha\":{\"value\":0.2},\"fill_color\":{\"value\":\"#30a2da\"},\"line_alpha\":{\"value\":0.2},\"line_color\":{\"value\":\"#30a2da\"},\"size\":{\"value\":5.477225575051661},\"x\":{\"field\":\"principal component 1\"},\"y\":{\"field\":\"principal component 2\"}},\"id\":\"2210\",\"type\":\"Scatter\"},{\"attributes\":{\"active_multi\":null,\"tools\":[{\"id\":\"2166\"},{\"id\":\"2186\"},{\"id\":\"2187\"},{\"id\":\"2188\"},{\"id\":\"2189\"},{\"id\":\"2190\"}]},\"id\":\"2192\",\"type\":\"Toolbar\"},{\"attributes\":{\"fill_color\":{\"value\":\"#e5ae38\"},\"line_color\":{\"value\":\"#e5ae38\"},\"size\":{\"value\":5.477225575051661},\"x\":{\"field\":\"principal component 1\"},\"y\":{\"field\":\"principal component 2\"}},\"id\":\"2251\",\"type\":\"Scatter\"},{\"attributes\":{\"children\":[{\"id\":\"2163\"},{\"id\":\"2169\"},{\"id\":\"2398\"}],\"margin\":[0,0,0,0],\"name\":\"Row03881\",\"tags\":[\"embedded\"]},\"id\":\"2162\",\"type\":\"Row\"},{\"attributes\":{\"data_source\":{\"id\":\"2248\"},\"glyph\":{\"id\":\"2251\"},\"hover_glyph\":null,\"muted_glyph\":{\"id\":\"2253\"},\"nonselection_glyph\":{\"id\":\"2252\"},\"selection_glyph\":{\"id\":\"2271\"},\"view\":{\"id\":\"2255\"}},\"id\":\"2254\",\"type\":\"GlyphRenderer\"},{\"attributes\":{},\"id\":\"2186\",\"type\":\"SaveTool\"},{\"attributes\":{\"label\":{\"value\":\"2\"},\"renderers\":[{\"id\":\"2254\"}]},\"id\":\"2270\",\"type\":\"LegendItem\"},{\"attributes\":{\"overlay\":{\"id\":\"2191\"}},\"id\":\"2189\",\"type\":\"BoxZoomTool\"},{\"attributes\":{},\"id\":\"2190\",\"type\":\"ResetTool\"},{\"attributes\":{\"data\":{\"class\":{\"__ndarray__\":\"AgAAAAIAAAACAAAAAgAAAAIAAAACAAAAAgAAAAIAAAACAAAAAgAAAAIAAAACAAAAAgAAAAIAAAACAAAAAgAAAAIAAAACAAAAAgAAAAIAAAACAAAAAgAAAAIAAAACAAAAAgAAAAIAAAACAAAAAgAAAAIAAAACAAAAAgAAAAIAAAACAAAAAgAAAAIAAAACAAAAAgAAAAIAAAACAAAAAgAAAAIAAAACAAAAAgAAAAIAAAACAAAAAgAAAAIAAAA=\",\"dtype\":\"int32\",\"order\":\"little\",\"shape\":[47]},\"principal component 1\":{\"__ndarray__\":\"dpicP/Wp8T/qdLjqfHDnP0tUdjeu3/M/kX2nUXn15z+Bt9eWSwfsPwTqCkTLn+c/aokX1wP06z/sYaNJSxH0PxhwyrRZu/U/YSqW1lWi2z+mboqoZcrwP2RoZCMRkP0/X6OtkJqmAUCvkwP82gT3P8Sof1zh4v0/dUK5SJgIBkDnZzhbjmwCQPYm68uNAwBAI09oqvMjAkBui3vYw9r1P64QOb/Elfk/O66UReUl/j8a0QQIDXj5P3odkBhdivc/Q/YnSsB/A0A1hisDH3kKQJjn9rPvUgBAOi4taDwvB0BDqLnnkUT7P6wJnj3aUv8/H9Lu7wVR8D+f2hYHfpP8P4MbVl0h1v0/i/hsDuZ7A0A1tjE3VocCQGstB9QUxP0/j042KVhoBkCy+a/eUEj5P/DOTXR+jfU/PwUQICao/T8PDMQGFyEAQLtqwqkqc/4/Og5TGLJYAEC6eb2NdgMAQPHgNY2o7f0/+YJComFV+D8O9OTEsgX2Pw==\",\"dtype\":\"float64\",\"order\":\"little\",\"shape\":[47]},\"principal component 2\":{\"__ndarray__\":\"3Xb2/Z2e6z8dPDfKBSjjP9zNPSGgrOM/tV+rWRnr6D9lOXqk51HgP5JBqiETwtk/YZ7yIJwL0D8IiLBClya1v0QteShkC9U/Egg+Gkhd6z/Bk6QJ17XgP4Msy2Xw5Os/CsTpFji+4T+olDOr+pqpv+9EGSLnotI/ogetLdY66T9SO0mDhTXaP7SQnq/nKee/wo2XATu+/j82oQKF0jTmP3B9L85taNu/cKdDi22E2j8zfGgVRqrlPzM3rDJONNA/gzlsMT10BECdjKQTDFhjv0R0hSJpCe0/a5KR42l12T+SWt+y8znwP5+AK36oDfA/Zaj7cmzHsD/vvEvBKb3Iv5HkXX2vxeE/0F7ipF+Szz8m4TWwbAIFQJmBO1NYo8e/TCs1XS0I6z+mj2oE2yjxPx38A+M9Bts/v6TAq3yE5T/b+zteX4jjP+N2Ilnq8+U/uyJfoH+r6z8+eOdp3MbwP/xDMiongNg/e9tvjSkT0T8gLdG5BEPwPw==\",\"dtype\":\"float64\",\"order\":\"little\",\"shape\":[47]},\"principal_component_1\":{\"__ndarray__\":\"dpicP/Wp8T/qdLjqfHDnP0tUdjeu3/M/kX2nUXn15z+Bt9eWSwfsPwTqCkTLn+c/aokX1wP06z/sYaNJSxH0PxhwyrRZu/U/YSqW1lWi2z+mboqoZcrwP2RoZCMRkP0/X6OtkJqmAUCvkwP82gT3P8Sof1zh4v0/dUK5SJgIBkDnZzhbjmwCQPYm68uNAwBAI09oqvMjAkBui3vYw9r1P64QOb/Elfk/O66UReUl/j8a0QQIDXj5P3odkBhdivc/Q/YnSsB/A0A1hisDH3kKQJjn9rPvUgBAOi4taDwvB0BDqLnnkUT7P6wJnj3aUv8/H9Lu7wVR8D+f2hYHfpP8P4MbVl0h1v0/i/hsDuZ7A0A1tjE3VocCQGstB9QUxP0/j042KVhoBkCy+a/eUEj5P/DOTXR+jfU/PwUQICao/T8PDMQGFyEAQLtqwqkqc/4/Og5TGLJYAEC6eb2NdgMAQPHgNY2o7f0/+YJComFV+D8O9OTEsgX2Pw==\",\"dtype\":\"float64\",\"order\":\"little\",\"shape\":[47]},\"principal_component_2\":{\"__ndarray__\":\"3Xb2/Z2e6z8dPDfKBSjjP9zNPSGgrOM/tV+rWRnr6D9lOXqk51HgP5JBqiETwtk/YZ7yIJwL0D8IiLBClya1v0QteShkC9U/Egg+Gkhd6z/Bk6QJ17XgP4Msy2Xw5Os/CsTpFji+4T+olDOr+pqpv+9EGSLnotI/ogetLdY66T9SO0mDhTXaP7SQnq/nKee/wo2XATu+/j82oQKF0jTmP3B9L85taNu/cKdDi22E2j8zfGgVRqrlPzM3rDJONNA/gzlsMT10BECdjKQTDFhjv0R0hSJpCe0/a5KR42l12T+SWt+y8znwP5+AK36oDfA/Zaj7cmzHsD/vvEvBKb3Iv5HkXX2vxeE/0F7ipF+Szz8m4TWwbAIFQJmBO1NYo8e/TCs1XS0I6z+mj2oE2yjxPx38A+M9Bts/v6TAq3yE5T/b+zteX4jjP+N2Ilnq8+U/uyJfoH+r6z8+eOdp3MbwP/xDMiongNg/e9tvjSkT0T8gLdG5BEPwPw==\",\"dtype\":\"float64\",\"order\":\"little\",\"shape\":[47]}},\"selected\":{\"id\":\"2249\"},\"selection_policy\":{\"id\":\"2269\"}},\"id\":\"2248\",\"type\":\"ColumnDataSource\"},{\"attributes\":{},\"id\":\"2245\",\"type\":\"UnionRenderers\"},{\"attributes\":{\"margin\":[5,5,5,5],\"name\":\"HSpacer03886\",\"sizing_mode\":\"stretch_width\"},\"id\":\"2398\",\"type\":\"Spacer\"},{\"attributes\":{\"fill_alpha\":{\"value\":0.1},\"fill_color\":{\"value\":\"#e5ae38\"},\"line_alpha\":{\"value\":0.1},\"line_color\":{\"value\":\"#e5ae38\"},\"size\":{\"value\":5.477225575051661},\"x\":{\"field\":\"principal component 1\"},\"y\":{\"field\":\"principal component 2\"}},\"id\":\"2252\",\"type\":\"Scatter\"},{\"attributes\":{\"fill_alpha\":{\"value\":0.2},\"fill_color\":{\"value\":\"#e5ae38\"},\"line_alpha\":{\"value\":0.2},\"line_color\":{\"value\":\"#e5ae38\"},\"size\":{\"value\":5.477225575051661},\"x\":{\"field\":\"principal component 1\"},\"y\":{\"field\":\"principal component 2\"}},\"id\":\"2253\",\"type\":\"Scatter\"},{\"attributes\":{},\"id\":\"2206\",\"type\":\"Selection\"},{\"attributes\":{\"below\":[{\"id\":\"2178\"}],\"center\":[{\"id\":\"2181\"},{\"id\":\"2185\"}],\"height\":300,\"left\":[{\"id\":\"2182\"}],\"margin\":[5,5,5,5],\"min_border_bottom\":10,\"min_border_left\":10,\"min_border_right\":10,\"min_border_top\":10,\"renderers\":[{\"id\":\"2211\"},{\"id\":\"2232\"},{\"id\":\"2254\"}],\"right\":[{\"id\":\"2223\"}],\"sizing_mode\":\"fixed\",\"title\":{\"id\":\"2170\"},\"toolbar\":{\"id\":\"2192\"},\"width\":700,\"x_range\":{\"id\":\"2164\"},\"x_scale\":{\"id\":\"2174\"},\"y_range\":{\"id\":\"2165\"},\"y_scale\":{\"id\":\"2176\"}},\"id\":\"2169\",\"subtype\":\"Figure\",\"type\":\"Plot\"},{\"attributes\":{},\"id\":\"2199\",\"type\":\"BasicTickFormatter\"},{\"attributes\":{\"source\":{\"id\":\"2205\"}},\"id\":\"2212\",\"type\":\"CDSView\"},{\"attributes\":{\"data_source\":{\"id\":\"2205\"},\"glyph\":{\"id\":\"2208\"},\"hover_glyph\":null,\"muted_glyph\":{\"id\":\"2210\"},\"nonselection_glyph\":{\"id\":\"2209\"},\"selection_glyph\":{\"id\":\"2225\"},\"view\":{\"id\":\"2212\"}},\"id\":\"2211\",\"type\":\"GlyphRenderer\"},{\"attributes\":{\"end\":3.5698545102352774,\"reset_end\":3.5698545102352774,\"reset_start\":-3.034883121264354,\"start\":-3.034883121264354,\"tags\":[[[\"principal component 1\",\"principal component 1\",null]]]},\"id\":\"2164\",\"type\":\"Range1d\"},{\"attributes\":{\"margin\":[5,5,5,5],\"name\":\"HSpacer03885\",\"sizing_mode\":\"stretch_width\"},\"id\":\"2163\",\"type\":\"Spacer\"},{\"attributes\":{},\"id\":\"2201\",\"type\":\"AllLabels\"},{\"attributes\":{\"data\":{\"class\":{\"__ndarray__\":\"AAAAAAAAAAAAAAAAAAAAAAAAAAAAAAAAAAAAAAAAAAAAAAAAAAAAAAAAAAAAAAAAAAAAAAAAAAAAAAAAAAAAAAAAAAAAAAAAAAAAAAAAAAAAAAAAAAAAAAAAAAAAAAAAAAAAAAAAAAAAAAAAAAAAAAAAAAAAAAAAAAAAAAAAAAAAAAAAAAAAAAAAAAAAAAAAAAAAAAAAAAAAAAAAAAAAAAAAAAAAAAAAAAAAAAAAAAAAAAAAAAAAAAAAAAAAAAAAAAAAAAAAAAA=\",\"dtype\":\"int32\",\"order\":\"little\",\"shape\":[50]},\"principal component 1\":{\"__ndarray__\":\"RxG/DcgdAsChflXa/7AAwDEtSgGQ8QLArnjV6/5uAsCAOOBfNxwDwLMJAJp1kADA7lhZG9GQA8C6vPx66N4BwLvvZ05UvALA5dUzb2iCAcDHACQK0k4BwICPWzp4ngLAbUHW4evKAcB0YBiPIx4FwONkYiHQiQHA7sLFMQADAsDEicmkO58BwNXnRqd8hQHAFLKL2CBO/r9xMd43N7gCwDsu6+IFov6/K3pNIB2jAcAlHszufzEGwHWyHOBnIP2/dG9EsmPTAcBrStBn+E//v+oJWiugagDA0hcE6nVYAcD16Z27WB8BwCYNM3l7JgLA4OURJwwoAcCzCNRTnk/9v3mUD3eZ3QTAyIxIYeyAA8Dl1TNvaIIBwAjB4qBfsAHAqgtPDPdaAMDl1TNvaIIBwKHdMoLUfAPAViP02UddAcA+4QHLzkoCwGRzDEaD8v2/Yvlj5HF2BMD9iQQfsG3/v/qHnMYlEQHAoe7lFFWaAMDT+qMb0QwDwJNmoB9/LwPALZosq3LQAcDfjpZMy6UBwA==\",\"dtype\":\"float64\",\"order\":\"little\",\"shape\":[50]},\"principal component 2\":{\"__ndarray__\":\"aO9787ku4D/2F8lWE/nkv2vYpqjuYdS/DySQjGlp4r/X0afLsZflP72+IZP5S/g/SSSoGooWsz98eXQ10LHPP9AIOjG4hfG/iE6pnFa23L9qMKXTKCHxPzS/qP2XTMQ/pqo3kBix5r+IiXLvZwbuv96ryBtaPf4/lbWrfGrHBUBkjF03Ujj4Pzj+/04udeA/9Uk0V9Tl9j8ppZIPTofyP3DAlsG9jNs/3/KSxId67j9Eu+o4P1TfPyrWDBwFVLs/Uu1BJITCxD+3YRod23Pjv2+qjuRgBtE/cYxIfx6q4T/hGaA2hIvVP15BWpX4JtS/RgayRej43r8Tlx54QH/cP7pxJTRvQf0/xrJwma57AUCITqmcVrbcvxjn16FhmMe/tOVDvSnr5T+ITqmcVrbcv3rEP1q7Ouy/e0SP1gm80j9ZwmaGk/PdP4B/28YcnwLApu8l3FML3b9qssu+Q9XfP+7eGJkvvvI/+4wv2S8k5r9VqsG4/WjyP9SttwhpMde/ee6vZGBo8D/r7UmWeoGgPw==\",\"dtype\":\"float64\",\"order\":\"little\",\"shape\":[50]},\"principal_component_1\":{\"__ndarray__\":\"RxG/DcgdAsChflXa/7AAwDEtSgGQ8QLArnjV6/5uAsCAOOBfNxwDwLMJAJp1kADA7lhZG9GQA8C6vPx66N4BwLvvZ05UvALA5dUzb2iCAcDHACQK0k4BwICPWzp4ngLAbUHW4evKAcB0YBiPIx4FwONkYiHQiQHA7sLFMQADAsDEicmkO58BwNXnRqd8hQHAFLKL2CBO/r9xMd43N7gCwDsu6+IFov6/K3pNIB2jAcAlHszufzEGwHWyHOBnIP2/dG9EsmPTAcBrStBn+E//v+oJWiugagDA0hcE6nVYAcD16Z27WB8BwCYNM3l7JgLA4OURJwwoAcCzCNRTnk/9v3mUD3eZ3QTAyIxIYeyAA8Dl1TNvaIIBwAjB4qBfsAHAqgtPDPdaAMDl1TNvaIIBwKHdMoLUfAPAViP02UddAcA+4QHLzkoCwGRzDEaD8v2/Yvlj5HF2BMD9iQQfsG3/v/qHnMYlEQHAoe7lFFWaAMDT+qMb0QwDwJNmoB9/LwPALZosq3LQAcDfjpZMy6UBwA==\",\"dtype\":\"float64\",\"order\":\"little\",\"shape\":[50]},\"principal_component_2\":{\"__ndarray__\":\"aO9787ku4D/2F8lWE/nkv2vYpqjuYdS/DySQjGlp4r/X0afLsZflP72+IZP5S/g/SSSoGooWsz98eXQ10LHPP9AIOjG4hfG/iE6pnFa23L9qMKXTKCHxPzS/qP2XTMQ/pqo3kBix5r+IiXLvZwbuv96ryBtaPf4/lbWrfGrHBUBkjF03Ujj4Pzj+/04udeA/9Uk0V9Tl9j8ppZIPTofyP3DAlsG9jNs/3/KSxId67j9Eu+o4P1TfPyrWDBwFVLs/Uu1BJITCxD+3YRod23Pjv2+qjuRgBtE/cYxIfx6q4T/hGaA2hIvVP15BWpX4JtS/RgayRej43r8Tlx54QH/cP7pxJTRvQf0/xrJwma57AUCITqmcVrbcvxjn16FhmMe/tOVDvSnr5T+ITqmcVrbcv3rEP1q7Ouy/e0SP1gm80j9ZwmaGk/PdP4B/28YcnwLApu8l3FML3b9qssu+Q9XfP+7eGJkvvvI/+4wv2S8k5r9VqsG4/WjyP9SttwhpMde/ee6vZGBo8D/r7UmWeoGgPw==\",\"dtype\":\"float64\",\"order\":\"little\",\"shape\":[50]}},\"selected\":{\"id\":\"2206\"},\"selection_policy\":{\"id\":\"2222\"}},\"id\":\"2205\",\"type\":\"ColumnDataSource\"},{\"attributes\":{\"click_policy\":\"mute\",\"items\":[{\"id\":\"2224\"},{\"id\":\"2246\"},{\"id\":\"2270\"}],\"location\":[0,0],\"title\":\"class\"},\"id\":\"2223\",\"type\":\"Legend\"},{\"attributes\":{},\"id\":\"2204\",\"type\":\"AllLabels\"},{\"attributes\":{\"fill_color\":{\"value\":\"#30a2da\"},\"line_color\":{\"value\":\"#30a2da\"},\"size\":{\"value\":5.477225575051661},\"x\":{\"field\":\"principal component 1\"},\"y\":{\"field\":\"principal component 2\"}},\"id\":\"2208\",\"type\":\"Scatter\"},{\"attributes\":{},\"id\":\"2202\",\"type\":\"BasicTickFormatter\"},{\"attributes\":{\"data\":{\"class\":{\"__ndarray__\":\"AQAAAAEAAAABAAAAAQAAAAEAAAABAAAAAQAAAAEAAAABAAAAAQAAAAEAAAABAAAAAQAAAAEAAAABAAAAAQAAAAEAAAABAAAAAQAAAAEAAAABAAAAAQAAAAEAAAABAAAAAQAAAAEAAAABAAAAAQAAAAEAAAABAAAAAQAAAAEAAAABAAAAAQAAAAEAAAABAAAAAQAAAAEAAAABAAAAAQAAAAEAAAABAAAAAQAAAAEAAAABAAAAAQAAAAEAAAABAAAAAQAAAAEAAAABAAAAAQAAAAEAAAA=\",\"dtype\":\"int32\",\"order\":\"little\",\"shape\":[53]},\"principal component 1\":{\"__ndarray__\":\"fhWMhntt2T9KnJZFWCnxP2eBHlf2mtg/9P4dZv7c3790GywXnaPtPy+/kDZaWXQ/Ht6FPizsv7+xz+h8JxTcP1pNsk78puE/PEUqJwTz5j/Sz63ghxOjv5Vu06S8RdY/4rIv7V2iwz9o6iTH4XHzPyrYZACmFsQ/XK1SDE473j8SyjX41qXzP4wxy7fjI+Q/HtCK7kVq5j8fhVUnIzDlP9Ab1FJINai/Sj98rN0cvz8lkFg5BOqMPyDf6GWaNc4/D81ZRTXo8D+dsJMoZVfMP9Kbvwf1kvA/ql4TnFcrsT9zNwN1kKDRP8Z9yQ7wbdE/po3+VwPx4z+23kvRzh7VP9HEFNWD6de/1iTllsIb0j8uX21EL8y2PwQkQhu5t8w/9gRG5kBd4j/jjFDrsj/dv96A0gDGJNA/318IKHdz8j/yoUp+m+/WP1v35HGkDPQ/HOKIxsts9z/+RPpdThD0P4titwdQKu8/9YqkmmBE9T9jfP3wHsDyP+D2a9zEx/E/KjazatUo8z+ZvvFQw4ztP99fCCh3c/I/StVbMZXv+D852SvtkrLuPw==\",\"dtype\":\"float64\",\"order\":\"little\",\"shape\":[53]},\"principal component 2\":{\"__ndarray__\":\"ls0hw3Uh/L+OAFcJ4hrLv/QVlNb76eK/aZSza/eU/b9QjGFUCw+fP+rLA01tePC/94KEXbZDBcDC9gYTsCWuv03NqHx+XPy/3Hstxk+8x78zLLY26rLbvxW+JkVKZsi/mYnUeJ9N6b9m5T6HOSL6v8FAi9CC2fS/uQipiLWp2r9Kr8dW+Rvuv+vFU70Krdq/CjfCViNBsL9oGdg+X7fMv2oFEZBX6vC/cMJ8cXkE+b9x1i92nSz5v0eekB1e1Oi/ES0SzX5h5L+Cbj2aaPnRv76Ls++KR/a/lsdo/yc3y79CZwsN7Ub1vyoJ/oM76fG/zsUd1SI0nD9u68QlE6Xvv9HC5Ku5JADAqks7dJBT67+xjkY+Z2PGv1L2R1TcWdi/gTq1mhitw7+5+86JpaH4v6h6HI5KEeO/UghbdkNx5r9Dlg29Jfb4v5QxaImirfK/sq9g7els3L9VKnQyOXv7v0rNWXwPR+K/SGwdsBUn37/I2YlbzWjUvwGUgLFv8dK/T6/b9jwm6r81AFtSILGTP1IIW3ZDcea/xlrVOlT47L+SCiw2mtGWvw==\",\"dtype\":\"float64\",\"order\":\"little\",\"shape\":[53]},\"principal_component_1\":{\"__ndarray__\":\"fhWMhntt2T9KnJZFWCnxP2eBHlf2mtg/9P4dZv7c3790GywXnaPtPy+/kDZaWXQ/Ht6FPizsv7+xz+h8JxTcP1pNsk78puE/PEUqJwTz5j/Sz63ghxOjv5Vu06S8RdY/4rIv7V2iwz9o6iTH4XHzPyrYZACmFsQ/XK1SDE473j8SyjX41qXzP4wxy7fjI+Q/HtCK7kVq5j8fhVUnIzDlP9Ab1FJINai/Sj98rN0cvz8lkFg5BOqMPyDf6GWaNc4/D81ZRTXo8D+dsJMoZVfMP9Kbvwf1kvA/ql4TnFcrsT9zNwN1kKDRP8Z9yQ7wbdE/po3+VwPx4z+23kvRzh7VP9HEFNWD6de/1iTllsIb0j8uX21EL8y2PwQkQhu5t8w/9gRG5kBd4j/jjFDrsj/dv96A0gDGJNA/318IKHdz8j/yoUp+m+/WP1v35HGkDPQ/HOKIxsts9z/+RPpdThD0P4titwdQKu8/9YqkmmBE9T9jfP3wHsDyP+D2a9zEx/E/KjazatUo8z+ZvvFQw4ztP99fCCh3c/I/StVbMZXv+D852SvtkrLuPw==\",\"dtype\":\"float64\",\"order\":\"little\",\"shape\":[53]},\"principal_component_2\":{\"__ndarray__\":\"ls0hw3Uh/L+OAFcJ4hrLv/QVlNb76eK/aZSza/eU/b9QjGFUCw+fP+rLA01tePC/94KEXbZDBcDC9gYTsCWuv03NqHx+XPy/3Hstxk+8x78zLLY26rLbvxW+JkVKZsi/mYnUeJ9N6b9m5T6HOSL6v8FAi9CC2fS/uQipiLWp2r9Kr8dW+Rvuv+vFU70Krdq/CjfCViNBsL9oGdg+X7fMv2oFEZBX6vC/cMJ8cXkE+b9x1i92nSz5v0eekB1e1Oi/ES0SzX5h5L+Cbj2aaPnRv76Ls++KR/a/lsdo/yc3y79CZwsN7Ub1vyoJ/oM76fG/zsUd1SI0nD9u68QlE6Xvv9HC5Ku5JADAqks7dJBT67+xjkY+Z2PGv1L2R1TcWdi/gTq1mhitw7+5+86JpaH4v6h6HI5KEeO/UghbdkNx5r9Dlg29Jfb4v5QxaImirfK/sq9g7els3L9VKnQyOXv7v0rNWXwPR+K/SGwdsBUn37/I2YlbzWjUvwGUgLFv8dK/T6/b9jwm6r81AFtSILGTP1IIW3ZDcea/xlrVOlT47L+SCiw2mtGWvw==\",\"dtype\":\"float64\",\"order\":\"little\",\"shape\":[53]}},\"selected\":{\"id\":\"2227\"},\"selection_policy\":{\"id\":\"2245\"}},\"id\":\"2226\",\"type\":\"ColumnDataSource\"},{\"attributes\":{\"fill_alpha\":{\"value\":0.1},\"fill_color\":{\"value\":\"#30a2da\"},\"line_alpha\":{\"value\":0.1},\"line_color\":{\"value\":\"#30a2da\"},\"size\":{\"value\":5.477225575051661},\"x\":{\"field\":\"principal component 1\"},\"y\":{\"field\":\"principal component 2\"}},\"id\":\"2209\",\"type\":\"Scatter\"},{\"attributes\":{\"end\":3.260414452028094,\"reset_end\":3.260414452028094,\"reset_start\":-3.1961060534153853,\"start\":-3.1961060534153853,\"tags\":[[[\"principal component 2\",\"principal component 2\",null]]]},\"id\":\"2165\",\"type\":\"Range1d\"},{\"attributes\":{\"label\":{\"value\":\"0\"},\"renderers\":[{\"id\":\"2211\"}]},\"id\":\"2224\",\"type\":\"LegendItem\"},{\"attributes\":{\"callback\":null,\"renderers\":[{\"id\":\"2211\"},{\"id\":\"2232\"},{\"id\":\"2254\"}],\"tags\":[\"hv_created\"],\"tooltips\":[[\"class\",\"@{class}\"],[\"principal component 1\",\"@{principal_component_1}\"],[\"principal component 2\",\"@{principal_component_2}\"]]},\"id\":\"2166\",\"type\":\"HoverTool\"}],\"root_ids\":[\"2162\"]},\"title\":\"Bokeh Application\",\"version\":\"2.3.0\"}};\n",
       "    var render_items = [{\"docid\":\"1f93f547-fe6c-4bec-a640-468cf5c2de6d\",\"root_ids\":[\"2162\"],\"roots\":{\"2162\":\"cc3d8057-657b-4d39-855a-a355055d965c\"}}];\n",
       "    root.Bokeh.embed.embed_items_notebook(docs_json, render_items);\n",
       "  }\n",
       "  if (root.Bokeh !== undefined && root.Bokeh.Panel !== undefined) {\n",
       "    embed_document(root);\n",
       "  } else {\n",
       "    var attempts = 0;\n",
       "    var timer = setInterval(function(root) {\n",
       "      if (root.Bokeh !== undefined && root.Bokeh.Panel !== undefined) {\n",
       "        clearInterval(timer);\n",
       "        embed_document(root);\n",
       "      } else if (document.readyState == \"complete\") {\n",
       "        attempts++;\n",
       "        if (attempts > 100) {\n",
       "          clearInterval(timer);\n",
       "          console.log(\"Bokeh: ERROR: Unable to run BokehJS code because BokehJS library is missing\");\n",
       "        }\n",
       "      }\n",
       "    }, 10, root)\n",
       "  }\n",
       "})(window);</script>"
      ],
      "text/plain": [
       ":NdOverlay   [class]\n",
       "   :Scatter   [principal component 1]   (principal component 2,class)"
      ]
     },
     "execution_count": 61,
     "metadata": {
      "application/vnd.holoviews_exec.v0+json": {
       "id": "2162"
      }
     },
     "output_type": "execute_result"
    }
   ],
   "source": [
    "# plot: since there are only 2 features, 2d works\n",
    "\n",
    "df_iris_pca.hvplot.scatter(\n",
    "\tx=\"principal component 1\",\n",
    "\ty=\"principal component 2\",\n",
    "\thover_cols=[\"class\"],\n",
    "\tby=\"class\",\n",
    ")"
   ]
  },
  {
   "cell_type": "code",
   "execution_count": null,
   "metadata": {},
   "outputs": [],
   "source": []
  }
 ],
 "metadata": {
  "kernelspec": {
   "display_name": "PythonData",
   "language": "python",
   "name": "pythondata"
  },
  "language_info": {
   "codemirror_mode": {
    "name": "ipython",
    "version": 3
   },
   "file_extension": ".py",
   "mimetype": "text/x-python",
   "name": "python",
   "nbconvert_exporter": "python",
   "pygments_lexer": "ipython3",
   "version": "3.8.3"
  }
 },
 "nbformat": 4,
 "nbformat_minor": 4
}
